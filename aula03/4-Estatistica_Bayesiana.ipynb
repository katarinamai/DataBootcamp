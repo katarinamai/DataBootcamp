{
 "cells": [
  {
   "cell_type": "markdown",
   "metadata": {},
   "source": [
    "# Teoria de Bayes\n",
    "\n",
    "Tudo que vimos até agora é uma estatística frequentista, ou seja, que leva em conta uma frequência de acontecimentos para tornar uma hipótese válida. A estatística bayesiana consiste em usar a semelhança entre eventos anteriores para avaliar uma hipótese.\n",
    "\n",
    "Para Bayes, é usado a probabilidade que conhecemos aplicada a um evento com base em outros eventos que já ocorreram. Caso você tenha um evento aleatório, você pode refinar a probabilidade desse evento ocorrer usando Bayes de acordo com novas observações sobre o evento."
   ]
  },
  {
   "cell_type": "markdown",
   "metadata": {},
   "source": [
    "## Inferência bayesiana\n",
    "\n",
    "Vamos pensar no seguinte problema: um teste para covid.\n",
    "\n",
    "**Qual a chance de uma pessoa que fez o teste para covid e deu positivo realmente ter covid?**\n",
    "\n",
    "De acordo com Bayes é calculado através da seguinte fórmula:\n",
    "\n",
    "![bayes](https://databootcamp.nyc3.digitaloceanspaces.com/img/bayes.png)\n",
    "\n",
    "Em que **A** é o evento do paciente ter covid e **B** é o evento do teste ter dado positivo.\n",
    "\n",
    "Com essa fórmula vamos calcular **P(A|B)** que é a chance de quem fez o teste e deu postivo realmente ter covid."
   ]
  },
  {
   "cell_type": "markdown",
   "metadata": {},
   "source": [
    "### A priori e A posteriori\n",
    "\n",
    "Vamos dizer que *a priori* você já saiba que as seguintes probabilidades:\n",
    "\n",
    "1. 0.25% das pessoas que foram identificadas com covid, não têm covid (**p_b_ac**)\n",
    "2. Suponha que a parcela da população que realmente possui covid é 0.2% (**p_a**)"
   ]
  },
  {
   "cell_type": "markdown",
   "metadata": {},
   "source": [
    "De acordo com o item 1, sabemos a priori que 99,75% das pessoas que foram identificadas com covid têm covid **p_b_a**, mas precisamos entender a posteriori qual será a probabilidade dele ter covid e fazer o teste e dar positivo **p_a_b**"
   ]
  },
  {
   "cell_type": "code",
   "execution_count": 5,
   "metadata": {},
   "outputs": [],
   "source": [
    "p_b_ac = 0.0025"
   ]
  },
  {
   "cell_type": "code",
   "execution_count": 6,
   "metadata": {},
   "outputs": [
    {
     "data": {
      "text/plain": [
       "0.9975"
      ]
     },
     "execution_count": 6,
     "metadata": {},
     "output_type": "execute_result"
    }
   ],
   "source": [
    "p_b_a = 1 - p_b_ac\n",
    "p_b_a"
   ]
  },
  {
   "cell_type": "markdown",
   "metadata": {},
   "source": [
    "Então na fórmula chamamos **p_a** da parcela da população que possui covid e temos o valor de 2% no item 2"
   ]
  },
  {
   "cell_type": "code",
   "execution_count": 4,
   "metadata": {},
   "outputs": [
    {
     "data": {
      "text/plain": [
       "0.002"
      ]
     },
     "execution_count": 4,
     "metadata": {},
     "output_type": "execute_result"
    }
   ],
   "source": [
    "p_a = 0.002\n",
    "p_a"
   ]
  },
  {
   "cell_type": "markdown",
   "metadata": {},
   "source": [
    "Como temos a parcela que possui covid, temos também a parcela complementar, ou seja, que não possui covid. Ela precisa ser **1 - p_a** porque o somatório das probabilidades precisa ser 1"
   ]
  },
  {
   "cell_type": "code",
   "execution_count": 7,
   "metadata": {},
   "outputs": [
    {
     "data": {
      "text/plain": [
       "0.998"
      ]
     },
     "execution_count": 7,
     "metadata": {},
     "output_type": "execute_result"
    }
   ],
   "source": [
    "p_ac = 1 - p_a # 98%\n",
    "p_ac"
   ]
  },
  {
   "cell_type": "markdown",
   "metadata": {},
   "source": [
    "A probabilidade de um evento ter dado positivo **p_b** vai ser a soma da probabilidade de todas as probabilidades possíveis para que o teste dê positivo"
   ]
  },
  {
   "cell_type": "code",
   "execution_count": 10,
   "metadata": {},
   "outputs": [
    {
     "data": {
      "text/plain": [
       "0.004490000000000001"
      ]
     },
     "execution_count": 10,
     "metadata": {},
     "output_type": "execute_result"
    }
   ],
   "source": [
    "p_b = (p_b_a * p_a) + (p_b_ac * p_ac)\n",
    "p_b"
   ]
  },
  {
   "cell_type": "markdown",
   "metadata": {},
   "source": [
    "## <font color='blue'>Você consegue dizer qual a probabilidade a posteriori?</font>\n",
    "\n",
    "Qual a chance de uma pessoa que fez o teste para covid e deu positivo realmente ter covid?\n",
    "\n",
    "![alt text](https://databootcamp.nyc3.digitaloceanspaces.com/img/atrasada-relogio-pulso-1116-1400x800.jpg)"
   ]
  },
  {
   "cell_type": "code",
   "execution_count": 1,
   "metadata": {},
   "outputs": [],
   "source": [
    "#solução"
   ]
  },
  {
   "cell_type": "code",
   "execution_count": null,
   "metadata": {},
   "outputs": [],
   "source": []
  }
 ],
 "metadata": {
  "kernelspec": {
   "display_name": "conda_python3",
   "language": "python",
   "name": "conda_python3"
  },
  "language_info": {
   "codemirror_mode": {
    "name": "ipython",
    "version": 3
   },
   "file_extension": ".py",
   "mimetype": "text/x-python",
   "name": "python",
   "nbconvert_exporter": "python",
   "pygments_lexer": "ipython3",
   "version": "3.6.10"
  }
 },
 "nbformat": 4,
 "nbformat_minor": 4
}
