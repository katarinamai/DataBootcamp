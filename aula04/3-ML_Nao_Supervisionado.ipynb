{
 "cells": [
  {
   "cell_type": "markdown",
   "metadata": {},
   "source": [
    "# Aprendizado não-supervisionado"
   ]
  },
  {
   "cell_type": "code",
   "execution_count": 1,
   "metadata": {},
   "outputs": [
    {
     "data": {
      "text/html": [
       "<div>\n",
       "<style scoped>\n",
       "    .dataframe tbody tr th:only-of-type {\n",
       "        vertical-align: middle;\n",
       "    }\n",
       "\n",
       "    .dataframe tbody tr th {\n",
       "        vertical-align: top;\n",
       "    }\n",
       "\n",
       "    .dataframe thead th {\n",
       "        text-align: right;\n",
       "    }\n",
       "</style>\n",
       "<table border=\"1\" class=\"dataframe\">\n",
       "  <thead>\n",
       "    <tr style=\"text-align: right;\">\n",
       "      <th></th>\n",
       "      <th>PassengerId</th>\n",
       "      <th>Survived</th>\n",
       "      <th>Pclass</th>\n",
       "      <th>Name</th>\n",
       "      <th>Sex</th>\n",
       "      <th>Age</th>\n",
       "      <th>SibSp</th>\n",
       "      <th>Parch</th>\n",
       "      <th>Ticket</th>\n",
       "      <th>Fare</th>\n",
       "      <th>Cabin</th>\n",
       "      <th>Embarked</th>\n",
       "      <th>Relatives</th>\n",
       "      <th>AgeRange</th>\n",
       "      <th>AgeNotNull</th>\n",
       "      <th>AgeFillNaSexMean</th>\n",
       "    </tr>\n",
       "  </thead>\n",
       "  <tbody>\n",
       "    <tr>\n",
       "      <th>0</th>\n",
       "      <td>1</td>\n",
       "      <td>0</td>\n",
       "      <td>3</td>\n",
       "      <td>Braund, Mr. Owen Harris</td>\n",
       "      <td>male</td>\n",
       "      <td>22.0</td>\n",
       "      <td>1</td>\n",
       "      <td>0</td>\n",
       "      <td>A/5 21171</td>\n",
       "      <td>7.2500</td>\n",
       "      <td>NaN</td>\n",
       "      <td>S</td>\n",
       "      <td>1</td>\n",
       "      <td>adulto</td>\n",
       "      <td>22.0</td>\n",
       "      <td>22.0</td>\n",
       "    </tr>\n",
       "    <tr>\n",
       "      <th>1</th>\n",
       "      <td>2</td>\n",
       "      <td>1</td>\n",
       "      <td>1</td>\n",
       "      <td>Cumings, Mrs. John Bradley (Florence Briggs Th...</td>\n",
       "      <td>female</td>\n",
       "      <td>38.0</td>\n",
       "      <td>1</td>\n",
       "      <td>0</td>\n",
       "      <td>PC 17599</td>\n",
       "      <td>71.2833</td>\n",
       "      <td>C85</td>\n",
       "      <td>C</td>\n",
       "      <td>1</td>\n",
       "      <td>adulto</td>\n",
       "      <td>38.0</td>\n",
       "      <td>38.0</td>\n",
       "    </tr>\n",
       "    <tr>\n",
       "      <th>2</th>\n",
       "      <td>3</td>\n",
       "      <td>1</td>\n",
       "      <td>3</td>\n",
       "      <td>Heikkinen, Miss. Laina</td>\n",
       "      <td>female</td>\n",
       "      <td>26.0</td>\n",
       "      <td>0</td>\n",
       "      <td>0</td>\n",
       "      <td>STON/O2. 3101282</td>\n",
       "      <td>7.9250</td>\n",
       "      <td>NaN</td>\n",
       "      <td>S</td>\n",
       "      <td>0</td>\n",
       "      <td>adulto</td>\n",
       "      <td>26.0</td>\n",
       "      <td>26.0</td>\n",
       "    </tr>\n",
       "    <tr>\n",
       "      <th>3</th>\n",
       "      <td>4</td>\n",
       "      <td>1</td>\n",
       "      <td>1</td>\n",
       "      <td>Futrelle, Mrs. Jacques Heath (Lily May Peel)</td>\n",
       "      <td>female</td>\n",
       "      <td>35.0</td>\n",
       "      <td>1</td>\n",
       "      <td>0</td>\n",
       "      <td>113803</td>\n",
       "      <td>53.1000</td>\n",
       "      <td>C123</td>\n",
       "      <td>S</td>\n",
       "      <td>1</td>\n",
       "      <td>adulto</td>\n",
       "      <td>35.0</td>\n",
       "      <td>35.0</td>\n",
       "    </tr>\n",
       "    <tr>\n",
       "      <th>4</th>\n",
       "      <td>5</td>\n",
       "      <td>0</td>\n",
       "      <td>3</td>\n",
       "      <td>Allen, Mr. William Henry</td>\n",
       "      <td>male</td>\n",
       "      <td>35.0</td>\n",
       "      <td>0</td>\n",
       "      <td>0</td>\n",
       "      <td>373450</td>\n",
       "      <td>8.0500</td>\n",
       "      <td>NaN</td>\n",
       "      <td>S</td>\n",
       "      <td>0</td>\n",
       "      <td>adulto</td>\n",
       "      <td>35.0</td>\n",
       "      <td>35.0</td>\n",
       "    </tr>\n",
       "  </tbody>\n",
       "</table>\n",
       "</div>"
      ],
      "text/plain": [
       "   PassengerId  Survived  Pclass  \\\n",
       "0            1         0       3   \n",
       "1            2         1       1   \n",
       "2            3         1       3   \n",
       "3            4         1       1   \n",
       "4            5         0       3   \n",
       "\n",
       "                                                Name     Sex   Age  SibSp  \\\n",
       "0                            Braund, Mr. Owen Harris    male  22.0      1   \n",
       "1  Cumings, Mrs. John Bradley (Florence Briggs Th...  female  38.0      1   \n",
       "2                             Heikkinen, Miss. Laina  female  26.0      0   \n",
       "3       Futrelle, Mrs. Jacques Heath (Lily May Peel)  female  35.0      1   \n",
       "4                           Allen, Mr. William Henry    male  35.0      0   \n",
       "\n",
       "   Parch            Ticket     Fare Cabin Embarked  Relatives AgeRange  \\\n",
       "0      0         A/5 21171   7.2500   NaN        S          1   adulto   \n",
       "1      0          PC 17599  71.2833   C85        C          1   adulto   \n",
       "2      0  STON/O2. 3101282   7.9250   NaN        S          0   adulto   \n",
       "3      0            113803  53.1000  C123        S          1   adulto   \n",
       "4      0            373450   8.0500   NaN        S          0   adulto   \n",
       "\n",
       "   AgeNotNull  AgeFillNaSexMean  \n",
       "0        22.0              22.0  \n",
       "1        38.0              38.0  \n",
       "2        26.0              26.0  \n",
       "3        35.0              35.0  \n",
       "4        35.0              35.0  "
      ]
     },
     "execution_count": 1,
     "metadata": {},
     "output_type": "execute_result"
    }
   ],
   "source": [
    "import pandas\n",
    "titanic = pandas.read_csv(\"https://databootcamp.nyc3.digitaloceanspaces.com/titanic_3.csv\")\n",
    "\n",
    "titanic.head()"
   ]
  },
  {
   "cell_type": "markdown",
   "metadata": {},
   "source": [
    "## Distâncias\n",
    "\n",
    "Vamos analisar o conceito de distância inicialmente! Esse conceito é usado por muitos dos algoritmos de aprendizado não supervisionado.\n",
    "\n",
    "Vamos imaginar um conjunto de dados que pode ser representado por dois valores numéricos, $X_1$ e $X_2$"
   ]
  },
  {
   "cell_type": "markdown",
   "metadata": {},
   "source": [
    "Vamos ver esses dados em um gráfico com os valores indicando suas posições"
   ]
  },
  {
   "cell_type": "code",
   "execution_count": 2,
   "metadata": {},
   "outputs": [
    {
     "data": {
      "text/html": [
       "<div>\n",
       "<style scoped>\n",
       "    .dataframe tbody tr th:only-of-type {\n",
       "        vertical-align: middle;\n",
       "    }\n",
       "\n",
       "    .dataframe tbody tr th {\n",
       "        vertical-align: top;\n",
       "    }\n",
       "\n",
       "    .dataframe thead th {\n",
       "        text-align: right;\n",
       "    }\n",
       "</style>\n",
       "<table border=\"1\" class=\"dataframe\">\n",
       "  <thead>\n",
       "    <tr style=\"text-align: right;\">\n",
       "      <th></th>\n",
       "      <th>X1</th>\n",
       "      <th>X2</th>\n",
       "    </tr>\n",
       "  </thead>\n",
       "  <tbody>\n",
       "    <tr>\n",
       "      <th>0</th>\n",
       "      <td>1.0</td>\n",
       "      <td>2.0</td>\n",
       "    </tr>\n",
       "    <tr>\n",
       "      <th>1</th>\n",
       "      <td>2.0</td>\n",
       "      <td>1.0</td>\n",
       "    </tr>\n",
       "    <tr>\n",
       "      <th>2</th>\n",
       "      <td>2.0</td>\n",
       "      <td>3.2</td>\n",
       "    </tr>\n",
       "    <tr>\n",
       "      <th>3</th>\n",
       "      <td>3.0</td>\n",
       "      <td>2.5</td>\n",
       "    </tr>\n",
       "    <tr>\n",
       "      <th>4</th>\n",
       "      <td>4.0</td>\n",
       "      <td>1.0</td>\n",
       "    </tr>\n",
       "    <tr>\n",
       "      <th>5</th>\n",
       "      <td>1.2</td>\n",
       "      <td>1.0</td>\n",
       "    </tr>\n",
       "    <tr>\n",
       "      <th>6</th>\n",
       "      <td>0.2</td>\n",
       "      <td>7.3</td>\n",
       "    </tr>\n",
       "  </tbody>\n",
       "</table>\n",
       "</div>"
      ],
      "text/plain": [
       "    X1   X2\n",
       "0  1.0  2.0\n",
       "1  2.0  1.0\n",
       "2  2.0  3.2\n",
       "3  3.0  2.5\n",
       "4  4.0  1.0\n",
       "5  1.2  1.0\n",
       "6  0.2  7.3"
      ]
     },
     "execution_count": 2,
     "metadata": {},
     "output_type": "execute_result"
    }
   ],
   "source": [
    "dados_teste = [[1,2],\n",
    "                [2,1],\n",
    "                [2,3.2],\n",
    "                [3,2.5],\n",
    "                [4,1],\n",
    "                [1.2,1],\n",
    "                [0.2,7.3]]\n",
    "\n",
    "dados = pandas.DataFrame(dados_teste,columns=[\"X1\", \"X2\"])\n",
    "dados"
   ]
  },
  {
   "cell_type": "markdown",
   "metadata": {},
   "source": [
    "Vamos colocar esses pontos em um gráfico para ilustrar como estão espalhados"
   ]
  },
  {
   "cell_type": "code",
   "execution_count": 3,
   "metadata": {},
   "outputs": [
    {
     "data": {
      "text/plain": [
       "[<matplotlib.lines.Line2D at 0x7f597f764a20>]"
      ]
     },
     "execution_count": 3,
     "metadata": {},
     "output_type": "execute_result"
    },
    {
     "data": {
      "image/png": "[encoded data removed]",
      "text/plain": [
       "<Figure size 432x288 with 1 Axes>"
      ]
     },
     "metadata": {
      "needs_background": "light"
     },
     "output_type": "display_data"
    }
   ],
   "source": [
    "from matplotlib import pyplot\n",
    "\n",
    "pyplot.plot(dados[\"X1\"], dados[\"X2\"], \"o\")"
   ]
  },
  {
   "cell_type": "markdown",
   "metadata": {},
   "source": [
    "Podemos ver visualmente que existe uma distância a ser medida entre esses pontos. Podemos medir essas distâncias de algumas formas. Vamos ver 2 delas."
   ]
  },
  {
   "cell_type": "markdown",
   "metadata": {},
   "source": [
    "### Euclidiana\n",
    "\n",
    "A distância euclidiana é a distância direta entre dois pontos no espaço. Ela é bem útil para medir uma distância direta entre um ponto e outro e será usada no algoritmo KMeans que vamos ver a seguir.\n",
    "\n",
    "![euclidean](https://databootcamp.nyc3.digitaloceanspaces.com/img/distance.jpg)\n",
    "\n",
    "Quão mais perto de zero, menor a distância entre os pontos."
   ]
  },
  {
   "cell_type": "markdown",
   "metadata": {},
   "source": [
    "Nesse caso, com apenas duas colunas, podemos medir a distância entre dois pontos visualmente.\n",
    "A distância em linha reta desses pontos pode ser calculada a partir da fórmula da **distância euclidiana**\n",
    "\n",
    "$D(a,b) = \\sqrt{(a_{x1} - b_{x1})^2 + (a_{x2} - b_{x2})^2}$\n",
    "\n",
    "Vamos fazer então a função que calcula a distância euclidiana"
   ]
  },
  {
   "cell_type": "code",
   "execution_count": 4,
   "metadata": {},
   "outputs": [],
   "source": [
    "def dist(a,b):\n",
    "    return ( (a[0]-b[0])**2 + (a[1]-b[1])**2 )**0.5"
   ]
  },
  {
   "cell_type": "code",
   "execution_count": 5,
   "metadata": {},
   "outputs": [
    {
     "name": "stdout",
     "output_type": "stream",
     "text": [
      "A distância de [1, 2] a [2, 3.2] é 1.562049935181331\n"
     ]
    }
   ],
   "source": [
    "dado_a = dados_teste[0]\n",
    "dado_b = dados_teste[2]\n",
    "d_ab = dist(dado_a,dado_b)\n",
    "\n",
    "print(f\"A distância de {dado_a} a {dado_b} é {d_ab}\")"
   ]
  },
  {
   "cell_type": "markdown",
   "metadata": {},
   "source": [
    "Esse é o caso de um dado com dois atributos (duas dimensões). Podemos generalizar o cálculo para a quantidade de dimensões da coluna. A distância de duas colunas que tem $n$ atributos é\n",
    "\n",
    "$D(a,b) = \\sqrt{ \\sum_{i=1}^{n}{(a_{xi} - b_{xi})^2}}$\n",
    "\n",
    "Com isso conseguimos implementar essa generalização"
   ]
  },
  {
   "cell_type": "code",
   "execution_count": 6,
   "metadata": {},
   "outputs": [],
   "source": [
    "def dist_n(a,b):\n",
    "    somatorio = 0.0\n",
    "    for i in range(len(a)):\n",
    "        somatorio = somatorio + (a[i]-b[i])**2\n",
    "    return somatorio**0.5"
   ]
  },
  {
   "cell_type": "markdown",
   "metadata": {},
   "source": [
    "Para as mesmas listas temos uma distância zerada, pois são iguais"
   ]
  },
  {
   "cell_type": "code",
   "execution_count": 7,
   "metadata": {},
   "outputs": [
    {
     "data": {
      "text/plain": [
       "0.0"
      ]
     },
     "execution_count": 7,
     "metadata": {},
     "output_type": "execute_result"
    }
   ],
   "source": [
    "dist_n([1, 2],[1, 2])"
   ]
  },
  {
   "cell_type": "markdown",
   "metadata": {},
   "source": [
    "Podemos validar a distância entre as nossas 2 colunas"
   ]
  },
  {
   "cell_type": "code",
   "execution_count": 8,
   "metadata": {},
   "outputs": [
    {
     "data": {
      "text/plain": [
       "7.946068210127573"
      ]
     },
     "execution_count": 8,
     "metadata": {},
     "output_type": "execute_result"
    }
   ],
   "source": [
    "dist_n(dados[\"X1\"], dados[\"X2\"])"
   ]
  },
  {
   "cell_type": "markdown",
   "metadata": {},
   "source": [
    "No **Sklearn** temos a distância euclidiana já implementada que é muito mais robusta que a nossa, mas ela espera que várias colunas sejam passadas, então precisamos passar uma lista"
   ]
  },
  {
   "cell_type": "code",
   "execution_count": 9,
   "metadata": {},
   "outputs": [],
   "source": [
    "from sklearn.metrics.pairwise import paired_distances"
   ]
  },
  {
   "cell_type": "code",
   "execution_count": 10,
   "metadata": {},
   "outputs": [
    {
     "data": {
      "text/plain": [
       "array([7.94606821])"
      ]
     },
     "execution_count": 10,
     "metadata": {},
     "output_type": "execute_result"
    }
   ],
   "source": [
    "paired_distances([dados[\"X1\"]], [dados[\"X2\"]])"
   ]
  },
  {
   "cell_type": "markdown",
   "metadata": {},
   "source": [
    "## <font color='blue'>Encontre a distância euclidiana entre a coluna *SibSp* e *Relatives* no Titanic</font>\n",
    "\n",
    "![alt text](https://databootcamp.nyc3.digitaloceanspaces.com/img/atrasada-relogio-pulso-1116-1400x800.jpg)"
   ]
  },
  {
   "cell_type": "code",
   "execution_count": 11,
   "metadata": {},
   "outputs": [
    {
     "name": "stdout",
     "output_type": "stream",
     "text": [
      "0.0\n",
      "26.60826939130014\n"
     ]
    }
   ],
   "source": [
    "#solução\n",
    "print(dist(titanic.SibSp, titanic.Relatives))\n",
    "print(dist_n(titanic.SibSp, titanic.Relatives))"
   ]
  },
  {
   "cell_type": "markdown",
   "metadata": {},
   "source": [
    "### Cosseno\n",
    "\n",
    "A similaridade entre os cossenos também é muito utilizada em muitos algoritmos de Machine Learning não supervisionados. Muitos deles normalmente algoritmos de recomendação.\n",
    "\n",
    "Diferente da distância euclidiana, essa métrica não está interessada na magnetude da distância, mas somente com a diferença dos ângulos dos vetores (que são suas colunas ou linhas).\n",
    "\n",
    "O que vemos normalmente é a similaridade dos cossenos e a distância nada mais é do que $1-similaridade$\n",
    "\n",
    "![similarity_cos](https://databootcamp.nyc3.digitaloceanspaces.com/img/cosine.png)\n",
    "\n",
    "Quão mais perto de zero, menor a distância entre os pontos, enquanto que mais perto de 1, maior a distância."
   ]
  },
  {
   "cell_type": "markdown",
   "metadata": {},
   "source": [
    "Como essa distância utiliza multiplicação matricial, utilizaremos o **Numpy** para ajudar a fazer a fórmula, primeiro da similaridade"
   ]
  },
  {
   "cell_type": "code",
   "execution_count": 12,
   "metadata": {},
   "outputs": [],
   "source": [
    "import numpy\n",
    "\n",
    "def cos_similaridade(a, b):\n",
    "    dot_product = numpy.dot(a, b)\n",
    "    norm_a = numpy.linalg.norm(a)\n",
    "    norm_b = numpy.linalg.norm(b)\n",
    "    return dot_product / (norm_a * norm_b)"
   ]
  },
  {
   "cell_type": "markdown",
   "metadata": {},
   "source": [
    "E depois a distância dos cossenos"
   ]
  },
  {
   "cell_type": "code",
   "execution_count": 13,
   "metadata": {},
   "outputs": [],
   "source": [
    "def cos_distancia(a, b):\n",
    "    return 1 - cos_similaridade(a, b)"
   ]
  },
  {
   "cell_type": "code",
   "execution_count": 14,
   "metadata": {},
   "outputs": [
    {
     "data": {
      "text/plain": [
       "0.4705572867345715"
      ]
     },
     "execution_count": 14,
     "metadata": {},
     "output_type": "execute_result"
    }
   ],
   "source": [
    "cos_similaridade(dados[\"X1\"], dados[\"X2\"])"
   ]
  },
  {
   "cell_type": "code",
   "execution_count": 15,
   "metadata": {},
   "outputs": [
    {
     "data": {
      "text/plain": [
       "0.5294427132654285"
      ]
     },
     "execution_count": 15,
     "metadata": {},
     "output_type": "execute_result"
    }
   ],
   "source": [
    "cos_distancia(dados[\"X1\"], dados[\"X2\"])"
   ]
  },
  {
   "cell_type": "markdown",
   "metadata": {},
   "source": [
    "No **Sklearn** temos a distância dos cossenos já implementada também com a mesma função, mas usando o argumento de métrica como \"cosine\". Por padrão ele usa a euclidiana."
   ]
  },
  {
   "cell_type": "code",
   "execution_count": 16,
   "metadata": {},
   "outputs": [
    {
     "data": {
      "text/plain": [
       "array([0.52944271])"
      ]
     },
     "execution_count": 16,
     "metadata": {},
     "output_type": "execute_result"
    }
   ],
   "source": [
    "paired_distances([dados[\"X1\"]], [dados[\"X2\"]], \"cosine\")"
   ]
  },
  {
   "cell_type": "markdown",
   "metadata": {},
   "source": [
    "## <font color='blue'>Encontre a distância dos cossenos entre a coluna *SibSp* e *Relatives* no Titanic</font>\n",
    "\n",
    "![alt text](https://databootcamp.nyc3.digitaloceanspaces.com/img/atrasada-relogio-pulso-1116-1400x800.jpg)"
   ]
  },
  {
   "cell_type": "code",
   "execution_count": 17,
   "metadata": {},
   "outputs": [
    {
     "data": {
      "text/plain": [
       "array([0.08843266])"
      ]
     },
     "execution_count": 17,
     "metadata": {},
     "output_type": "execute_result"
    }
   ],
   "source": [
    "#solução\n",
    "paired_distances([titanic.SibSp], [titanic.Relatives], \"cosine\")"
   ]
  },
  {
   "cell_type": "markdown",
   "metadata": {},
   "source": [
    "## K-means\n",
    "\n",
    "K-means é um algoritmo de agrupamento. A idéia é agrupar os dados por **proximidade** a um ponto central. Para falarmos sobre **proximidade** vamos aplicar os conceitos de **distância e similaridade** que vimos previamente. Ele usa um conceito de centróide que precisamos ver rapidamente."
   ]
  },
  {
   "cell_type": "markdown",
   "metadata": {
    "hideOutput": true
   },
   "source": [
    "\n",
    "### Centróide de um grupo\n",
    "\n",
    "**Centróide** é um ponto calculado que representa o centro do conjunto. \n",
    "\n",
    "Um cálculo normal de centroide a média dos atributos. \n",
    "\n",
    "Para entender melhor, vamos calcular o centroid dos dados de teste $X_1$ e $X_2$."
   ]
  },
  {
   "cell_type": "code",
   "execution_count": 18,
   "metadata": {},
   "outputs": [
    {
     "data": {
      "text/html": [
       "<div>\n",
       "<style scoped>\n",
       "    .dataframe tbody tr th:only-of-type {\n",
       "        vertical-align: middle;\n",
       "    }\n",
       "\n",
       "    .dataframe tbody tr th {\n",
       "        vertical-align: top;\n",
       "    }\n",
       "\n",
       "    .dataframe thead th {\n",
       "        text-align: right;\n",
       "    }\n",
       "</style>\n",
       "<table border=\"1\" class=\"dataframe\">\n",
       "  <thead>\n",
       "    <tr style=\"text-align: right;\">\n",
       "      <th></th>\n",
       "      <th>X1</th>\n",
       "      <th>X2</th>\n",
       "    </tr>\n",
       "  </thead>\n",
       "  <tbody>\n",
       "    <tr>\n",
       "      <th>0</th>\n",
       "      <td>1.0</td>\n",
       "      <td>2.0</td>\n",
       "    </tr>\n",
       "    <tr>\n",
       "      <th>1</th>\n",
       "      <td>2.0</td>\n",
       "      <td>1.0</td>\n",
       "    </tr>\n",
       "    <tr>\n",
       "      <th>2</th>\n",
       "      <td>2.0</td>\n",
       "      <td>3.2</td>\n",
       "    </tr>\n",
       "    <tr>\n",
       "      <th>3</th>\n",
       "      <td>3.0</td>\n",
       "      <td>2.5</td>\n",
       "    </tr>\n",
       "    <tr>\n",
       "      <th>4</th>\n",
       "      <td>4.0</td>\n",
       "      <td>1.0</td>\n",
       "    </tr>\n",
       "    <tr>\n",
       "      <th>5</th>\n",
       "      <td>1.2</td>\n",
       "      <td>1.0</td>\n",
       "    </tr>\n",
       "    <tr>\n",
       "      <th>6</th>\n",
       "      <td>0.2</td>\n",
       "      <td>7.3</td>\n",
       "    </tr>\n",
       "  </tbody>\n",
       "</table>\n",
       "</div>"
      ],
      "text/plain": [
       "    X1   X2\n",
       "0  1.0  2.0\n",
       "1  2.0  1.0\n",
       "2  2.0  3.2\n",
       "3  3.0  2.5\n",
       "4  4.0  1.0\n",
       "5  1.2  1.0\n",
       "6  0.2  7.3"
      ]
     },
     "execution_count": 18,
     "metadata": {},
     "output_type": "execute_result"
    }
   ],
   "source": [
    "dados"
   ]
  },
  {
   "cell_type": "markdown",
   "metadata": {},
   "source": [
    "Vamos usar o Método `mean()` da coluna para encontrar a média dos valores"
   ]
  },
  {
   "cell_type": "code",
   "execution_count": 19,
   "metadata": {},
   "outputs": [
    {
     "name": "stdout",
     "output_type": "stream",
     "text": [
      "\n",
      "O centroid dos dados é [[1.9142857142857141],[2.5714285714285716]]\n",
      "\n"
     ]
    }
   ],
   "source": [
    "centroid_x1 = [dados[\"X1\"].mean()]\n",
    "centroid_x2 = [dados[\"X2\"].mean()]\n",
    "print(\"\"\"\n",
    "O centroid dos dados é [{},{}]\n",
    "\"\"\".format(centroid_x1,centroid_x2))"
   ]
  },
  {
   "cell_type": "markdown",
   "metadata": {},
   "source": [
    "Vamos plotar agora o grafico dos pontos para observar o posicionamento do centroid"
   ]
  },
  {
   "cell_type": "code",
   "execution_count": 20,
   "metadata": {},
   "outputs": [
    {
     "data": {
      "text/plain": [
       "[<matplotlib.lines.Line2D at 0x7f597b6010f0>]"
      ]
     },
     "execution_count": 20,
     "metadata": {},
     "output_type": "execute_result"
    },
    {
     "data": {
      "image/png": "[encoded data removed]",
      "text/plain": [
       "<Figure size 432x288 with 1 Axes>"
      ]
     },
     "metadata": {
      "needs_background": "light"
     },
     "output_type": "display_data"
    }
   ],
   "source": [
    "pyplot.plot(dados[\"X1\"],dados[\"X2\"],\"ob\")\n",
    "pyplot.plot(centroid_x1, centroid_x2, \"+r\")"
   ]
  },
  {
   "cell_type": "markdown",
   "metadata": {},
   "source": [
    "Parece realmente representar o centro do conjunto"
   ]
  },
  {
   "cell_type": "markdown",
   "metadata": {},
   "source": [
    "## <font color='blue'>Faça uma função que calcule o centróide de todas as colunas do Titanic</font>\n",
    "![alt text](https://static.vix.com/pt/sites/default/files/styles/large/public/a/atrasada-relogio-pulso-1116-1400x800.jpg?itok=qv3gUH6U)"
   ]
  },
  {
   "cell_type": "code",
   "execution_count": 21,
   "metadata": {},
   "outputs": [],
   "source": [
    "#solução\n",
    "def centroide(df):\n",
    "    return df.mean()\n",
    "    "
   ]
  },
  {
   "cell_type": "code",
   "execution_count": 22,
   "metadata": {},
   "outputs": [
    {
     "data": {
      "text/plain": [
       "PassengerId         446.000000\n",
       "Survived              0.383838\n",
       "Pclass                2.308642\n",
       "Age                  29.699118\n",
       "SibSp                 0.523008\n",
       "Parch                 0.381594\n",
       "Fare                 32.204208\n",
       "Relatives             0.904602\n",
       "AgeNotNull           29.699118\n",
       "AgeFillNaSexMean     29.736034\n",
       "dtype: float64"
      ]
     },
     "execution_count": 22,
     "metadata": {},
     "output_type": "execute_result"
    }
   ],
   "source": [
    "centroide(titanic)"
   ]
  },
  {
   "cell_type": "markdown",
   "metadata": {
    "collapsed": true
   },
   "source": [
    "Agora que sabemos encontrar o centróide de um conjunto, vamos ao conceito do algoritmo de `KMeans`!\n",
    "\n",
    "### O algortimo\n",
    "\n",
    "O objetivo do algoritmo é : Encontrar K clusters (agrupamentos) dos dados.\n",
    "\n",
    "Passo-a-passo: \n",
    "\n",
    "    1. Iniciamos K pontos aleatórios que serão considerados os centróides dos grupos.\n",
    "    \n",
    "    2. A matriz de distâncias é montada. \n",
    "    \n",
    "  Supondo que queremos montar `K` grupos e temos `n` dados \n",
    "    \n",
    "|       | $C_1$      | $C_2$      | ... |   $C_k$    |\n",
    "|-------|------------|------------|-----|------------|\n",
    "| $u_1$ |d($u_1$,$C_1$)|d($u_1$,$C_2$)| ... |d($u_1$,$C_k$)|\n",
    "| $u_2$ |d($u_2$,$C_1$)|d($u_2$,$C_2$)| ... |d($u_2$,$C_k$)|\n",
    "|  ...  |    ...     |     ...    | ... |     ...    |\n",
    "| $u_n$ |d($u_n$,$C_1$)|d($u_n$,$C_2$)| ... |d($u_n$,$C_k$)|\n",
    "\n",
    "   Cada dado $u_i$ é considerado do cluster com menor distância do centróide\n",
    "    \n",
    "    3. O Centróide real dos dados dos grupos é calculado\n",
    "   \n",
    "    4. A matriz de distância é feita de novo, considerando os centroides calculados no passo 3.\n",
    "       \n",
    "       4.1 . Se algum dado mudar de cluster, o algoritmo volta ao passo 2, considerando esses centroides como os K centroides \n",
    "       \n",
    "       4.2 . Se nenhum dado mudar de cluster, o algoritmo assume que encontrou os clusters!\n",
    "\n",
    "\n",
    "![kmeans](https://databootcamp.nyc3.digitaloceanspaces.com/img/K-means_convergence.gif)"
   ]
  },
  {
   "cell_type": "markdown",
   "metadata": {},
   "source": [
    "Vamos agora criar os cluster dos dados fictícios "
   ]
  },
  {
   "cell_type": "code",
   "execution_count": 23,
   "metadata": {},
   "outputs": [],
   "source": [
    "from sklearn.cluster import KMeans\n",
    "\n",
    "kmeans = KMeans(n_clusters=3, random_state=42)\n",
    "model = kmeans.fit(dados)"
   ]
  },
  {
   "cell_type": "markdown",
   "metadata": {},
   "source": [
    "Vamos agora pegar os centróides do modelo e plotar. O **T** é usado para transpor nosso conjunto de dados para facilitar o plot"
   ]
  },
  {
   "cell_type": "code",
   "execution_count": 24,
   "metadata": {},
   "outputs": [],
   "source": [
    "centers = model.cluster_centers_\n",
    "c_to_plot = centers.T"
   ]
  },
  {
   "cell_type": "code",
   "execution_count": 25,
   "metadata": {},
   "outputs": [
    {
     "data": {
      "text/plain": [
       "[<matplotlib.lines.Line2D at 0x7f5976da04e0>]"
      ]
     },
     "execution_count": 25,
     "metadata": {},
     "output_type": "execute_result"
    },
    {
     "data": {
      "image/png": "[encoded data removed]",
      "text/plain": [
       "<Figure size 432x288 with 1 Axes>"
      ]
     },
     "metadata": {
      "needs_background": "light"
     },
     "output_type": "display_data"
    }
   ],
   "source": [
    "pyplot.plot(dados[\"X1\"],dados[\"X2\"],'ob')\n",
    "pyplot.plot(c_to_plot[0],c_to_plot[1],'or')"
   ]
  },
  {
   "cell_type": "markdown",
   "metadata": {},
   "source": [
    "### Agora que já vimos como o KMeans funciona, vamos aplicar para um problema real!\n",
    "\n",
    "Vamos tentar verificar se podemos clusterizar os tripulantes do Titanic escolhendo algumas Features"
   ]
  },
  {
   "cell_type": "code",
   "execution_count": 26,
   "metadata": {},
   "outputs": [
    {
     "data": {
      "text/html": [
       "<div>\n",
       "<style scoped>\n",
       "    .dataframe tbody tr th:only-of-type {\n",
       "        vertical-align: middle;\n",
       "    }\n",
       "\n",
       "    .dataframe tbody tr th {\n",
       "        vertical-align: top;\n",
       "    }\n",
       "\n",
       "    .dataframe thead th {\n",
       "        text-align: right;\n",
       "    }\n",
       "</style>\n",
       "<table border=\"1\" class=\"dataframe\">\n",
       "  <thead>\n",
       "    <tr style=\"text-align: right;\">\n",
       "      <th></th>\n",
       "      <th>Pclass</th>\n",
       "      <th>SibSp</th>\n",
       "      <th>Parch</th>\n",
       "      <th>Relatives</th>\n",
       "      <th>Survived</th>\n",
       "      <th>Fare</th>\n",
       "      <th>Sex_female</th>\n",
       "      <th>Sex_male</th>\n",
       "      <th>Embarked_C</th>\n",
       "      <th>Embarked_Q</th>\n",
       "      <th>Embarked_S</th>\n",
       "    </tr>\n",
       "  </thead>\n",
       "  <tbody>\n",
       "    <tr>\n",
       "      <th>0</th>\n",
       "      <td>3</td>\n",
       "      <td>1</td>\n",
       "      <td>0</td>\n",
       "      <td>1</td>\n",
       "      <td>0</td>\n",
       "      <td>7.2500</td>\n",
       "      <td>0</td>\n",
       "      <td>1</td>\n",
       "      <td>0</td>\n",
       "      <td>0</td>\n",
       "      <td>1</td>\n",
       "    </tr>\n",
       "    <tr>\n",
       "      <th>1</th>\n",
       "      <td>1</td>\n",
       "      <td>1</td>\n",
       "      <td>0</td>\n",
       "      <td>1</td>\n",
       "      <td>1</td>\n",
       "      <td>71.2833</td>\n",
       "      <td>1</td>\n",
       "      <td>0</td>\n",
       "      <td>1</td>\n",
       "      <td>0</td>\n",
       "      <td>0</td>\n",
       "    </tr>\n",
       "    <tr>\n",
       "      <th>2</th>\n",
       "      <td>3</td>\n",
       "      <td>0</td>\n",
       "      <td>0</td>\n",
       "      <td>0</td>\n",
       "      <td>1</td>\n",
       "      <td>7.9250</td>\n",
       "      <td>1</td>\n",
       "      <td>0</td>\n",
       "      <td>0</td>\n",
       "      <td>0</td>\n",
       "      <td>1</td>\n",
       "    </tr>\n",
       "    <tr>\n",
       "      <th>3</th>\n",
       "      <td>1</td>\n",
       "      <td>1</td>\n",
       "      <td>0</td>\n",
       "      <td>1</td>\n",
       "      <td>1</td>\n",
       "      <td>53.1000</td>\n",
       "      <td>1</td>\n",
       "      <td>0</td>\n",
       "      <td>0</td>\n",
       "      <td>0</td>\n",
       "      <td>1</td>\n",
       "    </tr>\n",
       "    <tr>\n",
       "      <th>4</th>\n",
       "      <td>3</td>\n",
       "      <td>0</td>\n",
       "      <td>0</td>\n",
       "      <td>0</td>\n",
       "      <td>0</td>\n",
       "      <td>8.0500</td>\n",
       "      <td>0</td>\n",
       "      <td>1</td>\n",
       "      <td>0</td>\n",
       "      <td>0</td>\n",
       "      <td>1</td>\n",
       "    </tr>\n",
       "  </tbody>\n",
       "</table>\n",
       "</div>"
      ],
      "text/plain": [
       "   Pclass  SibSp  Parch  Relatives  Survived     Fare  Sex_female  Sex_male  \\\n",
       "0       3      1      0          1         0   7.2500           0         1   \n",
       "1       1      1      0          1         1  71.2833           1         0   \n",
       "2       3      0      0          0         1   7.9250           1         0   \n",
       "3       1      1      0          1         1  53.1000           1         0   \n",
       "4       3      0      0          0         0   8.0500           0         1   \n",
       "\n",
       "   Embarked_C  Embarked_Q  Embarked_S  \n",
       "0           0           0           1  \n",
       "1           1           0           0  \n",
       "2           0           0           1  \n",
       "3           0           0           1  \n",
       "4           0           0           1  "
      ]
     },
     "execution_count": 26,
     "metadata": {},
     "output_type": "execute_result"
    }
   ],
   "source": [
    "features = [\n",
    "        \"Pclass\",\n",
    "        \"Sex\",\n",
    "        \"SibSp\",\n",
    "        \"Parch\",\n",
    "        \"Relatives\",\n",
    "        \"Embarked\",\n",
    "        \"Survived\",\n",
    "        \"Fare\"\n",
    "    ]\n",
    "feature_df = pandas.get_dummies(titanic[features])\n",
    "feature_df.head()"
   ]
  },
  {
   "cell_type": "markdown",
   "metadata": {},
   "source": [
    "Como vamos precisar do Scaler também. Precisamos do Scaler porque a medida de distância é muito afetada se não padronizarmos os números."
   ]
  },
  {
   "cell_type": "code",
   "execution_count": 27,
   "metadata": {},
   "outputs": [],
   "source": [
    "from sklearn.preprocessing import StandardScaler"
   ]
  },
  {
   "cell_type": "markdown",
   "metadata": {},
   "source": [
    "Vamos começar com 4 clusters igual fizemos anteriormente com: criança, adolescente, adulto, idoso"
   ]
  },
  {
   "cell_type": "code",
   "execution_count": 28,
   "metadata": {},
   "outputs": [],
   "source": [
    "scaler = StandardScaler()\n",
    "kmeans = KMeans(n_clusters=4, random_state=42)"
   ]
  },
  {
   "cell_type": "code",
   "execution_count": 29,
   "metadata": {},
   "outputs": [
    {
     "data": {
      "text/plain": [
       "(891,)"
      ]
     },
     "execution_count": 29,
     "metadata": {},
     "output_type": "execute_result"
    }
   ],
   "source": [
    "scaled_df = scaler.fit_transform(feature_df)\n",
    "predictions = kmeans.fit_predict(scaled_df)\n",
    "predictions.shape"
   ]
  },
  {
   "cell_type": "markdown",
   "metadata": {},
   "source": [
    "Com isso conseguimos os Clusters que o algoritmo predice"
   ]
  },
  {
   "cell_type": "code",
   "execution_count": 30,
   "metadata": {},
   "outputs": [
    {
     "data": {
      "text/plain": [
       "array([0, 2, 3, 3, 0, 0, 0, 1, 3, 2, 3, 3, 0, 1, 3, 3, 1, 0, 3, 2, 0, 0,\n",
       "       3, 0, 1, 1, 2, 1, 3, 0, 2, 2, 3, 0, 2, 0, 2, 0, 3, 2, 3, 3, 2, 2,\n",
       "       3, 0, 0, 3, 2, 3, 1, 0, 2, 3, 2, 0, 3, 2, 3, 1, 2, 3, 0, 1, 2, 2,\n",
       "       3, 0, 1, 0, 0, 1, 0, 2, 0, 0, 0, 0, 0, 3, 0, 0, 3, 0, 3, 3, 1, 0,\n",
       "       1, 0, 0, 0, 0, 0, 0, 0, 2, 2, 3, 0, 3, 0, 0, 0, 0, 0, 3, 0, 0, 3,\n",
       "       0, 2, 0, 3, 2, 0, 0, 0, 2, 1, 0, 0, 2, 3, 0, 2, 0, 0, 2, 0, 2, 0,\n",
       "       3, 3, 0, 2, 3, 0, 0, 2, 2, 3, 3, 0, 0, 0, 0, 1, 0, 0, 0, 3, 0, 0,\n",
       "       0, 2, 3, 0, 0, 1, 0, 3, 0, 0, 1, 0, 3, 1, 0, 0, 0, 1, 3, 0, 2, 0,\n",
       "       1, 2, 0, 0, 1, 2, 1, 0, 3, 0, 3, 0, 0, 0, 3, 0, 3, 0, 2, 2, 0, 0,\n",
       "       3, 3, 0, 1, 0, 2, 0, 3, 0, 2, 3, 2, 0, 3, 0, 0, 0, 2, 3, 0, 2, 0,\n",
       "       0, 0, 0, 0, 0, 0, 0, 0, 0, 1, 3, 0, 0, 1, 0, 3, 0, 3, 0, 0, 2, 3,\n",
       "       0, 0, 2, 0, 3, 3, 0, 0, 0, 3, 0, 0, 3, 2, 2, 3, 2, 3, 0, 1, 0, 0,\n",
       "       3, 0, 1, 0, 3, 3, 0, 0, 3, 2, 3, 3, 3, 0, 1, 3, 0, 0, 0, 0, 0, 2,\n",
       "       0, 0, 0, 3, 3, 2, 2, 3, 0, 2, 2, 3, 0, 2, 3, 0, 0, 3, 0, 0, 2, 2,\n",
       "       2, 2, 2, 2, 3, 0, 0, 3, 3, 0, 3, 2, 0, 0, 3, 3, 1, 2, 0, 3, 3, 2,\n",
       "       3, 0, 0, 0, 3, 0, 0, 2, 0, 0, 0, 1, 0, 0, 0, 3, 3, 3, 0, 0, 0, 0,\n",
       "       2, 0, 2, 0, 3, 3, 3, 3, 1, 2, 2, 0, 0, 0, 2, 2, 3, 2, 2, 0, 0, 2,\n",
       "       1, 2, 3, 2, 2, 0, 2, 2, 0, 3, 0, 0, 1, 3, 0, 2, 0, 0, 0, 2, 3, 0,\n",
       "       3, 0, 0, 3, 0, 0, 3, 0, 3, 0, 0, 0, 0, 1, 0, 0, 3, 0, 0, 3, 3, 3,\n",
       "       0, 3, 2, 0, 0, 3, 0, 0, 3, 3, 0, 0, 0, 3, 3, 0, 0, 3, 1, 1, 1, 0,\n",
       "       3, 0, 0, 3, 0, 0, 3, 0, 2, 0, 0, 0, 2, 2, 0, 2, 0, 3, 3, 0, 0, 0,\n",
       "       0, 0, 0, 0, 0, 0, 0, 2, 0, 0, 3, 2, 3, 0, 0, 0, 0, 3, 1, 0, 0, 3,\n",
       "       2, 1, 3, 2, 0, 0, 0, 0, 0, 2, 0, 2, 2, 0, 3, 0, 0, 3, 3, 3, 3, 2,\n",
       "       3, 0, 0, 0, 0, 0, 0, 2, 0, 0, 3, 0, 3, 0, 3, 0, 2, 2, 2, 0, 3, 0,\n",
       "       0, 0, 3, 2, 2, 2, 3, 3, 0, 2, 0, 2, 3, 1, 1, 0, 2, 0, 3, 2, 0, 0,\n",
       "       2, 0, 0, 2, 3, 0, 2, 2, 3, 3, 0, 0, 0, 0, 3, 0, 0, 1, 2, 0, 0, 3,\n",
       "       0, 3, 0, 0, 3, 3, 2, 0, 3, 2, 0, 2, 2, 3, 0, 2, 0, 0, 0, 2, 0, 3,\n",
       "       0, 0, 3, 0, 2, 2, 3, 0, 0, 0, 2, 0, 0, 0, 2, 3, 1, 0, 3, 0, 0, 3,\n",
       "       0, 3, 3, 0, 2, 0, 2, 0, 0, 0, 0, 3, 0, 0, 0, 0, 2, 0, 1, 3, 0, 0,\n",
       "       1, 0, 0, 2, 1, 0, 2, 2, 0, 2, 0, 3, 0, 3, 0, 3, 3, 0, 0, 3, 0, 2,\n",
       "       0, 2, 0, 0, 0, 0, 0, 0, 0, 3, 3, 0, 0, 0, 0, 0, 0, 3, 1, 2, 3, 2,\n",
       "       0, 1, 0, 2, 1, 0, 0, 3, 0, 2, 0, 2, 0, 0, 0, 3, 2, 0, 2, 0, 2, 0,\n",
       "       0, 0, 3, 0, 3, 2, 2, 0, 0, 0, 0, 0, 2, 3, 0, 0, 3, 0, 0, 0, 0, 0,\n",
       "       3, 3, 0, 3, 3, 2, 0, 0, 0, 0, 1, 2, 0, 0, 0, 0, 2, 0, 0, 0, 0, 3,\n",
       "       0, 0, 3, 0, 0, 0, 3, 0, 0, 0, 0, 3, 0, 0, 2, 3, 0, 3, 2, 3, 0, 0,\n",
       "       0, 0, 3, 2, 1, 0, 0, 3, 0, 3, 2, 3, 0, 0, 0, 0, 3, 1, 0, 2, 0, 0,\n",
       "       1, 2, 0, 0, 3, 3, 2, 3, 0, 3, 0, 2, 0, 0, 0, 3, 0, 3, 0, 0, 0, 1,\n",
       "       0, 0, 3, 2, 0, 1, 3, 0, 0, 3, 1, 0, 0, 2, 0, 3, 2, 0, 2, 0, 0, 2,\n",
       "       0, 0, 0, 2, 0, 0, 2, 2, 0, 0, 1, 2, 0, 2, 1, 0, 2, 3, 3, 3, 3, 0,\n",
       "       2, 2, 0, 0, 3, 1, 0, 3, 2, 0, 0, 0, 0, 3, 0, 0, 2, 2, 0, 0, 0, 2,\n",
       "       3, 0, 3, 0, 0, 1, 0, 3, 3, 2, 0], dtype=int32)"
      ]
     },
     "execution_count": 30,
     "metadata": {},
     "output_type": "execute_result"
    }
   ],
   "source": [
    "predictions"
   ]
  },
  {
   "cell_type": "markdown",
   "metadata": {},
   "source": [
    "Mas será que isso está certo? Vamos avaliar"
   ]
  },
  {
   "cell_type": "markdown",
   "metadata": {},
   "source": [
    "## Métricas\n",
    "\n",
    "Precisamos saber metrificar os algoritmos não supervisionados também. Como não temos um parâmetro de verdade, as métricas usam outros parâmetros"
   ]
  },
  {
   "cell_type": "markdown",
   "metadata": {},
   "source": [
    "### Inércia\n",
    "\n",
    "A inércia é a métrica mais conhecida de clusters. Ela mede o quão distante os pontos estão do centróides em um cluster. Quão mais próximo de zero, melhor é sua clusterização."
   ]
  },
  {
   "cell_type": "markdown",
   "metadata": {},
   "source": [
    "Para avaliar isso, precisamos olhar no resultado do KMeans."
   ]
  },
  {
   "cell_type": "code",
   "execution_count": 31,
   "metadata": {},
   "outputs": [
    {
     "data": {
      "text/plain": [
       "5163.4612385652745"
      ]
     },
     "execution_count": 31,
     "metadata": {},
     "output_type": "execute_result"
    }
   ],
   "source": [
    "kmeans.inertia_"
   ]
  },
  {
   "cell_type": "markdown",
   "metadata": {},
   "source": [
    "Esse valor parece meio alto... Será que realmente é a melhor quantidade de clusters? Para isso temos o método de **Elbow**."
   ]
  },
  {
   "cell_type": "markdown",
   "metadata": {},
   "source": [
    "### Elbow\n",
    "\n",
    "Método que visa encontrar a melhor quantidade de clusters para um problema. Com isso você pode avaliar se o seu número de clusters realmente era bom. A idea dele é simplesmente iterar sobre vários números possíveis de cluster e avaliar se o valor de **Inércia** cai. A melhor quantidade de clusters normalmente é aonde aparece o \"cotovelo\" (Elbow) do gráfico.\n",
    "\n",
    "![elbow](https://databootcamp.nyc3.digitaloceanspaces.com/img/elbow.png)\n",
    "\n"
   ]
  },
  {
   "cell_type": "code",
   "execution_count": 32,
   "metadata": {},
   "outputs": [],
   "source": [
    "inercias = []\n",
    "clusters = range(2, 50)\n",
    "for k in clusters:\n",
    "    scaler = StandardScaler()\n",
    "    kmeans = KMeans(n_clusters=k, random_state=42)\n",
    "    kmeans.fit_predict(\n",
    "        scaler.fit_transform(feature_df)\n",
    "    )\n",
    "    inercias.append(kmeans.inertia_)\n",
    "\n"
   ]
  },
  {
   "cell_type": "markdown",
   "metadata": {},
   "source": [
    "Tendo calculado os valores de Inércia podemos plotar e descobrir um bom cotovelo (Elbow)"
   ]
  },
  {
   "cell_type": "code",
   "execution_count": 33,
   "metadata": {},
   "outputs": [
    {
     "data": {
      "text/plain": [
       "Text(0.5, 1.0, 'Elbow')"
      ]
     },
     "execution_count": 33,
     "metadata": {},
     "output_type": "execute_result"
    },
    {
     "data": {
      "image/png": "[encoded data removed]",
      "text/plain": [
       "<Figure size 432x288 with 1 Axes>"
      ]
     },
     "metadata": {
      "needs_background": "light"
     },
     "output_type": "display_data"
    }
   ],
   "source": [
    "pyplot.plot(clusters, inercias, \"o\")\n",
    "pyplot.grid(True)\n",
    "pyplot.title('Elbow')"
   ]
  },
  {
   "cell_type": "markdown",
   "metadata": {},
   "source": [
    "Normalmente esse método é bem subjetivo mesmo e podemos ver um bom valor entre 10 e 20 clusters se formos tentar dividir os tripulantes. Mas está bastante subjetivo... Um método mais objetivo é o da Silhueta (**Silhouette**)"
   ]
  },
  {
   "cell_type": "markdown",
   "metadata": {},
   "source": [
    "### Silhouette\n",
    "\n",
    "A Silhueta mede o quanto valores de um cluster estão distantes do outro cluster\n",
    "O valor de Silhueta tem máximo e mínimo, sendo -1 o pior e 1 o melhor. Com isso, conseguimos entender melhor se um resultado é bom ou não.\n",
    "\n",
    "Na fórmula, *a* é a média da distância dentro de um cluster dos outros pontos no mesmo cluster e *b* é a menor distância entre um ponto de um cluster de qualquer outro cluster.\n",
    "\n",
    "$S(i) = (b(i) - a(i)) / max(a(i), b(i))$\n",
    "\n",
    "Isso é feito para cada ponto *i*.\n",
    "\n",
    "Podemos tentar encontrar o melhor número de clusters usando essa métrica para validar dentro do intervalo que encontramos em **Elbow**"
   ]
  },
  {
   "cell_type": "code",
   "execution_count": 34,
   "metadata": {},
   "outputs": [],
   "source": [
    "from sklearn.metrics import silhouette_score"
   ]
  },
  {
   "cell_type": "code",
   "execution_count": 35,
   "metadata": {},
   "outputs": [],
   "source": [
    "silhuetas = []\n",
    "clusters = range(10, 21)\n",
    "for k in clusters:\n",
    "    scaler = StandardScaler()\n",
    "    kmeans = KMeans(n_clusters=k, random_state=42)\n",
    "    predicted = kmeans.fit_predict(\n",
    "        scaler.fit_transform(feature_df)\n",
    "    )\n",
    "    score = silhouette_score(feature_df, predicted)\n",
    "    silhuetas.append(score)\n",
    "\n"
   ]
  },
  {
   "cell_type": "code",
   "execution_count": 36,
   "metadata": {},
   "outputs": [
    {
     "data": {
      "text/plain": [
       "Text(0.5, 1.0, 'Silhouette and Inertia')"
      ]
     },
     "execution_count": 36,
     "metadata": {},
     "output_type": "execute_result"
    },
    {
     "data": {
      "image/png": "[encoded data removed]",
      "text/plain": [
       "<Figure size 432x288 with 1 Axes>"
      ]
     },
     "metadata": {
      "needs_background": "light"
     },
     "output_type": "display_data"
    }
   ],
   "source": [
    "pyplot.plot(clusters, silhuetas)\n",
    "pyplot.grid(True)\n",
    "pyplot.title('Silhouette and Inertia')"
   ]
  },
  {
   "cell_type": "markdown",
   "metadata": {},
   "source": [
    "O melhor valor parece ser realmente com 14 clusters! Mas mesmo assim ainda está bem ruim"
   ]
  },
  {
   "cell_type": "markdown",
   "metadata": {},
   "source": [
    "## <font color='blue'>Vamos usar KMeans para ver quem sobrevive ou não no Titanic!</font>\n",
    "\n",
    "Vamos tentar usar 2 clusters e prever se vive ou não... Será que funciona?\n",
    "![alt text](https://databootcamp.nyc3.digitaloceanspaces.com/img/atrasada-relogio-pulso-1116-1400x800.jpg)"
   ]
  },
  {
   "cell_type": "code",
   "execution_count": 51,
   "metadata": {},
   "outputs": [],
   "source": [
    "#solução\n",
    "from sklearn.cluster import KMeans"
   ]
  },
  {
   "cell_type": "code",
   "execution_count": 52,
   "metadata": {},
   "outputs": [],
   "source": [
    "label = titanic[\"Survived\"]"
   ]
  },
  {
   "cell_type": "code",
   "execution_count": 53,
   "metadata": {},
   "outputs": [],
   "source": [
    "features = [\n",
    "        \"Pclass\",\n",
    "        \"Sex\",\n",
    "        \"SibSp\",\n",
    "        \"Parch\",\n",
    "        \"Relatives\",\n",
    "        \"Embarked\",\n",
    "        \"Survived\",\n",
    "        \"Fare\"\n",
    "    ]\n",
    "feature_df = pandas.get_dummies(titanic[features]) "
   ]
  },
  {
   "cell_type": "code",
   "execution_count": 54,
   "metadata": {},
   "outputs": [],
   "source": [
    "scaler = StandardScaler()\n",
    "kmeans = KMeans(n_clusters = 2, random_state=42)"
   ]
  },
  {
   "cell_type": "code",
   "execution_count": 57,
   "metadata": {},
   "outputs": [
    {
     "data": {
      "text/plain": [
       "KMeans(algorithm='auto', copy_x=True, init='k-means++', max_iter=300,\n",
       "       n_clusters=2, n_init=10, n_jobs=None, precompute_distances='auto',\n",
       "       random_state=42, tol=0.0001, verbose=0)"
      ]
     },
     "execution_count": 57,
     "metadata": {},
     "output_type": "execute_result"
    }
   ],
   "source": [
    "kmeans.fit(feature_df)"
   ]
  },
  {
   "cell_type": "raw",
   "metadata": {},
   "source": [
    "result = "
   ]
  }
 ],
 "metadata": {
  "kernelspec": {
   "display_name": "Python 3",
   "language": "python",
   "name": "python3"
  },
  "language_info": {
   "codemirror_mode": {
    "name": "ipython",
    "version": 3
   },
   "file_extension": ".py",
   "mimetype": "text/x-python",
   "name": "python",
   "nbconvert_exporter": "python",
   "pygments_lexer": "ipython3",
   "version": "3.7.9"
  }
 },
 "nbformat": 4,
 "nbformat_minor": 4
}
