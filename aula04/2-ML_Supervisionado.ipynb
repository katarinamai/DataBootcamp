{
 "cells": [
  {
   "cell_type": "markdown",
   "metadata": {},
   "source": [
    "# Aprendizado Supervisionado\n",
    "\n",
    "É o aprendizado em que passamos para o modelo algumas **features** e **labels** em um treinamento. Depois disso, ele consegue inferir **labels** ainda não conhecidas baseadas em novas **features**.\n"
   ]
  },
  {
   "cell_type": "code",
   "execution_count": 23,
   "metadata": {},
   "outputs": [
    {
     "data": {
      "text/html": [
       "<div>\n",
       "<style scoped>\n",
       "    .dataframe tbody tr th:only-of-type {\n",
       "        vertical-align: middle;\n",
       "    }\n",
       "\n",
       "    .dataframe tbody tr th {\n",
       "        vertical-align: top;\n",
       "    }\n",
       "\n",
       "    .dataframe thead th {\n",
       "        text-align: right;\n",
       "    }\n",
       "</style>\n",
       "<table border=\"1\" class=\"dataframe\">\n",
       "  <thead>\n",
       "    <tr style=\"text-align: right;\">\n",
       "      <th></th>\n",
       "      <th>Pclass</th>\n",
       "      <th>SibSp</th>\n",
       "      <th>Parch</th>\n",
       "      <th>Relatives</th>\n",
       "      <th>Fare</th>\n",
       "      <th>AgeFillNaSexMean</th>\n",
       "      <th>Survived</th>\n",
       "      <th>Sex_female</th>\n",
       "      <th>Embarked_C</th>\n",
       "      <th>Embarked_Q</th>\n",
       "      <th>Embarked_S</th>\n",
       "      <th>AgeRange_adolescente</th>\n",
       "      <th>AgeRange_adulto</th>\n",
       "      <th>AgeRange_criança</th>\n",
       "      <th>AgeRange_idoso</th>\n",
       "      <th>AgeRange_nada</th>\n",
       "      <th>Age</th>\n",
       "    </tr>\n",
       "  </thead>\n",
       "  <tbody>\n",
       "    <tr>\n",
       "      <th>0</th>\n",
       "      <td>3</td>\n",
       "      <td>1</td>\n",
       "      <td>0</td>\n",
       "      <td>1</td>\n",
       "      <td>7.2500</td>\n",
       "      <td>22.0</td>\n",
       "      <td>0</td>\n",
       "      <td>0</td>\n",
       "      <td>0</td>\n",
       "      <td>0</td>\n",
       "      <td>1</td>\n",
       "      <td>0</td>\n",
       "      <td>1</td>\n",
       "      <td>0</td>\n",
       "      <td>0</td>\n",
       "      <td>0</td>\n",
       "      <td>22.0</td>\n",
       "    </tr>\n",
       "    <tr>\n",
       "      <th>1</th>\n",
       "      <td>1</td>\n",
       "      <td>1</td>\n",
       "      <td>0</td>\n",
       "      <td>1</td>\n",
       "      <td>71.2833</td>\n",
       "      <td>38.0</td>\n",
       "      <td>1</td>\n",
       "      <td>1</td>\n",
       "      <td>1</td>\n",
       "      <td>0</td>\n",
       "      <td>0</td>\n",
       "      <td>0</td>\n",
       "      <td>1</td>\n",
       "      <td>0</td>\n",
       "      <td>0</td>\n",
       "      <td>0</td>\n",
       "      <td>38.0</td>\n",
       "    </tr>\n",
       "    <tr>\n",
       "      <th>2</th>\n",
       "      <td>3</td>\n",
       "      <td>0</td>\n",
       "      <td>0</td>\n",
       "      <td>0</td>\n",
       "      <td>7.9250</td>\n",
       "      <td>26.0</td>\n",
       "      <td>1</td>\n",
       "      <td>1</td>\n",
       "      <td>0</td>\n",
       "      <td>0</td>\n",
       "      <td>1</td>\n",
       "      <td>0</td>\n",
       "      <td>1</td>\n",
       "      <td>0</td>\n",
       "      <td>0</td>\n",
       "      <td>0</td>\n",
       "      <td>26.0</td>\n",
       "    </tr>\n",
       "    <tr>\n",
       "      <th>3</th>\n",
       "      <td>1</td>\n",
       "      <td>1</td>\n",
       "      <td>0</td>\n",
       "      <td>1</td>\n",
       "      <td>53.1000</td>\n",
       "      <td>35.0</td>\n",
       "      <td>1</td>\n",
       "      <td>1</td>\n",
       "      <td>0</td>\n",
       "      <td>0</td>\n",
       "      <td>1</td>\n",
       "      <td>0</td>\n",
       "      <td>1</td>\n",
       "      <td>0</td>\n",
       "      <td>0</td>\n",
       "      <td>0</td>\n",
       "      <td>35.0</td>\n",
       "    </tr>\n",
       "    <tr>\n",
       "      <th>4</th>\n",
       "      <td>3</td>\n",
       "      <td>0</td>\n",
       "      <td>0</td>\n",
       "      <td>0</td>\n",
       "      <td>8.0500</td>\n",
       "      <td>35.0</td>\n",
       "      <td>0</td>\n",
       "      <td>0</td>\n",
       "      <td>0</td>\n",
       "      <td>0</td>\n",
       "      <td>1</td>\n",
       "      <td>0</td>\n",
       "      <td>1</td>\n",
       "      <td>0</td>\n",
       "      <td>0</td>\n",
       "      <td>0</td>\n",
       "      <td>35.0</td>\n",
       "    </tr>\n",
       "  </tbody>\n",
       "</table>\n",
       "</div>"
      ],
      "text/plain": [
       "   Pclass  SibSp  Parch  Relatives     Fare  AgeFillNaSexMean  Survived  \\\n",
       "0       3      1      0          1   7.2500              22.0         0   \n",
       "1       1      1      0          1  71.2833              38.0         1   \n",
       "2       3      0      0          0   7.9250              26.0         1   \n",
       "3       1      1      0          1  53.1000              35.0         1   \n",
       "4       3      0      0          0   8.0500              35.0         0   \n",
       "\n",
       "   Sex_female  Embarked_C  Embarked_Q  Embarked_S  AgeRange_adolescente  \\\n",
       "0           0           0           0           1                     0   \n",
       "1           1           1           0           0                     0   \n",
       "2           1           0           0           1                     0   \n",
       "3           1           0           0           1                     0   \n",
       "4           0           0           0           1                     0   \n",
       "\n",
       "   AgeRange_adulto  AgeRange_criança  AgeRange_idoso  AgeRange_nada   Age  \n",
       "0                1                 0               0              0  22.0  \n",
       "1                1                 0               0              0  38.0  \n",
       "2                1                 0               0              0  26.0  \n",
       "3                1                 0               0              0  35.0  \n",
       "4                1                 0               0              0  35.0  "
      ]
     },
     "execution_count": 23,
     "metadata": {},
     "output_type": "execute_result"
    }
   ],
   "source": [
    "import pandas\n",
    "titanic = pandas.read_csv(\"https://databootcamp.nyc3.digitaloceanspaces.com/titanic_4.csv\")\n",
    "titanic.head()"
   ]
  },
  {
   "cell_type": "markdown",
   "metadata": {},
   "source": [
    "## Treino e Teste\n",
    "\n",
    "Para treinar algoritmos de machine learning precisamos dividir nosso dataset entre treino e teste. No treino ele vai aprender o comportamento dos dados para tentar prever no teste as labels. Não podemos passar para o algoritmo todos os dados durante o treinamento porque senão não temos como saber se ele vai conseguir prever dados que ele nunca viu corretamente.\n",
    "\n",
    "![train_test](https://databootcamp.nyc3.digitaloceanspaces.com/img/Train-Test-Data-Split.png)\n",
    "\n",
    "Normalmente utilizamos proporção em que 70% do dado vai para o treino e 30% fica para o teste. Para essa divisão o **Sklearn** já tem uma função pronta."
   ]
  },
  {
   "cell_type": "code",
   "execution_count": 24,
   "metadata": {},
   "outputs": [],
   "source": [
    "from sklearn.model_selection import train_test_split"
   ]
  },
  {
   "cell_type": "markdown",
   "metadata": {},
   "source": [
    "### Vamos determinar que a label seja **Age**"
   ]
  },
  {
   "cell_type": "markdown",
   "metadata": {},
   "source": [
    "Para essa função já temos que passar separadamente o que é **feature** e o que é **label**. Vamos dizer que a nossa label seja o campo **Age** porque vamos querer prever a melhor forma de preencher ele, mas só podemos pegar as idades preenchidas para treinar."
   ]
  },
  {
   "cell_type": "code",
   "execution_count": 25,
   "metadata": {},
   "outputs": [
    {
     "data": {
      "text/plain": [
       "(714, 17)"
      ]
     },
     "execution_count": 25,
     "metadata": {},
     "output_type": "execute_result"
    }
   ],
   "source": [
    "titanic_without_na = titanic.dropna()\n",
    "titanic_without_na.shape"
   ]
  },
  {
   "cell_type": "markdown",
   "metadata": {},
   "source": [
    "Vamos escolher algumas features que **não** tenham relação com **Age**"
   ]
  },
  {
   "cell_type": "code",
   "execution_count": 26,
   "metadata": {},
   "outputs": [],
   "source": [
    "features_cols = [\n",
    "    \"Pclass\",\n",
    "    \"Sex_female\",\n",
    "    \"SibSp\",\n",
    "    \"Parch\",\n",
    "    \"Relatives\",\n",
    "    \"Embarked_C\",\n",
    "    \"Embarked_Q\",\n",
    "    \"Embarked_S\",\n",
    "    \"Fare\",\n",
    "    \"Survived\"\n",
    "]\n",
    "features = titanic_without_na[features_cols]\n",
    "label = titanic_without_na[\"Age\"]"
   ]
  },
  {
   "cell_type": "code",
   "execution_count": 27,
   "metadata": {},
   "outputs": [
    {
     "data": {
      "text/html": [
       "<div>\n",
       "<style scoped>\n",
       "    .dataframe tbody tr th:only-of-type {\n",
       "        vertical-align: middle;\n",
       "    }\n",
       "\n",
       "    .dataframe tbody tr th {\n",
       "        vertical-align: top;\n",
       "    }\n",
       "\n",
       "    .dataframe thead th {\n",
       "        text-align: right;\n",
       "    }\n",
       "</style>\n",
       "<table border=\"1\" class=\"dataframe\">\n",
       "  <thead>\n",
       "    <tr style=\"text-align: right;\">\n",
       "      <th></th>\n",
       "      <th>Pclass</th>\n",
       "      <th>Sex_female</th>\n",
       "      <th>SibSp</th>\n",
       "      <th>Parch</th>\n",
       "      <th>Relatives</th>\n",
       "      <th>Embarked_C</th>\n",
       "      <th>Embarked_Q</th>\n",
       "      <th>Embarked_S</th>\n",
       "      <th>Fare</th>\n",
       "      <th>Survived</th>\n",
       "    </tr>\n",
       "  </thead>\n",
       "  <tbody>\n",
       "    <tr>\n",
       "      <th>0</th>\n",
       "      <td>3</td>\n",
       "      <td>0</td>\n",
       "      <td>1</td>\n",
       "      <td>0</td>\n",
       "      <td>1</td>\n",
       "      <td>0</td>\n",
       "      <td>0</td>\n",
       "      <td>1</td>\n",
       "      <td>7.2500</td>\n",
       "      <td>0</td>\n",
       "    </tr>\n",
       "    <tr>\n",
       "      <th>1</th>\n",
       "      <td>1</td>\n",
       "      <td>1</td>\n",
       "      <td>1</td>\n",
       "      <td>0</td>\n",
       "      <td>1</td>\n",
       "      <td>1</td>\n",
       "      <td>0</td>\n",
       "      <td>0</td>\n",
       "      <td>71.2833</td>\n",
       "      <td>1</td>\n",
       "    </tr>\n",
       "    <tr>\n",
       "      <th>2</th>\n",
       "      <td>3</td>\n",
       "      <td>1</td>\n",
       "      <td>0</td>\n",
       "      <td>0</td>\n",
       "      <td>0</td>\n",
       "      <td>0</td>\n",
       "      <td>0</td>\n",
       "      <td>1</td>\n",
       "      <td>7.9250</td>\n",
       "      <td>1</td>\n",
       "    </tr>\n",
       "    <tr>\n",
       "      <th>3</th>\n",
       "      <td>1</td>\n",
       "      <td>1</td>\n",
       "      <td>1</td>\n",
       "      <td>0</td>\n",
       "      <td>1</td>\n",
       "      <td>0</td>\n",
       "      <td>0</td>\n",
       "      <td>1</td>\n",
       "      <td>53.1000</td>\n",
       "      <td>1</td>\n",
       "    </tr>\n",
       "    <tr>\n",
       "      <th>4</th>\n",
       "      <td>3</td>\n",
       "      <td>0</td>\n",
       "      <td>0</td>\n",
       "      <td>0</td>\n",
       "      <td>0</td>\n",
       "      <td>0</td>\n",
       "      <td>0</td>\n",
       "      <td>1</td>\n",
       "      <td>8.0500</td>\n",
       "      <td>0</td>\n",
       "    </tr>\n",
       "  </tbody>\n",
       "</table>\n",
       "</div>"
      ],
      "text/plain": [
       "   Pclass  Sex_female  SibSp  Parch  Relatives  Embarked_C  Embarked_Q  \\\n",
       "0       3           0      1      0          1           0           0   \n",
       "1       1           1      1      0          1           1           0   \n",
       "2       3           1      0      0          0           0           0   \n",
       "3       1           1      1      0          1           0           0   \n",
       "4       3           0      0      0          0           0           0   \n",
       "\n",
       "   Embarked_S     Fare  Survived  \n",
       "0           1   7.2500         0  \n",
       "1           0  71.2833         1  \n",
       "2           1   7.9250         1  \n",
       "3           1  53.1000         1  \n",
       "4           1   8.0500         0  "
      ]
     },
     "execution_count": 27,
     "metadata": {},
     "output_type": "execute_result"
    }
   ],
   "source": [
    "features.head()"
   ]
  },
  {
   "cell_type": "code",
   "execution_count": 28,
   "metadata": {},
   "outputs": [
    {
     "data": {
      "text/plain": [
       "0    22.0\n",
       "1    38.0\n",
       "2    26.0\n",
       "3    35.0\n",
       "4    35.0\n",
       "Name: Age, dtype: float64"
      ]
     },
     "execution_count": 28,
     "metadata": {},
     "output_type": "execute_result"
    }
   ],
   "source": [
    "label.head()"
   ]
  },
  {
   "cell_type": "markdown",
   "metadata": {},
   "source": [
    "Já aplicamos o Scaler somente nas features para evitar que nossos algoritmos de machine learning se confundam quanto as proporções das features\n",
    "\n",
    "## <font color='blue'>Vocês conseguem aplicar StandardScaler nas features?</font>\n",
    "![alt text](https://databootcamp.nyc3.digitaloceanspaces.com/img/atrasada-relogio-pulso-1116-1400x800.jpg)"
   ]
  },
  {
   "cell_type": "code",
   "execution_count": 113,
   "metadata": {},
   "outputs": [
    {
     "data": {
      "text/html": [
       "<div>\n",
       "<style scoped>\n",
       "    .dataframe tbody tr th:only-of-type {\n",
       "        vertical-align: middle;\n",
       "    }\n",
       "\n",
       "    .dataframe tbody tr th {\n",
       "        vertical-align: top;\n",
       "    }\n",
       "\n",
       "    .dataframe thead th {\n",
       "        text-align: right;\n",
       "    }\n",
       "</style>\n",
       "<table border=\"1\" class=\"dataframe\">\n",
       "  <thead>\n",
       "    <tr style=\"text-align: right;\">\n",
       "      <th></th>\n",
       "      <th>Pclass</th>\n",
       "      <th>SibSp</th>\n",
       "      <th>Parch</th>\n",
       "      <th>Relatives</th>\n",
       "      <th>Fare</th>\n",
       "      <th>AgeFillNaSexMean</th>\n",
       "      <th>Sex_female</th>\n",
       "      <th>Embarked_C</th>\n",
       "      <th>Embarked_Q</th>\n",
       "      <th>Embarked_S</th>\n",
       "      <th>AgeRange_adolescente</th>\n",
       "      <th>AgeRange_adulto</th>\n",
       "      <th>AgeRange_criança</th>\n",
       "      <th>AgeRange_idoso</th>\n",
       "      <th>AgeRange_nada</th>\n",
       "    </tr>\n",
       "  </thead>\n",
       "  <tbody>\n",
       "    <tr>\n",
       "      <th>0</th>\n",
       "      <td>0.827377</td>\n",
       "      <td>0.432793</td>\n",
       "      <td>-0.473674</td>\n",
       "      <td>0.059160</td>\n",
       "      <td>-0.502445</td>\n",
       "      <td>-0.594732</td>\n",
       "      <td>-0.737695</td>\n",
       "      <td>-0.482043</td>\n",
       "      <td>-0.307562</td>\n",
       "      <td>0.619306</td>\n",
       "      <td>-0.246403</td>\n",
       "      <td>0.714262</td>\n",
       "      <td>-0.273476</td>\n",
       "      <td>-0.111803</td>\n",
       "      <td>-0.497895</td>\n",
       "    </tr>\n",
       "    <tr>\n",
       "      <th>1</th>\n",
       "      <td>-1.566107</td>\n",
       "      <td>0.432793</td>\n",
       "      <td>-0.473674</td>\n",
       "      <td>0.059160</td>\n",
       "      <td>0.786845</td>\n",
       "      <td>0.635319</td>\n",
       "      <td>1.355574</td>\n",
       "      <td>2.074505</td>\n",
       "      <td>-0.307562</td>\n",
       "      <td>-1.614710</td>\n",
       "      <td>-0.246403</td>\n",
       "      <td>0.714262</td>\n",
       "      <td>-0.273476</td>\n",
       "      <td>-0.111803</td>\n",
       "      <td>-0.497895</td>\n",
       "    </tr>\n",
       "    <tr>\n",
       "      <th>2</th>\n",
       "      <td>0.827377</td>\n",
       "      <td>-0.474545</td>\n",
       "      <td>-0.473674</td>\n",
       "      <td>-0.560975</td>\n",
       "      <td>-0.488854</td>\n",
       "      <td>-0.287220</td>\n",
       "      <td>1.355574</td>\n",
       "      <td>-0.482043</td>\n",
       "      <td>-0.307562</td>\n",
       "      <td>0.619306</td>\n",
       "      <td>-0.246403</td>\n",
       "      <td>0.714262</td>\n",
       "      <td>-0.273476</td>\n",
       "      <td>-0.111803</td>\n",
       "      <td>-0.497895</td>\n",
       "    </tr>\n",
       "    <tr>\n",
       "      <th>3</th>\n",
       "      <td>-1.566107</td>\n",
       "      <td>0.432793</td>\n",
       "      <td>-0.473674</td>\n",
       "      <td>0.059160</td>\n",
       "      <td>0.420730</td>\n",
       "      <td>0.404684</td>\n",
       "      <td>1.355574</td>\n",
       "      <td>-0.482043</td>\n",
       "      <td>-0.307562</td>\n",
       "      <td>0.619306</td>\n",
       "      <td>-0.246403</td>\n",
       "      <td>0.714262</td>\n",
       "      <td>-0.273476</td>\n",
       "      <td>-0.111803</td>\n",
       "      <td>-0.497895</td>\n",
       "    </tr>\n",
       "    <tr>\n",
       "      <th>4</th>\n",
       "      <td>0.827377</td>\n",
       "      <td>-0.474545</td>\n",
       "      <td>-0.473674</td>\n",
       "      <td>-0.560975</td>\n",
       "      <td>-0.486337</td>\n",
       "      <td>0.404684</td>\n",
       "      <td>-0.737695</td>\n",
       "      <td>-0.482043</td>\n",
       "      <td>-0.307562</td>\n",
       "      <td>0.619306</td>\n",
       "      <td>-0.246403</td>\n",
       "      <td>0.714262</td>\n",
       "      <td>-0.273476</td>\n",
       "      <td>-0.111803</td>\n",
       "      <td>-0.497895</td>\n",
       "    </tr>\n",
       "    <tr>\n",
       "      <th>...</th>\n",
       "      <td>...</td>\n",
       "      <td>...</td>\n",
       "      <td>...</td>\n",
       "      <td>...</td>\n",
       "      <td>...</td>\n",
       "      <td>...</td>\n",
       "      <td>...</td>\n",
       "      <td>...</td>\n",
       "      <td>...</td>\n",
       "      <td>...</td>\n",
       "      <td>...</td>\n",
       "      <td>...</td>\n",
       "      <td>...</td>\n",
       "      <td>...</td>\n",
       "      <td>...</td>\n",
       "    </tr>\n",
       "    <tr>\n",
       "      <th>886</th>\n",
       "      <td>-0.369365</td>\n",
       "      <td>-0.474545</td>\n",
       "      <td>-0.473674</td>\n",
       "      <td>-0.560975</td>\n",
       "      <td>-0.386671</td>\n",
       "      <td>-0.210341</td>\n",
       "      <td>-0.737695</td>\n",
       "      <td>-0.482043</td>\n",
       "      <td>-0.307562</td>\n",
       "      <td>0.619306</td>\n",
       "      <td>-0.246403</td>\n",
       "      <td>0.714262</td>\n",
       "      <td>-0.273476</td>\n",
       "      <td>-0.111803</td>\n",
       "      <td>-0.497895</td>\n",
       "    </tr>\n",
       "    <tr>\n",
       "      <th>887</th>\n",
       "      <td>-1.566107</td>\n",
       "      <td>-0.474545</td>\n",
       "      <td>-0.473674</td>\n",
       "      <td>-0.560975</td>\n",
       "      <td>-0.044381</td>\n",
       "      <td>-0.825367</td>\n",
       "      <td>1.355574</td>\n",
       "      <td>-0.482043</td>\n",
       "      <td>-0.307562</td>\n",
       "      <td>0.619306</td>\n",
       "      <td>-0.246403</td>\n",
       "      <td>0.714262</td>\n",
       "      <td>-0.273476</td>\n",
       "      <td>-0.111803</td>\n",
       "      <td>-0.497895</td>\n",
       "    </tr>\n",
       "    <tr>\n",
       "      <th>888</th>\n",
       "      <td>0.827377</td>\n",
       "      <td>0.432793</td>\n",
       "      <td>2.008933</td>\n",
       "      <td>1.299429</td>\n",
       "      <td>-0.176263</td>\n",
       "      <td>-0.139943</td>\n",
       "      <td>1.355574</td>\n",
       "      <td>-0.482043</td>\n",
       "      <td>-0.307562</td>\n",
       "      <td>0.619306</td>\n",
       "      <td>-0.246403</td>\n",
       "      <td>-1.400047</td>\n",
       "      <td>-0.273476</td>\n",
       "      <td>-0.111803</td>\n",
       "      <td>2.008457</td>\n",
       "    </tr>\n",
       "    <tr>\n",
       "      <th>889</th>\n",
       "      <td>-1.566107</td>\n",
       "      <td>-0.474545</td>\n",
       "      <td>-0.473674</td>\n",
       "      <td>-0.560975</td>\n",
       "      <td>-0.044381</td>\n",
       "      <td>-0.287220</td>\n",
       "      <td>-0.737695</td>\n",
       "      <td>2.074505</td>\n",
       "      <td>-0.307562</td>\n",
       "      <td>-1.614710</td>\n",
       "      <td>-0.246403</td>\n",
       "      <td>0.714262</td>\n",
       "      <td>-0.273476</td>\n",
       "      <td>-0.111803</td>\n",
       "      <td>-0.497895</td>\n",
       "    </tr>\n",
       "    <tr>\n",
       "      <th>890</th>\n",
       "      <td>0.827377</td>\n",
       "      <td>-0.474545</td>\n",
       "      <td>-0.473674</td>\n",
       "      <td>-0.560975</td>\n",
       "      <td>-0.492378</td>\n",
       "      <td>0.174050</td>\n",
       "      <td>-0.737695</td>\n",
       "      <td>-0.482043</td>\n",
       "      <td>3.251373</td>\n",
       "      <td>-1.614710</td>\n",
       "      <td>-0.246403</td>\n",
       "      <td>0.714262</td>\n",
       "      <td>-0.273476</td>\n",
       "      <td>-0.111803</td>\n",
       "      <td>-0.497895</td>\n",
       "    </tr>\n",
       "  </tbody>\n",
       "</table>\n",
       "<p>891 rows × 15 columns</p>\n",
       "</div>"
      ],
      "text/plain": [
       "       Pclass     SibSp     Parch  Relatives      Fare  AgeFillNaSexMean  \\\n",
       "0    0.827377  0.432793 -0.473674   0.059160 -0.502445         -0.594732   \n",
       "1   -1.566107  0.432793 -0.473674   0.059160  0.786845          0.635319   \n",
       "2    0.827377 -0.474545 -0.473674  -0.560975 -0.488854         -0.287220   \n",
       "3   -1.566107  0.432793 -0.473674   0.059160  0.420730          0.404684   \n",
       "4    0.827377 -0.474545 -0.473674  -0.560975 -0.486337          0.404684   \n",
       "..        ...       ...       ...        ...       ...               ...   \n",
       "886 -0.369365 -0.474545 -0.473674  -0.560975 -0.386671         -0.210341   \n",
       "887 -1.566107 -0.474545 -0.473674  -0.560975 -0.044381         -0.825367   \n",
       "888  0.827377  0.432793  2.008933   1.299429 -0.176263         -0.139943   \n",
       "889 -1.566107 -0.474545 -0.473674  -0.560975 -0.044381         -0.287220   \n",
       "890  0.827377 -0.474545 -0.473674  -0.560975 -0.492378          0.174050   \n",
       "\n",
       "     Sex_female  Embarked_C  Embarked_Q  Embarked_S  AgeRange_adolescente  \\\n",
       "0     -0.737695   -0.482043   -0.307562    0.619306             -0.246403   \n",
       "1      1.355574    2.074505   -0.307562   -1.614710             -0.246403   \n",
       "2      1.355574   -0.482043   -0.307562    0.619306             -0.246403   \n",
       "3      1.355574   -0.482043   -0.307562    0.619306             -0.246403   \n",
       "4     -0.737695   -0.482043   -0.307562    0.619306             -0.246403   \n",
       "..          ...         ...         ...         ...                   ...   \n",
       "886   -0.737695   -0.482043   -0.307562    0.619306             -0.246403   \n",
       "887    1.355574   -0.482043   -0.307562    0.619306             -0.246403   \n",
       "888    1.355574   -0.482043   -0.307562    0.619306             -0.246403   \n",
       "889   -0.737695    2.074505   -0.307562   -1.614710             -0.246403   \n",
       "890   -0.737695   -0.482043    3.251373   -1.614710             -0.246403   \n",
       "\n",
       "     AgeRange_adulto  AgeRange_criança  AgeRange_idoso  AgeRange_nada  \n",
       "0           0.714262         -0.273476       -0.111803      -0.497895  \n",
       "1           0.714262         -0.273476       -0.111803      -0.497895  \n",
       "2           0.714262         -0.273476       -0.111803      -0.497895  \n",
       "3           0.714262         -0.273476       -0.111803      -0.497895  \n",
       "4           0.714262         -0.273476       -0.111803      -0.497895  \n",
       "..               ...               ...             ...            ...  \n",
       "886         0.714262         -0.273476       -0.111803      -0.497895  \n",
       "887         0.714262         -0.273476       -0.111803      -0.497895  \n",
       "888        -1.400047         -0.273476       -0.111803       2.008457  \n",
       "889         0.714262         -0.273476       -0.111803      -0.497895  \n",
       "890         0.714262         -0.273476       -0.111803      -0.497895  \n",
       "\n",
       "[891 rows x 15 columns]"
      ]
     },
     "execution_count": 113,
     "metadata": {},
     "output_type": "execute_result"
    }
   ],
   "source": [
    "#solução\n",
    "from sklearn.preprocessing import StandardScaler\n",
    "features_scaled = features\n",
    "scaler = StandardScaler()\n",
    "\n",
    "features_scaled = scaler.fit_transform(features_scaled)\n",
    "pandas.DataFrame(features_scaled, columns=features.columns)"
   ]
  },
  {
   "cell_type": "markdown",
   "metadata": {},
   "source": [
    "Normalmente as **features** são chamadas de **X** e as **labels** são chamadas de **Y**"
   ]
  },
  {
   "cell_type": "code",
   "execution_count": 47,
   "metadata": {},
   "outputs": [],
   "source": [
    "x_treino, x_teste, y_treino, y_teste = train_test_split(\n",
    "    features_scaled, label, test_size = 0.3, random_state=42\n",
    ")"
   ]
  },
  {
   "cell_type": "markdown",
   "metadata": {},
   "source": [
    "Podemos validar os tamanhos das amostras geradas"
   ]
  },
  {
   "cell_type": "code",
   "execution_count": 48,
   "metadata": {},
   "outputs": [
    {
     "data": {
      "text/plain": [
       "(499, 10)"
      ]
     },
     "execution_count": 48,
     "metadata": {},
     "output_type": "execute_result"
    }
   ],
   "source": [
    "x_treino.shape"
   ]
  },
  {
   "cell_type": "code",
   "execution_count": 49,
   "metadata": {},
   "outputs": [
    {
     "data": {
      "text/plain": [
       "(215, 10)"
      ]
     },
     "execution_count": 49,
     "metadata": {},
     "output_type": "execute_result"
    }
   ],
   "source": [
    "x_teste.shape"
   ]
  },
  {
   "cell_type": "code",
   "execution_count": 50,
   "metadata": {},
   "outputs": [
    {
     "data": {
      "text/plain": [
       "(499,)"
      ]
     },
     "execution_count": 50,
     "metadata": {},
     "output_type": "execute_result"
    }
   ],
   "source": [
    "y_treino.shape"
   ]
  },
  {
   "cell_type": "code",
   "execution_count": 51,
   "metadata": {},
   "outputs": [
    {
     "data": {
      "text/plain": [
       "(215,)"
      ]
     },
     "execution_count": 51,
     "metadata": {},
     "output_type": "execute_result"
    }
   ],
   "source": [
    "y_teste.shape"
   ]
  },
  {
   "cell_type": "markdown",
   "metadata": {},
   "source": [
    "De quebra ainda temos o conjunto de idade que devemos preencher usando **Regressão Linear**"
   ]
  },
  {
   "cell_type": "code",
   "execution_count": 52,
   "metadata": {},
   "outputs": [],
   "source": [
    "titanic_preencher = titanic[pandas.isnull(titanic[\"Age\"])].drop(\"Age\", axis=1)"
   ]
  },
  {
   "cell_type": "markdown",
   "metadata": {},
   "source": [
    "## Regressão Linear\n",
    "\n",
    "Método para aproximar duas variáveis linearmente (localização de imóvel vs preço, idade do carro vs preço). Dizemos que duas variáveis tem relação linear se plotarmos seus valores num gráfico e eles \"parecerem\" uma linha. Os passos para gerar uma regressão linear são 5:\n",
    "\n",
    "1. randomizar os inputs da função de hipotese\n",
    "2. computar o erro da predição (Mean Squared Error)\n",
    "3. Calcular as derivativas parciais\n",
    "4. Atualiazar os parametros baseados nas derivativas e na taxa de apredizado\n",
    "5. repetir do 2 ao 4 até o error ser o menor possivel.\n",
    "\n",
    "#### Função de Hipotese (Hypoteses Function)\n",
    "$ h0(x) = \\theta_1 + \\theta_0 == y = m(x) + b$\n",
    "\n",
    "é a função linear que vimos no primeiro grau da escola, o parâmetro $\\theta_1$ (m) define a angulação da linha e o $\\theta_0$ (b) define onde a linha cruza o eixo y.\n",
    "![](https://databootcamp.nyc3.digitaloceanspaces.com/img/regressao_linear.png)"
   ]
  },
  {
   "cell_type": "markdown",
   "metadata": {},
   "source": [
    "Com o **Sklearn** podemos importar a Regressão Logística já implementada"
   ]
  },
  {
   "cell_type": "code",
   "execution_count": 53,
   "metadata": {},
   "outputs": [],
   "source": [
    "from sklearn.linear_model import LinearRegression\n",
    "linear_reg = LinearRegression()"
   ]
  },
  {
   "cell_type": "markdown",
   "metadata": {},
   "source": [
    "Vamos usar nossos dados de treino para treinar o modelo"
   ]
  },
  {
   "cell_type": "code",
   "execution_count": 54,
   "metadata": {},
   "outputs": [],
   "source": [
    "modelo = linear_reg.fit(x_treino, y_treino)"
   ]
  },
  {
   "cell_type": "markdown",
   "metadata": {},
   "source": [
    "As predições são feitas com o dataset de teste"
   ]
  },
  {
   "cell_type": "code",
   "execution_count": 55,
   "metadata": {},
   "outputs": [
    {
     "data": {
      "text/plain": [
       "(215,)"
      ]
     },
     "execution_count": 55,
     "metadata": {},
     "output_type": "execute_result"
    }
   ],
   "source": [
    "predictions = modelo.predict(x_teste)\n",
    "predictions.shape"
   ]
  },
  {
   "cell_type": "markdown",
   "metadata": {},
   "source": [
    "Vamos avaliar de forma simples usando o **score** do modelo. Ele usa um método chamado [**r2_score**](https://pt.wikipedia.org/wiki/Coeficiente_de_determina%C3%A7%C3%A3o) que é uma aproximação dos valores para ver se são similares. Esse método varia de 0 a 1."
   ]
  },
  {
   "cell_type": "code",
   "execution_count": 56,
   "metadata": {},
   "outputs": [
    {
     "data": {
      "text/plain": [
       "0.24757549466903608"
      ]
     },
     "execution_count": 56,
     "metadata": {},
     "output_type": "execute_result"
    }
   ],
   "source": [
    "modelo.score(x_teste, y_teste)"
   ]
  },
  {
   "cell_type": "markdown",
   "metadata": {},
   "source": [
    "Bem ruim essa predição... Podemos tentar melhorar ela um pouco"
   ]
  },
  {
   "cell_type": "markdown",
   "metadata": {},
   "source": [
    "## Seleção de Features\n",
    "\n",
    "A etapa de seleção de features ajuda a reduzir o overfitting, aumenta a acurácia do modelo e reduz o tempo de treinamento."
   ]
  },
  {
   "cell_type": "markdown",
   "metadata": {},
   "source": [
    "### Correlação\n",
    "\n",
    "Vocês viram bastante sobre a importância de uso das correlações e seus tipos, elas são ótimas para filtrar as melhores colunas para usarmos.\n",
    "\n",
    "## <font color='blue'>Selecione as melhores features usando correlação</font>\n",
    "![alt text](https://databootcamp.nyc3.digitaloceanspaces.com/img/atrasada-relogio-pulso-1116-1400x800.jpg)"
   ]
  },
  {
   "cell_type": "code",
   "execution_count": 60,
   "metadata": {},
   "outputs": [
    {
     "data": {
      "text/html": [
       "<div>\n",
       "<style scoped>\n",
       "    .dataframe tbody tr th:only-of-type {\n",
       "        vertical-align: middle;\n",
       "    }\n",
       "\n",
       "    .dataframe tbody tr th {\n",
       "        vertical-align: top;\n",
       "    }\n",
       "\n",
       "    .dataframe thead th {\n",
       "        text-align: right;\n",
       "    }\n",
       "</style>\n",
       "<table border=\"1\" class=\"dataframe\">\n",
       "  <thead>\n",
       "    <tr style=\"text-align: right;\">\n",
       "      <th></th>\n",
       "      <th>0</th>\n",
       "      <th>1</th>\n",
       "      <th>2</th>\n",
       "      <th>3</th>\n",
       "      <th>4</th>\n",
       "      <th>5</th>\n",
       "      <th>6</th>\n",
       "      <th>7</th>\n",
       "      <th>8</th>\n",
       "      <th>9</th>\n",
       "    </tr>\n",
       "  </thead>\n",
       "  <tbody>\n",
       "    <tr>\n",
       "      <th>0</th>\n",
       "      <td>1.000000</td>\n",
       "      <td>-0.155460</td>\n",
       "      <td>0.067247</td>\n",
       "      <td>0.025683</td>\n",
       "      <td>0.056909</td>\n",
       "      <td>-0.276294</td>\n",
       "      <td>0.132415</td>\n",
       "      <td>0.203980</td>\n",
       "      <td>-0.554182</td>\n",
       "      <td>-0.359653</td>\n",
       "    </tr>\n",
       "    <tr>\n",
       "      <th>1</th>\n",
       "      <td>-0.155460</td>\n",
       "      <td>1.000000</td>\n",
       "      <td>0.103950</td>\n",
       "      <td>0.246972</td>\n",
       "      <td>0.207165</td>\n",
       "      <td>0.101580</td>\n",
       "      <td>0.026440</td>\n",
       "      <td>-0.115167</td>\n",
       "      <td>0.184994</td>\n",
       "      <td>0.538826</td>\n",
       "    </tr>\n",
       "    <tr>\n",
       "      <th>2</th>\n",
       "      <td>0.067247</td>\n",
       "      <td>0.103950</td>\n",
       "      <td>1.000000</td>\n",
       "      <td>0.383820</td>\n",
       "      <td>0.847354</td>\n",
       "      <td>-0.045462</td>\n",
       "      <td>0.051619</td>\n",
       "      <td>0.021751</td>\n",
       "      <td>0.138329</td>\n",
       "      <td>-0.017358</td>\n",
       "    </tr>\n",
       "    <tr>\n",
       "      <th>3</th>\n",
       "      <td>0.025683</td>\n",
       "      <td>0.246972</td>\n",
       "      <td>0.383820</td>\n",
       "      <td>1.000000</td>\n",
       "      <td>0.815588</td>\n",
       "      <td>-0.008846</td>\n",
       "      <td>-0.009126</td>\n",
       "      <td>0.015833</td>\n",
       "      <td>0.205119</td>\n",
       "      <td>0.093317</td>\n",
       "    </tr>\n",
       "    <tr>\n",
       "      <th>4</th>\n",
       "      <td>0.056909</td>\n",
       "      <td>0.207165</td>\n",
       "      <td>0.847354</td>\n",
       "      <td>0.815588</td>\n",
       "      <td>1.000000</td>\n",
       "      <td>-0.033575</td>\n",
       "      <td>0.027098</td>\n",
       "      <td>0.022735</td>\n",
       "      <td>0.204640</td>\n",
       "      <td>0.042787</td>\n",
       "    </tr>\n",
       "    <tr>\n",
       "      <th>5</th>\n",
       "      <td>-0.276294</td>\n",
       "      <td>0.101580</td>\n",
       "      <td>-0.045462</td>\n",
       "      <td>-0.008846</td>\n",
       "      <td>-0.033575</td>\n",
       "      <td>1.000000</td>\n",
       "      <td>-0.095320</td>\n",
       "      <td>-0.877931</td>\n",
       "      <td>0.299797</td>\n",
       "      <td>0.193607</td>\n",
       "    </tr>\n",
       "    <tr>\n",
       "      <th>6</th>\n",
       "      <td>0.132415</td>\n",
       "      <td>0.026440</td>\n",
       "      <td>0.051619</td>\n",
       "      <td>-0.009126</td>\n",
       "      <td>0.027098</td>\n",
       "      <td>-0.095320</td>\n",
       "      <td>1.000000</td>\n",
       "      <td>-0.375934</td>\n",
       "      <td>-0.062765</td>\n",
       "      <td>-0.049549</td>\n",
       "    </tr>\n",
       "    <tr>\n",
       "      <th>7</th>\n",
       "      <td>0.203980</td>\n",
       "      <td>-0.115167</td>\n",
       "      <td>0.021751</td>\n",
       "      <td>0.015833</td>\n",
       "      <td>0.022735</td>\n",
       "      <td>-0.877931</td>\n",
       "      <td>-0.375934</td>\n",
       "      <td>1.000000</td>\n",
       "      <td>-0.253991</td>\n",
       "      <td>-0.164235</td>\n",
       "    </tr>\n",
       "    <tr>\n",
       "      <th>8</th>\n",
       "      <td>-0.554182</td>\n",
       "      <td>0.184994</td>\n",
       "      <td>0.138329</td>\n",
       "      <td>0.205119</td>\n",
       "      <td>0.204640</td>\n",
       "      <td>0.299797</td>\n",
       "      <td>-0.062765</td>\n",
       "      <td>-0.253991</td>\n",
       "      <td>1.000000</td>\n",
       "      <td>0.268189</td>\n",
       "    </tr>\n",
       "    <tr>\n",
       "      <th>9</th>\n",
       "      <td>-0.359653</td>\n",
       "      <td>0.538826</td>\n",
       "      <td>-0.017358</td>\n",
       "      <td>0.093317</td>\n",
       "      <td>0.042787</td>\n",
       "      <td>0.193607</td>\n",
       "      <td>-0.049549</td>\n",
       "      <td>-0.164235</td>\n",
       "      <td>0.268189</td>\n",
       "      <td>1.000000</td>\n",
       "    </tr>\n",
       "  </tbody>\n",
       "</table>\n",
       "</div>"
      ],
      "text/plain": [
       "          0         1         2         3         4         5         6  \\\n",
       "0  1.000000 -0.155460  0.067247  0.025683  0.056909 -0.276294  0.132415   \n",
       "1 -0.155460  1.000000  0.103950  0.246972  0.207165  0.101580  0.026440   \n",
       "2  0.067247  0.103950  1.000000  0.383820  0.847354 -0.045462  0.051619   \n",
       "3  0.025683  0.246972  0.383820  1.000000  0.815588 -0.008846 -0.009126   \n",
       "4  0.056909  0.207165  0.847354  0.815588  1.000000 -0.033575  0.027098   \n",
       "5 -0.276294  0.101580 -0.045462 -0.008846 -0.033575  1.000000 -0.095320   \n",
       "6  0.132415  0.026440  0.051619 -0.009126  0.027098 -0.095320  1.000000   \n",
       "7  0.203980 -0.115167  0.021751  0.015833  0.022735 -0.877931 -0.375934   \n",
       "8 -0.554182  0.184994  0.138329  0.205119  0.204640  0.299797 -0.062765   \n",
       "9 -0.359653  0.538826 -0.017358  0.093317  0.042787  0.193607 -0.049549   \n",
       "\n",
       "          7         8         9  \n",
       "0  0.203980 -0.554182 -0.359653  \n",
       "1 -0.115167  0.184994  0.538826  \n",
       "2  0.021751  0.138329 -0.017358  \n",
       "3  0.015833  0.205119  0.093317  \n",
       "4  0.022735  0.204640  0.042787  \n",
       "5 -0.877931  0.299797  0.193607  \n",
       "6 -0.375934 -0.062765 -0.049549  \n",
       "7  1.000000 -0.253991 -0.164235  \n",
       "8 -0.253991  1.000000  0.268189  \n",
       "9 -0.164235  0.268189  1.000000  "
      ]
     },
     "execution_count": 60,
     "metadata": {},
     "output_type": "execute_result"
    }
   ],
   "source": [
    "#solução\n",
    "\n",
    "features_scaled = pandas.DataFrame(features_scaled)\n",
    "features_scaled.corr()"
   ]
  },
  {
   "cell_type": "markdown",
   "metadata": {},
   "source": [
    "### Recursive Feature Elimination (RFE)\n",
    "\n",
    "Um algoritmo conhecido para seleção de features que faz uso da correlação por baixo dos panos é o RFE.\n",
    "\n",
    "Recursivamente vamos removendo uma a uma (ou de *step* em *step*) as features e vendo quais conseguem melhores resultados com os dados através da importância de cada feature no modelo. Conseguimos isso já implementado no **Sklearn**."
   ]
  },
  {
   "cell_type": "code",
   "execution_count": 61,
   "metadata": {},
   "outputs": [],
   "source": [
    "from sklearn.feature_selection import RFE"
   ]
  },
  {
   "cell_type": "markdown",
   "metadata": {},
   "source": [
    "Podemos escolher o número de passos (step) e o número de features que queremos usar. \"Chutei\" 6."
   ]
  },
  {
   "cell_type": "code",
   "execution_count": 62,
   "metadata": {},
   "outputs": [],
   "source": [
    "seletor = RFE(linear_reg, n_features_to_select=6, step=1)"
   ]
  },
  {
   "cell_type": "markdown",
   "metadata": {},
   "source": [
    "Usamos o treino normalmente com **fit**"
   ]
  },
  {
   "cell_type": "code",
   "execution_count": 63,
   "metadata": {},
   "outputs": [
    {
     "data": {
      "text/plain": [
       "RFE(estimator=LinearRegression(copy_X=True, fit_intercept=True, n_jobs=None,\n",
       "                               normalize=False),\n",
       "    n_features_to_select=6, step=1, verbose=0)"
      ]
     },
     "execution_count": 63,
     "metadata": {},
     "output_type": "execute_result"
    }
   ],
   "source": [
    "features_selected = seletor.fit(x_treino, y_treino)\n",
    "features_selected"
   ]
  },
  {
   "cell_type": "markdown",
   "metadata": {},
   "source": [
    "Como escolhemos 6 features, ele faz a melhor combinação de 6 features de acordo com nossos dados. Aonde está **True** significa que ele escolheu aquela feature"
   ]
  },
  {
   "cell_type": "code",
   "execution_count": 64,
   "metadata": {},
   "outputs": [
    {
     "data": {
      "text/plain": [
       "array([ True, False,  True, False,  True,  True, False, False,  True,\n",
       "        True])"
      ]
     },
     "execution_count": 64,
     "metadata": {},
     "output_type": "execute_result"
    }
   ],
   "source": [
    "features_selected.support_"
   ]
  },
  {
   "cell_type": "markdown",
   "metadata": {},
   "source": [
    "Podemos ver um Ranking de quão boas são as features também"
   ]
  },
  {
   "cell_type": "code",
   "execution_count": 65,
   "metadata": {},
   "outputs": [
    {
     "data": {
      "text/plain": [
       "array([1, 4, 1, 2, 1, 1, 3, 5, 1, 1])"
      ]
     },
     "execution_count": 65,
     "metadata": {},
     "output_type": "execute_result"
    }
   ],
   "source": [
    "features_selected.ranking_"
   ]
  },
  {
   "cell_type": "markdown",
   "metadata": {},
   "source": [
    "Com isso temos como ver o *score* que vai transformar o dado para o número de features selecionados e aplicar o *score* do modelo de Regressão Linear"
   ]
  },
  {
   "cell_type": "code",
   "execution_count": 66,
   "metadata": {},
   "outputs": [
    {
     "data": {
      "text/plain": [
       "0.24793684432778074"
      ]
     },
     "execution_count": 66,
     "metadata": {},
     "output_type": "execute_result"
    }
   ],
   "source": [
    "features_selected.score(x_teste, y_teste)"
   ]
  },
  {
   "cell_type": "markdown",
   "metadata": {},
   "source": [
    "Podemos automatizar isso para encontrar a melhor quantidade de features e as melhores combinações entre elas"
   ]
  },
  {
   "cell_type": "code",
   "execution_count": 67,
   "metadata": {},
   "outputs": [],
   "source": [
    "number_features = features_scaled.shape[1]"
   ]
  },
  {
   "cell_type": "code",
   "execution_count": 68,
   "metadata": {},
   "outputs": [],
   "source": [
    "scores = []\n",
    "linhas = range(1, number_features + 1)\n",
    "for i in linhas:\n",
    "    seletor = RFE(linear_reg, n_features_to_select=i, step=1)\n",
    "    features_selected = seletor.fit(x_treino, y_treino)\n",
    "    resultado = features_selected.score(x_teste, y_teste)\n",
    "    scores.append(resultado)"
   ]
  },
  {
   "cell_type": "code",
   "execution_count": 69,
   "metadata": {},
   "outputs": [
    {
     "data": {
      "text/plain": [
       "[0.14381773520695318,\n",
       " 0.21822883670583937,\n",
       " 0.24014726143069287,\n",
       " 0.2427705591034985,\n",
       " 0.24388198527240834,\n",
       " 0.24793684432778074,\n",
       " 0.24793684432778063,\n",
       " 0.24789614547524097,\n",
       " 0.24772957169195808,\n",
       " 0.24757549466903617]"
      ]
     },
     "execution_count": 69,
     "metadata": {},
     "output_type": "execute_result"
    }
   ],
   "source": [
    "scores"
   ]
  },
  {
   "cell_type": "markdown",
   "metadata": {},
   "source": [
    "Vamos usar o *pyploy* para ver esses dados"
   ]
  },
  {
   "cell_type": "code",
   "execution_count": 70,
   "metadata": {},
   "outputs": [],
   "source": [
    "from matplotlib import pyplot"
   ]
  },
  {
   "cell_type": "code",
   "execution_count": 71,
   "metadata": {},
   "outputs": [
    {
     "data": {
      "text/plain": [
       "[<matplotlib.lines.Line2D at 0x7fe0e2d49b70>]"
      ]
     },
     "execution_count": 71,
     "metadata": {},
     "output_type": "execute_result"
    },
    {
     "data": {
      "image/png": "[encoded data removed]",
      "text/plain": [
       "<Figure size 432x288 with 1 Axes>"
      ]
     },
     "metadata": {
      "needs_background": "light"
     },
     "output_type": "display_data"
    }
   ],
   "source": [
    "pyplot.plot(linhas, scores)"
   ]
  },
  {
   "cell_type": "markdown",
   "metadata": {},
   "source": [
    "Conseguimos o melhor número de features em 6. Nossa predição parece continuar horrível... Não acertamos quase nada! A seleção de features serve somente para melhorar um pouco o que o modelo já tinha conseguido, mas normalmente não faz nenhum milagre.\n",
    "\n",
    "Pelo visto melhor continuar com nossa média dos sexos mesmo e seguir com nossos desafios!"
   ]
  },
  {
   "cell_type": "markdown",
   "metadata": {},
   "source": [
    "## Vamos tentar prever quem vai sobreviver?\n",
    "\n",
    "<img src=\"https://databootcamp.nyc3.digitaloceanspaces.com/img/titanic-naufragio.webp\" alt=\"Drawing\" style=\"width: 700px;\"/>"
   ]
  },
  {
   "cell_type": "markdown",
   "metadata": {},
   "source": [
    "## Regressão Logística\n",
    "\n",
    "É uma técnica estatística que tem como objectivo produzir, a partir de um conjunto de observações, um modelo que permita a predição de valores tomados por uma variável categórica, frequentemente binária, a partir de uma série de variáveis explicativas contínuas e/ou binárias.\n",
    "\n",
    "Bem similar a Regressão linear, mas aplicamos uma função **sigmoid** no resultado para determinar em qual categoria se enquadra a classificação.\n",
    "\n",
    "![sigmoid](https://databootcamp.nyc3.digitaloceanspaces.com/img/sigmoid.png)"
   ]
  },
  {
   "cell_type": "markdown",
   "metadata": {},
   "source": [
    "No **Sklearn** temos a regressão logísica e vamos usá-la para tentar prever quem morreu ou sobreviveu no Titanic"
   ]
  },
  {
   "cell_type": "code",
   "execution_count": 73,
   "metadata": {},
   "outputs": [],
   "source": [
    "from sklearn.linear_model import LogisticRegression\n",
    "\n",
    "log_reg = LogisticRegression(random_state=42, solver=\"liblinear\")"
   ]
  },
  {
   "cell_type": "code",
   "execution_count": 74,
   "metadata": {},
   "outputs": [
    {
     "data": {
      "text/html": [
       "<div>\n",
       "<style scoped>\n",
       "    .dataframe tbody tr th:only-of-type {\n",
       "        vertical-align: middle;\n",
       "    }\n",
       "\n",
       "    .dataframe tbody tr th {\n",
       "        vertical-align: top;\n",
       "    }\n",
       "\n",
       "    .dataframe thead th {\n",
       "        text-align: right;\n",
       "    }\n",
       "</style>\n",
       "<table border=\"1\" class=\"dataframe\">\n",
       "  <thead>\n",
       "    <tr style=\"text-align: right;\">\n",
       "      <th></th>\n",
       "      <th>Pclass</th>\n",
       "      <th>Sex_female</th>\n",
       "      <th>SibSp</th>\n",
       "      <th>Parch</th>\n",
       "      <th>Relatives</th>\n",
       "      <th>Embarked_C</th>\n",
       "      <th>Embarked_Q</th>\n",
       "      <th>Embarked_S</th>\n",
       "      <th>Fare</th>\n",
       "    </tr>\n",
       "    <tr>\n",
       "      <th>Survived</th>\n",
       "      <th></th>\n",
       "      <th></th>\n",
       "      <th></th>\n",
       "      <th></th>\n",
       "      <th></th>\n",
       "      <th></th>\n",
       "      <th></th>\n",
       "      <th></th>\n",
       "      <th></th>\n",
       "    </tr>\n",
       "  </thead>\n",
       "  <tbody>\n",
       "    <tr>\n",
       "      <th>0</th>\n",
       "      <td>424</td>\n",
       "      <td>424</td>\n",
       "      <td>424</td>\n",
       "      <td>424</td>\n",
       "      <td>424</td>\n",
       "      <td>424</td>\n",
       "      <td>424</td>\n",
       "      <td>424</td>\n",
       "      <td>424</td>\n",
       "    </tr>\n",
       "    <tr>\n",
       "      <th>1</th>\n",
       "      <td>290</td>\n",
       "      <td>290</td>\n",
       "      <td>290</td>\n",
       "      <td>290</td>\n",
       "      <td>290</td>\n",
       "      <td>290</td>\n",
       "      <td>290</td>\n",
       "      <td>290</td>\n",
       "      <td>290</td>\n",
       "    </tr>\n",
       "  </tbody>\n",
       "</table>\n",
       "</div>"
      ],
      "text/plain": [
       "          Pclass  Sex_female  SibSp  Parch  Relatives  Embarked_C  Embarked_Q  \\\n",
       "Survived                                                                        \n",
       "0            424         424    424    424        424         424         424   \n",
       "1            290         290    290    290        290         290         290   \n",
       "\n",
       "          Embarked_S  Fare  \n",
       "Survived                    \n",
       "0                424   424  \n",
       "1                290   290  "
      ]
     },
     "execution_count": 74,
     "metadata": {},
     "output_type": "execute_result"
    }
   ],
   "source": [
    "features.groupby(\"Survived\").count()"
   ]
  },
  {
   "cell_type": "markdown",
   "metadata": {},
   "source": [
    "## <font color='blue'>Agora Precisamos do nosso conjunto de treino e teste para o *Survived*</font>\n",
    "![alt text](https://databootcamp.nyc3.digitaloceanspaces.com/img/atrasada-relogio-pulso-1116-1400x800.jpg)"
   ]
  },
  {
   "cell_type": "code",
   "execution_count": null,
   "metadata": {},
   "outputs": [],
   "source": []
  },
  {
   "cell_type": "code",
   "execution_count": 110,
   "metadata": {},
   "outputs": [
    {
     "data": {
      "text/plain": [
       "array([0, 1, 1, 1, 0, 1, 0, 0, 1, 1, 1, 1, 0, 0, 1, 0, 0, 1, 0, 1, 0, 1,\n",
       "       1, 1, 0, 0, 0, 0, 1, 0, 1, 1, 0, 0, 0, 0, 0, 0, 0, 0, 0, 0, 1, 0,\n",
       "       0, 1, 1, 0, 0, 1, 0, 1, 0, 0, 0, 1, 1, 0, 0, 0, 1, 0, 1, 0, 0, 0,\n",
       "       1, 1, 0, 0, 0, 1, 0, 0, 0, 0, 0, 0, 1, 0, 0, 0, 0, 0, 0, 1, 1, 0,\n",
       "       0, 0, 0, 1, 1, 0, 1, 1, 1, 0, 0, 0, 1, 1, 0, 1, 1, 0, 0, 0, 0, 1,\n",
       "       0, 0, 0, 0, 0, 1, 0, 1, 0, 0, 1, 0, 0, 0, 1, 0, 0, 1, 0, 1, 0, 0,\n",
       "       0, 1, 0, 0, 0, 1, 0, 0, 0, 1, 1, 0, 0, 0, 0, 0, 1, 0, 0, 1, 0, 1,\n",
       "       0, 0, 0, 0, 1, 0, 0, 0, 0, 1, 0, 1, 1, 0, 1, 0, 0, 1, 0, 1, 1, 1,\n",
       "       0, 0, 0, 0, 1, 0, 1, 1, 0, 0, 1, 1, 1, 0, 0, 1, 1, 1, 1, 1, 0, 0,\n",
       "       1, 0, 0, 0, 0, 1, 0, 0, 0, 1, 0, 1, 0, 0, 1, 0, 0])"
      ]
     },
     "execution_count": 110,
     "metadata": {},
     "output_type": "execute_result"
    }
   ],
   "source": [
    "#solução\n",
    "#x_teste = x_treino = titanic.drop([\"Survived\", \"Age\"], axis=1)\n",
    "#y_teste = y_treino = titanic[\"Survived\"]\n",
    "df = titanic.dropna()\n",
    "feature_survived = df.drop([\"Survived\"], axis=1)\n",
    "label_survived = df.Survived\n",
    "\n",
    "X_treino, X_teste, y_treino, y_teste = train_test_split(\n",
    "    feature_survived, label_survived, test_size = 0.3, random_state=42\n",
    ")\n",
    "\n",
    "scaler = StandardScaler()\n",
    "scaler.fit(X_treino)\n",
    "\n",
    "model = LogisticRegression()\n",
    "model.fit(scaler.transform(X_treino), y_treino)\n",
    "\n",
    "model.predict(scaler.transform(X_teste))"
   ]
  },
  {
   "cell_type": "markdown",
   "metadata": {},
   "source": [
    "Tendo isso, só realizar o treino assim como na regressão linear"
   ]
  },
  {
   "cell_type": "code",
   "execution_count": 100,
   "metadata": {
    "scrolled": true
   },
   "outputs": [],
   "source": [
    "model = log_reg.fit(x_treino, y_treino)"
   ]
  },
  {
   "cell_type": "markdown",
   "metadata": {},
   "source": [
    "Depois disso conseguimos fazer as predições com o modelo treinado"
   ]
  },
  {
   "cell_type": "code",
   "execution_count": 101,
   "metadata": {},
   "outputs": [
    {
     "data": {
      "text/plain": [
       "array([0, 1, 1, 1, 0, 1, 0, 0, 1, 1, 1, 1, 0, 0, 1, 0, 0, 1, 0, 1, 0, 1,\n",
       "       1, 1, 0, 0, 0, 0, 1, 0, 1, 1, 0, 0, 0, 0, 0, 0, 0, 0, 0, 0, 1, 0,\n",
       "       0, 1, 1, 0, 0, 1, 0, 1, 0, 0, 0, 1, 0, 0, 0, 0, 1, 0, 1, 0, 0, 0,\n",
       "       0, 1, 0, 0, 0, 1, 0, 0, 0, 0, 0, 0, 1, 0, 0, 0, 0, 0, 0, 1, 1, 0,\n",
       "       0, 0, 0, 1, 1, 0, 1, 1, 1, 0, 0, 0, 1, 1, 0, 1, 1, 0, 0, 0, 0, 1,\n",
       "       0, 0, 0, 0, 0, 1, 0, 1, 0, 0, 1, 0, 0, 0, 1, 0, 0, 1, 0, 1, 0, 0,\n",
       "       0, 1, 0, 0, 0, 0, 0, 0, 0, 1, 1, 0, 0, 0, 0, 0, 1, 0, 0, 1, 0, 1,\n",
       "       0, 0, 0, 0, 1, 0, 0, 0, 0, 1, 0, 1, 1, 0, 1, 0, 0, 1, 0, 1, 1, 1,\n",
       "       0, 0, 0, 0, 1, 0, 1, 0, 0, 0, 1, 1, 1, 0, 0, 1, 1, 1, 1, 1, 0, 0,\n",
       "       1, 0, 0, 0, 0, 1, 0, 0, 0, 1, 0, 1, 0, 0, 1, 0, 0])"
      ]
     },
     "execution_count": 101,
     "metadata": {},
     "output_type": "execute_result"
    }
   ],
   "source": [
    "predictions = model.predict(x_teste)\n",
    "predictions"
   ]
  },
  {
   "cell_type": "markdown",
   "metadata": {},
   "source": [
    "Temos as predições, mas como avaliar se elas são boas?"
   ]
  },
  {
   "cell_type": "markdown",
   "metadata": {},
   "source": [
    "## Métricas de qualidade\n",
    "\n",
    "Devemos saber como medir a qualidade dos nossos modelos. No caso de modelos supervisionados, temos alguns métodos de validação que são bem conhecidos.\n",
    "\n",
    "### Matriz  de confusão\n",
    "\n",
    "A Matriz de Confusão é uma forma de mostrar mais claramente quantos são:\n",
    "- Verdadeiros Positivos (quem morreu e o modelo disse que morreu)\n",
    "- Falsos Positivos (quem não morreu e o modelo disse que morreu)\n",
    "- Verdadeiros Negativos (quem não morreu e o modelo disse que não morreu)\n",
    "- Falsos Negativos (quem morreu e o modelo disse que não morreu)\n",
    "\n",
    "![tt](https://sebastianraschka.com/images/faq/multiclass-metric/conf_mat.png)"
   ]
  },
  {
   "cell_type": "code",
   "execution_count": 102,
   "metadata": {},
   "outputs": [
    {
     "data": {
      "text/html": [
       "<div>\n",
       "<style scoped>\n",
       "    .dataframe tbody tr th:only-of-type {\n",
       "        vertical-align: middle;\n",
       "    }\n",
       "\n",
       "    .dataframe tbody tr th {\n",
       "        vertical-align: top;\n",
       "    }\n",
       "\n",
       "    .dataframe thead th {\n",
       "        text-align: right;\n",
       "    }\n",
       "</style>\n",
       "<table border=\"1\" class=\"dataframe\">\n",
       "  <thead>\n",
       "    <tr style=\"text-align: right;\">\n",
       "      <th>col_0</th>\n",
       "      <th>0</th>\n",
       "      <th>1</th>\n",
       "    </tr>\n",
       "    <tr>\n",
       "      <th>Survived</th>\n",
       "      <th></th>\n",
       "      <th></th>\n",
       "    </tr>\n",
       "  </thead>\n",
       "  <tbody>\n",
       "    <tr>\n",
       "      <th>0</th>\n",
       "      <td>109</td>\n",
       "      <td>17</td>\n",
       "    </tr>\n",
       "    <tr>\n",
       "      <th>1</th>\n",
       "      <td>30</td>\n",
       "      <td>59</td>\n",
       "    </tr>\n",
       "  </tbody>\n",
       "</table>\n",
       "</div>"
      ],
      "text/plain": [
       "col_0       0   1\n",
       "Survived         \n",
       "0         109  17\n",
       "1          30  59"
      ]
     },
     "execution_count": 102,
     "metadata": {},
     "output_type": "execute_result"
    }
   ],
   "source": [
    "matriz_confusao = pandas.crosstab(y_teste, predictions) # confusion_matrix\n",
    "matriz_confusao"
   ]
  },
  {
   "cell_type": "markdown",
   "metadata": {},
   "source": [
    "### Precision e recall\n",
    "\n",
    "A partir da matriz de confusão algumas taxas podem ser calculadas.\n",
    "\n",
    "Vamos visualizar de outra maneira os dados sendo testados:\n",
    "\n",
    "![pr](https://upload.wikimedia.org/wikipedia/commons/thumb/a/ab/Precis%C3%A3o_e_revoca%C3%A7%C3%A3o.png/262px-Precis%C3%A3o_e_revoca%C3%A7%C3%A3o.png)\n",
    "\n",
    "Dentro do círculo estão os elementos julgados como 1 (Positivo, nesse caso, sobreviveu).\n",
    "\n",
    "Fora do círculo estão os elementos que o algoritmo classificou como 0 (Negativo, nesse caso, não-sobreviveu).\n",
    "\n",
    "O retângulo representa o real valor dos dados.\n",
    "\n",
    "#### PRECISION\n",
    "\n",
    "*Precision* representa quanto dos elementos julgados como Sobreviventes, de fato são Sobreviventes. \n",
    "\n",
    "Mede a taxa de acerto do classificador dentre os valores <span class=\"atencao\">estimados</span> .\n",
    "\n",
    "$P=\\frac{TP}{TP+FP}$\n",
    "\n",
    "#### RECALL\n",
    "\n",
    "*Recall* representa quantos dos reais sobreviventes foram de fato classificados como sobreviventes.\n",
    "\n",
    "Mede a taxa de acerto do classificador dentre os valores <span class=\"atencao\">reais</span> .\n",
    "\n",
    "$R=\\frac{TP}{TP+FN}$\n",
    "\n",
    "#### F(Beta)-SCORE\n",
    "\n",
    "Podemos relacionar o *recall* e *precision* em uma métrica!\n",
    "\n",
    "![f_beta](https://databootcamp.nyc3.digitaloceanspaces.com/img/f_beta.svg)\n",
    "\n",
    "Com isso, temos o F1 que é o balanço exato entre *recall* e *precision*\n",
    "\n",
    "$F1=2\\frac{precision  \\times  recall}{precision+recall}$"
   ]
  },
  {
   "cell_type": "code",
   "execution_count": 103,
   "metadata": {
    "scrolled": false
   },
   "outputs": [
    {
     "name": "stdout",
     "output_type": "stream",
     "text": [
      "              precision    recall  f1-score   support\n",
      "\n",
      "           0       0.78      0.87      0.82       126\n",
      "           1       0.78      0.66      0.72        89\n",
      "\n",
      "    accuracy                           0.78       215\n",
      "   macro avg       0.78      0.76      0.77       215\n",
      "weighted avg       0.78      0.78      0.78       215\n",
      "\n"
     ]
    }
   ],
   "source": [
    "from sklearn import metrics\n",
    "\n",
    "print(metrics.classification_report(y_teste, predictions))"
   ]
  },
  {
   "cell_type": "markdown",
   "metadata": {},
   "source": [
    "Com isso o f1 pode ser acessado através dessa função"
   ]
  },
  {
   "cell_type": "code",
   "execution_count": 104,
   "metadata": {},
   "outputs": [
    {
     "data": {
      "text/plain": [
       "0.7151515151515152"
      ]
     },
     "execution_count": 104,
     "metadata": {},
     "output_type": "execute_result"
    }
   ],
   "source": [
    "metrics.f1_score(y_teste, predictions)"
   ]
  },
  {
   "cell_type": "markdown",
   "metadata": {},
   "source": [
    "Que é o mesmo que usar beta=1"
   ]
  },
  {
   "cell_type": "code",
   "execution_count": 105,
   "metadata": {},
   "outputs": [
    {
     "data": {
      "text/plain": [
       "0.7151515151515152"
      ]
     },
     "execution_count": 105,
     "metadata": {},
     "output_type": "execute_result"
    }
   ],
   "source": [
    "metrics.fbeta_score(y_teste, predictions, beta=1)"
   ]
  },
  {
   "cell_type": "markdown",
   "metadata": {},
   "source": [
    "## <font color='blue'>Qual valor de Beta prioriza *precision*, 0,5 ou 2? Mostre</font>\n",
    "![alt text](https://databootcamp.nyc3.digitaloceanspaces.com/img/atrasada-relogio-pulso-1116-1400x800.jpg)"
   ]
  },
  {
   "cell_type": "code",
   "execution_count": 107,
   "metadata": {},
   "outputs": [
    {
     "name": "stdout",
     "output_type": "stream",
     "text": [
      "0.7506361323155216\n",
      "0.6828703703703702\n"
     ]
    }
   ],
   "source": [
    "#solução\n",
    "print(metrics.fbeta_score(y_teste, predictions, beta=0.5))\n",
    "print(metrics.fbeta_score(y_teste, predictions, beta=2))"
   ]
  },
  {
   "cell_type": "markdown",
   "metadata": {},
   "source": [
    "## K-Fold Cross Validation\n",
    "\n",
    "Outra técnica, a *Cross Validation*, ou validação cruzada, é muito usada para estimar a precisão de um modelo. \n",
    "\n",
    "A tecnica de *Cross Validation* pode ser usada também para otimização de parâmetros de um algoritmo. \n",
    "\n",
    "![cv](https://databootcamp.nyc3.digitaloceanspaces.com/img/cross_val.png)\n",
    "\n",
    "Com essa técnica passamos todo dataset de features e labels, e ela divide em k tamanhos nosso dado de forma aleatória treinando o modelo."
   ]
  },
  {
   "cell_type": "markdown",
   "metadata": {},
   "source": [
    "Vamos Separar as **Features** e as **Labels** pensando no *Survived*"
   ]
  },
  {
   "cell_type": "code",
   "execution_count": 108,
   "metadata": {},
   "outputs": [],
   "source": [
    "features = titanic.drop([\"Survived\", \"Age\"], axis=1)\n",
    "labels = titanic[\"Survived\"]"
   ]
  },
  {
   "cell_type": "markdown",
   "metadata": {},
   "source": [
    "No caso do **Sklearn** o **cv** é o parâmetro **k** de divisões do dataset. Aqui vamos dividir em 10"
   ]
  },
  {
   "cell_type": "code",
   "execution_count": 109,
   "metadata": {},
   "outputs": [
    {
     "name": "stdout",
     "output_type": "stream",
     "text": [
      "Média do teste: 0.8069662921348316\n"
     ]
    }
   ],
   "source": [
    "from sklearn.model_selection import cross_validate\n",
    "resultado = cross_validate(log_reg, features, labels, cv=10)\n",
    "mean_accuracy_test = sum(resultado[\"test_score\"])/len(resultado[\"test_score\"])\n",
    "\n",
    "print(f\"Média do teste: {mean_accuracy_test}\")\n"
   ]
  },
  {
   "cell_type": "code",
   "execution_count": null,
   "metadata": {},
   "outputs": [],
   "source": []
  }
 ],
 "metadata": {
  "kernelspec": {
   "display_name": "Python 3",
   "language": "python",
   "name": "python3"
  },
  "language_info": {
   "codemirror_mode": {
    "name": "ipython",
    "version": 3
   },
   "file_extension": ".py",
   "mimetype": "text/x-python",
   "name": "python",
   "nbconvert_exporter": "python",
   "pygments_lexer": "ipython3",
   "version": "3.7.9"
  }
 },
 "nbformat": 4,
 "nbformat_minor": 4
}
