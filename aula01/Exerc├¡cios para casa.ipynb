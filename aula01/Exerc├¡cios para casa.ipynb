{
 "cells": [
  {
   "cell_type": "markdown",
   "metadata": {},
   "source": [
    "Vamos reforçar o que aprendemos na aula com os exercicios nesse notebook. Usaremos um dataset de videos do youtube para fazermos algumas analises."
   ]
  },
  {
   "cell_type": "code",
   "execution_count": 27,
   "metadata": {},
   "outputs": [],
   "source": [
    "import pandas\n",
    "df = pandas.read_csv(\"https://databootcamp.nyc3.digitaloceanspaces.com/USvideos.csv\")"
   ]
  },
  {
   "cell_type": "markdown",
   "metadata": {},
   "source": [
    "### Qual a quantidade de linhas e colunas do dataframe?\n",
    "\n"
   ]
  },
  {
   "cell_type": "code",
   "execution_count": 28,
   "metadata": {},
   "outputs": [
    {
     "name": "stdout",
     "output_type": "stream",
     "text": [
      "40949\n",
      "16\n"
     ]
    }
   ],
   "source": [
    "linhas, colunas = df.shape\n",
    "print(linha)\n",
    "print(colunas)"
   ]
  },
  {
   "cell_type": "markdown",
   "metadata": {},
   "source": [
    "### Faça um novo dataframe removendo as colunas `video_id`, `thumbnail_link` e `video_error_or_removed`\n",
    "\n"
   ]
  },
  {
   "cell_type": "code",
   "execution_count": 23,
   "metadata": {},
   "outputs": [
    {
     "data": {
      "text/html": [
       "<div>\n",
       "<style scoped>\n",
       "    .dataframe tbody tr th:only-of-type {\n",
       "        vertical-align: middle;\n",
       "    }\n",
       "\n",
       "    .dataframe tbody tr th {\n",
       "        vertical-align: top;\n",
       "    }\n",
       "\n",
       "    .dataframe thead th {\n",
       "        text-align: right;\n",
       "    }\n",
       "</style>\n",
       "<table border=\"1\" class=\"dataframe\">\n",
       "  <thead>\n",
       "    <tr style=\"text-align: right;\">\n",
       "      <th></th>\n",
       "      <th>trending_date</th>\n",
       "      <th>title</th>\n",
       "      <th>channel_title</th>\n",
       "      <th>category_id</th>\n",
       "      <th>publish_time</th>\n",
       "      <th>tags</th>\n",
       "      <th>views</th>\n",
       "      <th>likes</th>\n",
       "      <th>dislikes</th>\n",
       "      <th>comment_count</th>\n",
       "      <th>comments_disabled</th>\n",
       "      <th>ratings_disabled</th>\n",
       "      <th>description</th>\n",
       "    </tr>\n",
       "  </thead>\n",
       "  <tbody>\n",
       "    <tr>\n",
       "      <th>0</th>\n",
       "      <td>17.14.11</td>\n",
       "      <td>WE WANT TO TALK ABOUT OUR MARRIAGE</td>\n",
       "      <td>CaseyNeistat</td>\n",
       "      <td>22</td>\n",
       "      <td>2017-11-13T17:13:01.000Z</td>\n",
       "      <td>SHANtell martin</td>\n",
       "      <td>748374</td>\n",
       "      <td>57527</td>\n",
       "      <td>2966</td>\n",
       "      <td>15954</td>\n",
       "      <td>False</td>\n",
       "      <td>False</td>\n",
       "      <td>SHANTELL'S CHANNEL - https://www.youtube.com/s...</td>\n",
       "    </tr>\n",
       "    <tr>\n",
       "      <th>1</th>\n",
       "      <td>17.14.11</td>\n",
       "      <td>The Trump Presidency: Last Week Tonight with J...</td>\n",
       "      <td>LastWeekTonight</td>\n",
       "      <td>24</td>\n",
       "      <td>2017-11-13T07:30:00.000Z</td>\n",
       "      <td>last week tonight trump presidency|\"last week ...</td>\n",
       "      <td>2418783</td>\n",
       "      <td>97185</td>\n",
       "      <td>6146</td>\n",
       "      <td>12703</td>\n",
       "      <td>False</td>\n",
       "      <td>False</td>\n",
       "      <td>One year after the presidential election, John...</td>\n",
       "    </tr>\n",
       "    <tr>\n",
       "      <th>2</th>\n",
       "      <td>17.14.11</td>\n",
       "      <td>Racist Superman | Rudy Mancuso, King Bach &amp; Le...</td>\n",
       "      <td>Rudy Mancuso</td>\n",
       "      <td>23</td>\n",
       "      <td>2017-11-12T19:05:24.000Z</td>\n",
       "      <td>racist superman|\"rudy\"|\"mancuso\"|\"king\"|\"bach\"...</td>\n",
       "      <td>3191434</td>\n",
       "      <td>146033</td>\n",
       "      <td>5339</td>\n",
       "      <td>8181</td>\n",
       "      <td>False</td>\n",
       "      <td>False</td>\n",
       "      <td>WATCH MY PREVIOUS VIDEO ▶ \\n\\nSUBSCRIBE ► http...</td>\n",
       "    </tr>\n",
       "    <tr>\n",
       "      <th>3</th>\n",
       "      <td>17.14.11</td>\n",
       "      <td>Nickelback Lyrics: Real or Fake?</td>\n",
       "      <td>Good Mythical Morning</td>\n",
       "      <td>24</td>\n",
       "      <td>2017-11-13T11:00:04.000Z</td>\n",
       "      <td>rhett and link|\"gmm\"|\"good mythical morning\"|\"...</td>\n",
       "      <td>343168</td>\n",
       "      <td>10172</td>\n",
       "      <td>666</td>\n",
       "      <td>2146</td>\n",
       "      <td>False</td>\n",
       "      <td>False</td>\n",
       "      <td>Today we find out if Link is a Nickelback amat...</td>\n",
       "    </tr>\n",
       "    <tr>\n",
       "      <th>4</th>\n",
       "      <td>17.14.11</td>\n",
       "      <td>I Dare You: GOING BALD!?</td>\n",
       "      <td>nigahiga</td>\n",
       "      <td>24</td>\n",
       "      <td>2017-11-12T18:01:41.000Z</td>\n",
       "      <td>ryan|\"higa\"|\"higatv\"|\"nigahiga\"|\"i dare you\"|\"...</td>\n",
       "      <td>2095731</td>\n",
       "      <td>132235</td>\n",
       "      <td>1989</td>\n",
       "      <td>17518</td>\n",
       "      <td>False</td>\n",
       "      <td>False</td>\n",
       "      <td>I know it's been a while since we did this sho...</td>\n",
       "    </tr>\n",
       "    <tr>\n",
       "      <th>...</th>\n",
       "      <td>...</td>\n",
       "      <td>...</td>\n",
       "      <td>...</td>\n",
       "      <td>...</td>\n",
       "      <td>...</td>\n",
       "      <td>...</td>\n",
       "      <td>...</td>\n",
       "      <td>...</td>\n",
       "      <td>...</td>\n",
       "      <td>...</td>\n",
       "      <td>...</td>\n",
       "      <td>...</td>\n",
       "      <td>...</td>\n",
       "    </tr>\n",
       "    <tr>\n",
       "      <th>40944</th>\n",
       "      <td>18.14.06</td>\n",
       "      <td>The Cat Who Caught the Laser</td>\n",
       "      <td>AaronsAnimals</td>\n",
       "      <td>15</td>\n",
       "      <td>2018-05-18T13:00:04.000Z</td>\n",
       "      <td>aarons animals|\"aarons\"|\"animals\"|\"cat\"|\"cats\"...</td>\n",
       "      <td>1685609</td>\n",
       "      <td>38160</td>\n",
       "      <td>1385</td>\n",
       "      <td>2657</td>\n",
       "      <td>False</td>\n",
       "      <td>False</td>\n",
       "      <td>The Cat Who Caught the Laser - Aaron's Animals</td>\n",
       "    </tr>\n",
       "    <tr>\n",
       "      <th>40945</th>\n",
       "      <td>18.14.06</td>\n",
       "      <td>True Facts : Ant Mutualism</td>\n",
       "      <td>zefrank1</td>\n",
       "      <td>22</td>\n",
       "      <td>2018-05-18T01:00:06.000Z</td>\n",
       "      <td>[none]</td>\n",
       "      <td>1064798</td>\n",
       "      <td>60008</td>\n",
       "      <td>382</td>\n",
       "      <td>3936</td>\n",
       "      <td>False</td>\n",
       "      <td>False</td>\n",
       "      <td>NaN</td>\n",
       "    </tr>\n",
       "    <tr>\n",
       "      <th>40946</th>\n",
       "      <td>18.14.06</td>\n",
       "      <td>I GAVE SAFIYA NYGAARD A PERFECT HAIR MAKEOVER ...</td>\n",
       "      <td>Brad Mondo</td>\n",
       "      <td>24</td>\n",
       "      <td>2018-05-18T17:34:22.000Z</td>\n",
       "      <td>I gave safiya nygaard a perfect hair makeover ...</td>\n",
       "      <td>1066451</td>\n",
       "      <td>48068</td>\n",
       "      <td>1032</td>\n",
       "      <td>3992</td>\n",
       "      <td>False</td>\n",
       "      <td>False</td>\n",
       "      <td>I had so much fun transforming Safiyas hair in...</td>\n",
       "    </tr>\n",
       "    <tr>\n",
       "      <th>40947</th>\n",
       "      <td>18.14.06</td>\n",
       "      <td>How Black Panther Should Have Ended</td>\n",
       "      <td>How It Should Have Ended</td>\n",
       "      <td>1</td>\n",
       "      <td>2018-05-17T17:00:04.000Z</td>\n",
       "      <td>Black Panther|\"HISHE\"|\"Marvel\"|\"Infinity War\"|...</td>\n",
       "      <td>5660813</td>\n",
       "      <td>192957</td>\n",
       "      <td>2846</td>\n",
       "      <td>13088</td>\n",
       "      <td>False</td>\n",
       "      <td>False</td>\n",
       "      <td>How Black Panther Should Have EndedWatch More ...</td>\n",
       "    </tr>\n",
       "    <tr>\n",
       "      <th>40948</th>\n",
       "      <td>18.14.06</td>\n",
       "      <td>Official Call of Duty®: Black Ops 4 — Multipla...</td>\n",
       "      <td>Call of Duty</td>\n",
       "      <td>20</td>\n",
       "      <td>2018-05-17T17:09:38.000Z</td>\n",
       "      <td>call of duty|\"cod\"|\"activision\"|\"Black Ops 4\"</td>\n",
       "      <td>10306119</td>\n",
       "      <td>357079</td>\n",
       "      <td>212976</td>\n",
       "      <td>144795</td>\n",
       "      <td>False</td>\n",
       "      <td>False</td>\n",
       "      <td>Call of Duty: Black Ops 4 Multiplayer raises t...</td>\n",
       "    </tr>\n",
       "  </tbody>\n",
       "</table>\n",
       "<p>40949 rows × 13 columns</p>\n",
       "</div>"
      ],
      "text/plain": [
       "      trending_date                                              title  \\\n",
       "0          17.14.11                 WE WANT TO TALK ABOUT OUR MARRIAGE   \n",
       "1          17.14.11  The Trump Presidency: Last Week Tonight with J...   \n",
       "2          17.14.11  Racist Superman | Rudy Mancuso, King Bach & Le...   \n",
       "3          17.14.11                   Nickelback Lyrics: Real or Fake?   \n",
       "4          17.14.11                           I Dare You: GOING BALD!?   \n",
       "...             ...                                                ...   \n",
       "40944      18.14.06                       The Cat Who Caught the Laser   \n",
       "40945      18.14.06                         True Facts : Ant Mutualism   \n",
       "40946      18.14.06  I GAVE SAFIYA NYGAARD A PERFECT HAIR MAKEOVER ...   \n",
       "40947      18.14.06                How Black Panther Should Have Ended   \n",
       "40948      18.14.06  Official Call of Duty®: Black Ops 4 — Multipla...   \n",
       "\n",
       "                  channel_title  category_id              publish_time  \\\n",
       "0                  CaseyNeistat           22  2017-11-13T17:13:01.000Z   \n",
       "1               LastWeekTonight           24  2017-11-13T07:30:00.000Z   \n",
       "2                  Rudy Mancuso           23  2017-11-12T19:05:24.000Z   \n",
       "3         Good Mythical Morning           24  2017-11-13T11:00:04.000Z   \n",
       "4                      nigahiga           24  2017-11-12T18:01:41.000Z   \n",
       "...                         ...          ...                       ...   \n",
       "40944             AaronsAnimals           15  2018-05-18T13:00:04.000Z   \n",
       "40945                  zefrank1           22  2018-05-18T01:00:06.000Z   \n",
       "40946                Brad Mondo           24  2018-05-18T17:34:22.000Z   \n",
       "40947  How It Should Have Ended            1  2018-05-17T17:00:04.000Z   \n",
       "40948              Call of Duty           20  2018-05-17T17:09:38.000Z   \n",
       "\n",
       "                                                    tags     views   likes  \\\n",
       "0                                        SHANtell martin    748374   57527   \n",
       "1      last week tonight trump presidency|\"last week ...   2418783   97185   \n",
       "2      racist superman|\"rudy\"|\"mancuso\"|\"king\"|\"bach\"...   3191434  146033   \n",
       "3      rhett and link|\"gmm\"|\"good mythical morning\"|\"...    343168   10172   \n",
       "4      ryan|\"higa\"|\"higatv\"|\"nigahiga\"|\"i dare you\"|\"...   2095731  132235   \n",
       "...                                                  ...       ...     ...   \n",
       "40944  aarons animals|\"aarons\"|\"animals\"|\"cat\"|\"cats\"...   1685609   38160   \n",
       "40945                                             [none]   1064798   60008   \n",
       "40946  I gave safiya nygaard a perfect hair makeover ...   1066451   48068   \n",
       "40947  Black Panther|\"HISHE\"|\"Marvel\"|\"Infinity War\"|...   5660813  192957   \n",
       "40948      call of duty|\"cod\"|\"activision\"|\"Black Ops 4\"  10306119  357079   \n",
       "\n",
       "       dislikes  comment_count  comments_disabled  ratings_disabled  \\\n",
       "0          2966          15954              False             False   \n",
       "1          6146          12703              False             False   \n",
       "2          5339           8181              False             False   \n",
       "3           666           2146              False             False   \n",
       "4          1989          17518              False             False   \n",
       "...         ...            ...                ...               ...   \n",
       "40944      1385           2657              False             False   \n",
       "40945       382           3936              False             False   \n",
       "40946      1032           3992              False             False   \n",
       "40947      2846          13088              False             False   \n",
       "40948    212976         144795              False             False   \n",
       "\n",
       "                                             description  \n",
       "0      SHANTELL'S CHANNEL - https://www.youtube.com/s...  \n",
       "1      One year after the presidential election, John...  \n",
       "2      WATCH MY PREVIOUS VIDEO ▶ \\n\\nSUBSCRIBE ► http...  \n",
       "3      Today we find out if Link is a Nickelback amat...  \n",
       "4      I know it's been a while since we did this sho...  \n",
       "...                                                  ...  \n",
       "40944     The Cat Who Caught the Laser - Aaron's Animals  \n",
       "40945                                                NaN  \n",
       "40946  I had so much fun transforming Safiyas hair in...  \n",
       "40947  How Black Panther Should Have EndedWatch More ...  \n",
       "40948  Call of Duty: Black Ops 4 Multiplayer raises t...  \n",
       "\n",
       "[40949 rows x 13 columns]"
      ]
     },
     "execution_count": 23,
     "metadata": {},
     "output_type": "execute_result"
    }
   ],
   "source": [
    "# axis = 1 coluna\n",
    "# axis = 0 linha\n",
    "\n",
    "df.drop([\"video_id\", \"thumbnail_link\", \"video_error_or_removed\"], axis=1)\n"
   ]
  },
  {
   "cell_type": "markdown",
   "metadata": {},
   "source": [
    "### Filtre os vídeos com menos de 10000 likes e pegue as seguintes métricas:\n",
    "- Quantos videos se encaixam nesse filtro?\n",
    "- Média de dislikes\n",
    "- Mediana de visualizações\n",
    "- Vídeo com mais views\n",
    "- Vídeo com menos dislikes\n",
    "\n"
   ]
  },
  {
   "cell_type": "code",
   "execution_count": 30,
   "metadata": {},
   "outputs": [
    {
     "name": "stdout",
     "output_type": "stream",
     "text": [
      "\n",
      "Quantos videos se encaixam nesse filtro: 14771\n",
      "Média de dislikes 513.3076298151784\n",
      "Mediana de visualizações 165635.0\n",
      "Vídeo com mais views ['To Our Daughter']\n",
      "Vídeo com menos dislikes ['Improvising in the style of different classical composers | Practice Notes 34'\n",
      " 'The Oak Beams of New College, Oxford'\n",
      " 'Huffy Metaloid Bicycle Commercial 1997'\n",
      " 'Sphaera - demonstrating interaction' 'Apple Clips sample'\n",
      " \"dapulse is now monday.com. And there's a good reason why.\"\n",
      " \"John Collins' Best Dunks So Far This Season\"\n",
      " 'WWSB Channel 7:   Sarasota Police stepping up pedestrian and bicyclist safety enforcement'\n",
      " 'Vostok Brompton Beach Ride' '#StarOnFox Exclusive Clip for TheYBF.com'\n",
      " 'Religion Of Sports Season 2 - Trailer 1' 'Flying the Textron Scorpion'\n",
      " 'mad eye moody - moving eyeball prop'\n",
      " 'BALL SURPRISE PRANK (woody and kleiny)'\n",
      " 'The greatest best man speech from 10 year old son.'\n",
      " \"Breaking Bad's Bryan Cranston on Meeting Charles Manson\"\n",
      " 'Highlights of the EA predatory behavior announcement'\n",
      " 'Ford Thunderbird SC commercial (1989)'\n",
      " 'The Adventures of Ford Fairlane: Springloaded gun mishap'\n",
      " 'DipClip | Chicken Nugget Rally Testing | How secure is your sauce?'\n",
      " 'Masters Of The Sun: The Zombie Chronicles Augmented Reality Experience Release Date Trailer'\n",
      " 'Sarah Michelle Gellar Vs. Sarah Michelle Prinze'\n",
      " 'Melissa Benoist Sings Running Home To You | Crisis On Earth X | Supergirl S3x8'\n",
      " 'The New Snapchat in 60 Seconds'\n",
      " 'Tell Hollywood to stand with immigrants' 'Carol of the Pugs'\n",
      " 'Disney Princess Hand Pies'\n",
      " 'Test footage of my raspberry pi camera in the dark'\n",
      " 'Arizona State introductory press conference of Herm Edwards'\n",
      " '1991 Pontiac Lineup Commercial - With Patrick Stewart Narrating'\n",
      " 'NSC | Face to Face with the Prescription Opioid Crisis'\n",
      " 'Best Carol Burnett Show Bloopers' 'Google AIY Robot Conversion'\n",
      " 'exixe clock in action' 'The Evolution of the Movie Trailer'\n",
      " 'How to Write-In for the Alabama Special Election, Roll Tide!'\n",
      " 'coin cell challenge' 'HIGHLIGHTS: MK Dons U18s 1-0 Cardiff City U18s'\n",
      " 'How Noah Galvin Makes Evan Hansen His Own'\n",
      " 'Meet Emily #MAKEYOURMARK | Missguided'\n",
      " 'Dan Le Batard Breaks Down On Air After John Skipper Resigns From ESPN'\n",
      " 'Electromechanical display rear view'\n",
      " \"TB@DET: Enberg on the origins of his 'oh my' call\"\n",
      " 'Kate Winslet Commits to Her Ugly Christmas Sweater Look'\n",
      " 'RGB Pixel Christmas Tree'\n",
      " 'Hugh Jackman On Keeping His 21-Year Marriage Strong: The Crazy Ups & Crazy Downs | PeopleTV'\n",
      " \"Jonathan Groff's Festive Christmas Sweater\"\n",
      " 'PART 1 | Gwen Stefani with Blake Shelton | Instagram | December 24, 2017 | Christmas Eve with family'\n",
      " 'Christmas Day 2000'\n",
      " 'Animal electricity - Fingerling Fart Monkey Teardown'\n",
      " \"Mariah Carey - Live At Dick Clark's New Year's Rockin' Eve 2018!\"\n",
      " 'Samy Kamkar: Getting Started with Reverse Engineering'\n",
      " 'RC Jansen Strandbeest' 'Polar bear cub audio'\n",
      " 'Physical Encoder for an Open Source Braille Embosser'\n",
      " 'Gas Mask Scene | Kong: Skull Island (2017)'\n",
      " 'Making a Solar Cell From (Almost) Scratch'\n",
      " 'OjO Commuter Scooter®- Light Electric Vehicle for the Bike Lane & Beyond!'\n",
      " 'TimRollins part1' 'PK Inventor ASM V1 0' 'Laurie Santos: Monkeynomics'\n",
      " '1992 Chevy Lumina Euro commercial' 'Bradley Gawthrop: Wiring Boot Camp'\n",
      " 'This video shows a man trying to rob a Houston cell phone store.'\n",
      " 'RAPID EYE MOVEMENT⎪Teaser Trailer' 'Dogs First Snow! Cute Compilation!'\n",
      " \"WON'T YOU BE MY NEIGHBOR? - First Look Clip - Coming Soon\"\n",
      " 'Raw: 3 South Carolina Deputies, 1 Officer Shot'\n",
      " 'Martin Luther King - A Time to Break Silence'\n",
      " 'RAPID EYE MOVEMENT⎪Official Teaser Trailer'\n",
      " 'Inside Issa Rae’s LIT Malibu Pool Party! (Part 1/2)'\n",
      " 'Ikigai: The Japanese secret to a long and happy life'\n",
      " 'Ice jam breaking up  - 981701' 'JST Connector Crimp'\n",
      " 'Why Are Fat People a Joke?' \"Vince McMahon's Major Sports Announcement\"\n",
      " 'Introducing #AerieREAL Role Models' 'DJI Live - Adventure Unfolds'\n",
      " '1 dead, others injured after Ky. school shooting'\n",
      " 'RUSH TV Fan Friday: Rush Hulk'\n",
      " 'ATV attempt to pull out the car ││ Any Rubbish'\n",
      " 'Paper Programs Tutorial' 'Artwork Forge'\n",
      " 'Sega Game Gear Commercial Creamed Spinach - Retro Video Game Commercial / Ad'\n",
      " 'Hospital fire in South Korea kills at least 41 people'\n",
      " 'The Perfect Fit ft. Chris Pratt | Michelob ULTRA Super Bowl'\n",
      " \"Carolyn's RV Life Spots A Fluffy Kitty In Blythe\"\n",
      " 'Dan Quayle Speech About Murphy Brown and Family Values'\n",
      " 'Inside The Littiest Pre-GRAMMY Party!'\n",
      " \"Slooh's Blue Supermoon Total Lunar Eclipse\"\n",
      " 'Saved By The Max LA Ticket Announcement!'\n",
      " 'Official XFL Announcement with Vince McMahon'\n",
      " '1980 toyota corolla liftback commercial'\n",
      " 'First Responders Arrive To The Collapsed Floor | Season 1 Ep. 5 | 9-1-1'\n",
      " 'JavaScript Oscilloscope' 'Magic Highway USA' 'To Our Daughter'\n",
      " 'Trader Green Room: All Evening Long'\n",
      " 'Man pouring drinks (Jagerbomb shots) with his amazing trick - Whatsapp Videos'\n",
      " 'The Unsung' 'I Like Beer (:60) | Michelob ULTRA Super Bowl'\n",
      " 'Michelob Sport Super Bowl Commercial'\n",
      " 'T-Mobile | #LittleOnes | 2018 Big Game Ad'\n",
      " 'Kevin Hart Stopped by Super Bowl Security'\n",
      " \"MassMutual “I'll Stand By You” 2018 Commercial\"\n",
      " 'Did Beyonce Have To Check An Actress Talking To JAY-Z? | Uncensored'\n",
      " 'Paris Hilton - “I Need You” (Official Music Video)'\n",
      " \"Camilla Cabello Performs 'Never Be the Same' | Dancing On Ice 2018\"\n",
      " \"Camila Cabello Performs 'Never Be the Same' | Dancing On Ice 2018\"\n",
      " 'Jamie Foxx Awkward Interview SportsCenter Michael Smith'\n",
      " 'GET READY WITH ME | Halo Beauty Launch Day'\n",
      " 'The ocean currents brought us in a lovely gift today...'\n",
      " 'Camera Goes on Japanese Sushi Conveyor Belt Shows Beautiful Slice of Japanese Life'\n",
      " 'ULTRA LIVE presents Ultra Music Festival 2018 - DAY1'\n",
      " 'KKW BEAUTY: Conceal, Bake, Brighten with Mario Dedivanovic'\n",
      " 'Coachella 2018 LIVE Channel 1']\n",
      "\n"
     ]
    }
   ],
   "source": [
    "mensagem = \"\"\"\n",
    "Quantos videos se encaixam nesse filtro: {}\n",
    "Média de dislikes {}\n",
    "Mediana de visualizações {}\n",
    "Vídeo com mais views {}\n",
    "Vídeo com menos dislikes {}\n",
    "\"\"\"\n",
    "mensagem = mensagem.format(\n",
    "    df[df.likes < 10000].video_id.count(),\n",
    "    df[df.likes < 10000].dislikes.mean(),\n",
    "    df[df.likes < 10000].views.median(),\n",
    "    pandas.unique(df[df.views.values == df[df.likes.values < 10000].views.values.max()].title),\n",
    "    pandas.unique(df[df.dislikes.values == df[df.likes.values < 10000].dislikes.values.min()].title.values)\n",
    ")\n",
    "\n",
    "print(mensagem)"
   ]
  },
  {
   "cell_type": "markdown",
   "metadata": {},
   "source": [
    "### Agora filtre os vídeos com mais de 600 mil vizualizações e não são da categoria 1 e 25\n",
    "- Quantos videos se encaixam nesse filtro?\n",
    "- Média de dislikes\n",
    "- Mediana de visualizações\n",
    "- Vídeo com mais views\n",
    "- Vídeo com menos dislikes\n",
    "\n"
   ]
  },
  {
   "cell_type": "code",
   "execution_count": 80,
   "metadata": {},
   "outputs": [
    {
     "name": "stdout",
     "output_type": "stream",
     "text": [
      "\n",
      "Quantos videos se encaixam nesse filtro? 19567\n",
      "Média de dislikes 6939.23370981755\n",
      "Mediana de visualizações 1682177.0\n",
      "Vídeo com mais views ['Childish Gambino - This Is America (Official Video)']\n",
      "Vídeo com menos dislikes ['So Sorry.']\n",
      "\n"
     ]
    }
   ],
   "source": [
    "mensagem = \"\"\"\n",
    "Quantos videos se encaixam nesse filtro? {}\n",
    "Média de dislikes {}\n",
    "Mediana de visualizações {}\n",
    "Vídeo com mais views {}\n",
    "Vídeo com menos dislikes {}\n",
    "\"\"\"\n",
    "mensagem = mensagem.format(\n",
    "    df[(df.views > 600000) & (df.category_id != 1) & (df.category_id != 25)].video_id.count(),\n",
    "    df[(df.views > 600000) & (df.category_id != 1) & (df.category_id != 25)].dislikes.mean(),\n",
    "    df[(df.views > 600000) & (df.category_id != 1) & (df.category_id != 25)].views.median(),\n",
    "    df[df.views == df[(df.views > 600000) & (df.category_id != 1) & (df.category_id != 25)].views.max()].title.values,\n",
    "    df[df.dislikes == df[(df.views > 600000) & (df.category_id != 1) & (df.category_id != 25)].dislikes.max()].title.values\n",
    ")\n",
    "\n",
    "print(mensagem)"
   ]
  },
  {
   "cell_type": "markdown",
   "metadata": {},
   "source": [
    "### Qual dia da semana com mais videos publicados?\n",
    "\n"
   ]
  },
  {
   "cell_type": "code",
   "execution_count": 34,
   "metadata": {
    "scrolled": true
   },
   "outputs": [
    {
     "data": {
      "text/plain": [
       "days_of_week\n",
       "Friday    7002\n",
       "Name: video_id, dtype: int64"
      ]
     },
     "execution_count": 34,
     "metadata": {},
     "output_type": "execute_result"
    }
   ],
   "source": [
    "df['days_of_week'] =  pandas.to_datetime(df['publish_time']).dt.day_name()\n",
    "\n",
    "df.groupby('days_of_week')['video_id'].count().head(1)\n",
    "\n"
   ]
  },
  {
   "cell_type": "markdown",
   "metadata": {},
   "source": [
    "### Qual a distribuição (histograma) de videos x views?\n",
    "\n"
   ]
  },
  {
   "cell_type": "code",
   "execution_count": 111,
   "metadata": {},
   "outputs": [],
   "source": [
    "%matplotlib inline"
   ]
  },
  {
   "cell_type": "code",
   "execution_count": 40,
   "metadata": {},
   "outputs": [
    {
     "data": {
      "text/plain": [
       "<matplotlib.axes._subplots.AxesSubplot at 0x7ff5ca910048>"
      ]
     },
     "execution_count": 40,
     "metadata": {},
     "output_type": "execute_result"
    },
    {
     "data": {
      "image/png": "[encoded data removed]",
      "text/plain": [
       "<Figure size 432x288 with 1 Axes>"
      ]
     },
     "metadata": {
      "needs_background": "light"
     },
     "output_type": "display_data"
    }
   ],
   "source": [
    "\n",
    "df['views'].plot.hist(bins = 100, log = True)\n",
    "\n"
   ]
  },
  {
   "cell_type": "markdown",
   "metadata": {},
   "source": [
    "### Qual a distribuição de videos x likes?\n",
    "\n"
   ]
  },
  {
   "cell_type": "code",
   "execution_count": 41,
   "metadata": {},
   "outputs": [
    {
     "data": {
      "text/plain": [
       "<matplotlib.axes._subplots.AxesSubplot at 0x7ff5ca0ae588>"
      ]
     },
     "execution_count": 41,
     "metadata": {},
     "output_type": "execute_result"
    },
    {
     "data": {
      "image/png": "[encoded data removed]",
      "text/plain": [
       "<Figure size 432x288 with 1 Axes>"
      ]
     },
     "metadata": {
      "needs_background": "light"
     },
     "output_type": "display_data"
    }
   ],
   "source": [
    "df['likes'].plot.hist(bins = 100, log = True)"
   ]
  },
  {
   "cell_type": "markdown",
   "metadata": {},
   "source": [
    "### Faça uma sobreposição entre os histogramas de views e likes\n",
    "\n"
   ]
  },
  {
   "cell_type": "code",
   "execution_count": 32,
   "metadata": {
    "scrolled": true
   },
   "outputs": [
    {
     "data": {
      "text/plain": [
       "<matplotlib.axes._subplots.AxesSubplot at 0x7f53daf240b8>"
      ]
     },
     "execution_count": 32,
     "metadata": {},
     "output_type": "execute_result"
    },
    {
     "data": {
      "image/png": "[encoded data removed]",
      "text/plain": [
       "<Figure size 432x288 with 1 Axes>"
      ]
     },
     "metadata": {
      "needs_background": "light"
     },
     "output_type": "display_data"
    }
   ],
   "source": [
    "df.views.plot.hist(bins=20)\n",
    "df.likes.plot.hist(bins=20)"
   ]
  },
  {
   "cell_type": "markdown",
   "metadata": {},
   "source": [
    "### Faça um gráfico torta (`pie`) que divide os vídeos em \"Contém titulo capitalizado (primeira letra maiuscula)\" vs \"Não contém titulo capitalizado\"\n",
    "\n"
   ]
  },
  {
   "cell_type": "code",
   "execution_count": 43,
   "metadata": {},
   "outputs": [
    {
     "data": {
      "text/plain": [
       "<matplotlib.axes._subplots.AxesSubplot at 0x7ff5c9dade48>"
      ]
     },
     "execution_count": 43,
     "metadata": {},
     "output_type": "execute_result"
    },
    {
     "data": {
      "image/png": "[encoded data removed]",
      "text/plain": [
       "<Figure size 432x288 with 1 Axes>"
      ]
     },
     "metadata": {},
     "output_type": "display_data"
    }
   ],
   "source": [
    "letra = []\n",
    "for x in df.title:\n",
    "    letra.append(x.istitle())\n",
    "    \n",
    "df['contains_capitalized'] = letra\n",
    "df.groupby('contains_capitalized')['video_id'].count().plot.pie(autopct='%0.1f%%')"
   ]
  },
  {
   "cell_type": "markdown",
   "metadata": {},
   "source": [
    "### Qual a porcentagem de vídeos com título capitalizado e não-capitalizado?\n",
    "\n",
    "Crie uma coluna \"contains_capitalized\" do tipo bool, onde o valor é True se o titulo da linha for capitalized e False se não for."
   ]
  },
  {
   "cell_type": "code",
   "execution_count": 35,
   "metadata": {},
   "outputs": [
    {
     "data": {
      "text/plain": [
       "contains_capitalized\n",
       "False    73.913893\n",
       "True     26.086107\n",
       "Name: video_id, dtype: float64"
      ]
     },
     "execution_count": 35,
     "metadata": {},
     "output_type": "execute_result"
    }
   ],
   "source": [
    "df.groupby('contains_capitalized')['video_id'].count()/df.groupby('contains_capitalized')['video_id'].count().sum() *100"
   ]
  },
  {
   "cell_type": "markdown",
   "metadata": {},
   "source": [
    "### Quantas datas únicas e canais únicos temos nas colunas \"trending_date\" e \"channel_title\" respectivamente\n",
    "\n"
   ]
  },
  {
   "cell_type": "code",
   "execution_count": 80,
   "metadata": {},
   "outputs": [
    {
     "name": "stdout",
     "output_type": "stream",
     "text": [
      "205\n",
      "2207\n"
     ]
    }
   ],
   "source": [
    "print(len(df.trending_date.unique()))\n",
    "print(len(df.channel_title.unique()))"
   ]
  },
  {
   "cell_type": "markdown",
   "metadata": {},
   "source": [
    "### Faça um boxplot dos likes vs categoria\n",
    "\n"
   ]
  },
  {
   "cell_type": "code",
   "execution_count": 5,
   "metadata": {},
   "outputs": [
    {
     "data": {
      "image/png": "[encoded data removed]",
      "text/plain": [
       "<Figure size 432x288 with 1 Axes>"
      ]
     },
     "metadata": {
      "needs_background": "light"
     },
     "output_type": "display_data"
    }
   ],
   "source": []
  },
  {
   "cell_type": "markdown",
   "metadata": {},
   "source": [
    "### Qual a distribuição (histograma) de vídeos publicados por dia da semana?\n",
    "\n"
   ]
  },
  {
   "cell_type": "code",
   "execution_count": 8,
   "metadata": {},
   "outputs": [
    {
     "ename": "AttributeError",
     "evalue": "'DataFrame' object has no attribute 'days_of_week'",
     "output_type": "error",
     "traceback": [
      "\u001b[0;31m---------------------------------------------------------------------------\u001b[0m",
      "\u001b[0;31mAttributeError\u001b[0m                            Traceback (most recent call last)",
      "\u001b[0;32m<ipython-input-8-58f79af70859>\u001b[0m in \u001b[0;36m<module>\u001b[0;34m\u001b[0m\n\u001b[1;32m      1\u001b[0m \u001b[0;32mimport\u001b[0m \u001b[0mmatplotlib\u001b[0m\u001b[0;34m.\u001b[0m\u001b[0mpyplot\u001b[0m \u001b[0;32mas\u001b[0m \u001b[0mplt\u001b[0m\u001b[0;34m\u001b[0m\u001b[0;34m\u001b[0m\u001b[0m\n\u001b[1;32m      2\u001b[0m \u001b[0;34m\u001b[0m\u001b[0m\n\u001b[0;32m----> 3\u001b[0;31m \u001b[0mplt\u001b[0m\u001b[0;34m.\u001b[0m\u001b[0mplot\u001b[0m\u001b[0;34m(\u001b[0m\u001b[0mdf\u001b[0m\u001b[0;34m.\u001b[0m\u001b[0mtitle\u001b[0m\u001b[0;34m,\u001b[0m \u001b[0mdf\u001b[0m\u001b[0;34m.\u001b[0m\u001b[0mdays_of_week\u001b[0m\u001b[0;34m)\u001b[0m\u001b[0;34m\u001b[0m\u001b[0;34m\u001b[0m\u001b[0m\n\u001b[0m\u001b[1;32m      4\u001b[0m \u001b[0mplt\u001b[0m\u001b[0;34m.\u001b[0m\u001b[0mshow\u001b[0m\u001b[0;34m(\u001b[0m\u001b[0;34m)\u001b[0m\u001b[0;34m\u001b[0m\u001b[0;34m\u001b[0m\u001b[0m\n",
      "\u001b[0;32m~/anaconda3/envs/python3/lib/python3.6/site-packages/pandas/core/generic.py\u001b[0m in \u001b[0;36m__getattr__\u001b[0;34m(self, name)\u001b[0m\n\u001b[1;32m   5272\u001b[0m             \u001b[0;32mif\u001b[0m \u001b[0mself\u001b[0m\u001b[0;34m.\u001b[0m\u001b[0m_info_axis\u001b[0m\u001b[0;34m.\u001b[0m\u001b[0m_can_hold_identifiers_and_holds_name\u001b[0m\u001b[0;34m(\u001b[0m\u001b[0mname\u001b[0m\u001b[0;34m)\u001b[0m\u001b[0;34m:\u001b[0m\u001b[0;34m\u001b[0m\u001b[0;34m\u001b[0m\u001b[0m\n\u001b[1;32m   5273\u001b[0m                 \u001b[0;32mreturn\u001b[0m \u001b[0mself\u001b[0m\u001b[0;34m[\u001b[0m\u001b[0mname\u001b[0m\u001b[0;34m]\u001b[0m\u001b[0;34m\u001b[0m\u001b[0;34m\u001b[0m\u001b[0m\n\u001b[0;32m-> 5274\u001b[0;31m             \u001b[0;32mreturn\u001b[0m \u001b[0mobject\u001b[0m\u001b[0;34m.\u001b[0m\u001b[0m__getattribute__\u001b[0m\u001b[0;34m(\u001b[0m\u001b[0mself\u001b[0m\u001b[0;34m,\u001b[0m \u001b[0mname\u001b[0m\u001b[0;34m)\u001b[0m\u001b[0;34m\u001b[0m\u001b[0;34m\u001b[0m\u001b[0m\n\u001b[0m\u001b[1;32m   5275\u001b[0m \u001b[0;34m\u001b[0m\u001b[0m\n\u001b[1;32m   5276\u001b[0m     \u001b[0;32mdef\u001b[0m \u001b[0m__setattr__\u001b[0m\u001b[0;34m(\u001b[0m\u001b[0mself\u001b[0m\u001b[0;34m,\u001b[0m \u001b[0mname\u001b[0m\u001b[0;34m:\u001b[0m \u001b[0mstr\u001b[0m\u001b[0;34m,\u001b[0m \u001b[0mvalue\u001b[0m\u001b[0;34m)\u001b[0m \u001b[0;34m->\u001b[0m \u001b[0;32mNone\u001b[0m\u001b[0;34m:\u001b[0m\u001b[0;34m\u001b[0m\u001b[0;34m\u001b[0m\u001b[0m\n",
      "\u001b[0;31mAttributeError\u001b[0m: 'DataFrame' object has no attribute 'days_of_week'"
     ]
    }
   ],
   "source": [
    "import matplotlib.pyplot as plt\n",
    "\n",
    "plt.plot(df.title, df.days_of_week)\n",
    "plt.show()"
   ]
  },
  {
   "cell_type": "markdown",
   "metadata": {},
   "source": [
    "### Qual a distribuição(histograma) de vídeos publicados por hora do dia?\n",
    "\n"
   ]
  },
  {
   "cell_type": "code",
   "execution_count": null,
   "metadata": {
    "collapsed": true
   },
   "outputs": [],
   "source": []
  },
  {
   "cell_type": "markdown",
   "metadata": {},
   "source": [
    "### Quais correlações você consegue encontrar nesse dataset? Quais insights você tira com esses dados?\n",
    "Esse exercicio é pra trabalhar sua criatividade e capacidade analítica, não existe resposta certa"
   ]
  },
  {
   "cell_type": "code",
   "execution_count": null,
   "metadata": {
    "collapsed": true
   },
   "outputs": [],
   "source": []
  }
 ],
 "metadata": {
  "kernelspec": {
   "display_name": "conda_python3",
   "language": "python",
   "name": "conda_python3"
  },
  "language_info": {
   "codemirror_mode": {
    "name": "ipython",
    "version": 3
   },
   "file_extension": ".py",
   "mimetype": "text/x-python",
   "name": "python",
   "nbconvert_exporter": "python",
   "pygments_lexer": "ipython3",
   "version": "3.6.10"
  }
 },
 "nbformat": 4,
 "nbformat_minor": 4
}
