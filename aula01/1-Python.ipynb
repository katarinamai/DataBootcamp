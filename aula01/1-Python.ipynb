{
 "cells": [
  {
   "cell_type": "markdown",
   "metadata": {
    "colab_type": "text",
    "id": "SK_1fkJI026i"
   },
   "source": [
    "# <center>DATA BOOTCAMP</center>\n",
    "\n",
    "## O que é o Jupyter?\n",
    "\n",
    "É plataforma open-source para escrever código no browser, muito usada por cientistas para criar relatórios e artigos executáveis.\n",
    "![alt text](https://i.imgur.com/xGJjpR1.png)\n",
    "\n",
    "### Vamos dar um tour para conhecer mais sobre ele\n",
    "\n",
    "O Jupyter tem **células** (cell), onde você pode digitar texto e código, alé disso é possível exibir (plotar) gráficos, vídeos, mapas interativos e várias outras funcionalidades.\n",
    "\n",
    "### Como escrevi esse texto aqui no Jupyter?\n",
    "\n",
    "Primeiro precisei criar uma célula nova, para isso cliquei no botão **`+`** no toolbar, após isso selecionei o modo de edição **`Markdown`**, ao usar esse modo podemos escrever textos seguindo esse padrão. Você consegue aprender mais sobre nesse link: [Markdown Cheatsheet](https://github.com/adam-p/markdown-here/wiki/Markdown-Cheatsheet)\n",
    "\n",
    "Para executar uma célula devemos apertar o botão **`play`**\n",
    "\n",
    "### Veja como é fácil!"
   ]
  },
  {
   "cell_type": "markdown",
   "metadata": {
    "colab_type": "text",
    "id": "gSqgMAo_026i"
   },
   "source": [
    "**Hello world!**"
   ]
  },
  {
   "cell_type": "markdown",
   "metadata": {
    "colab_type": "text",
    "id": "wwmENb04026j",
    "jupyter": {
     "outputs_hidden": true
    }
   },
   "source": [
    "### O Jupyter permite escrever um relatório que inclua tanto textos quanto código.\n",
    "O curso será todo em **`Python`**, a versão que vamos usar é a 3.7. Para programar no Jupyter seguiremos os mesmos passos: criaremos uma célula nova, sem precisar trocar o modo de edição, pois o padrão já é **`code`**."
   ]
  },
  {
   "cell_type": "code",
   "execution_count": 5,
   "metadata": {
    "colab": {},
    "colab_type": "code",
    "id": "sD9d7FJL026j",
    "outputId": "cd022ff3-defa-455c-d14c-fd289759e640"
   },
   "outputs": [
    {
     "name": "stdout",
     "output_type": "stream",
     "text": [
      "isto é uma célula de código python.\n"
     ]
    }
   ],
   "source": [
    "print(\"isto é uma célula de código python.\")"
   ]
  },
  {
   "cell_type": "markdown",
   "metadata": {
    "colab_type": "text",
    "id": "X4VmWdI0026n"
   },
   "source": [
    "## Chegou a sua vez!\n",
    "\n",
    "### **Desafio:** Crie uma célula, coloque o seu nome e execute!\n",
    "![alt text](https://static.vix.com/pt/sites/default/files/styles/large/public/a/atrasada-relogio-pulso-1116-1400x800.jpg?itok=qv3gUH6U)"
   ]
  },
  {
   "cell_type": "code",
   "execution_count": 2,
   "metadata": {
    "colab": {},
    "colab_type": "code",
    "id": "n_5d1DHTUUtc"
   },
   "outputs": [
    {
     "name": "stdout",
     "output_type": "stream",
     "text": [
      "Katarina\n"
     ]
    }
   ],
   "source": [
    "print(\"Katarina\")"
   ]
  },
  {
   "cell_type": "markdown",
   "metadata": {
    "colab_type": "text",
    "id": "mpwUtfjs026n"
   },
   "source": [
    "### Atalhos interessantes do jupyter:\n",
    "\n",
    "* **enter**: entra no modo de edição de uma celula.\n",
    "* **esc**: sai do modo de edição.\n",
    "* **shift + enter**: executa o conteudo da celula.\n",
    "* **palavra + tab**: auto-completa palavra ja escrita antes. Funciona em celulas com codigo.\n",
    "* **b**: abre uma celula de codigo abaixo da atual.\n",
    "* **a**: abre uma celula de codigo acima da atual.\n",
    "* **x**: remove uma celula. Funciona fora do modo de edição.\n",
    "* **m**: transforma uma celula de codigo em texto.\n",
    "* **y**: transforma uma celula de texto em codigo.\n",
    "\n",
    "## Além de escrever textos nós vamos programar em Python\n",
    "![alt text](https://1504253206.rsc.cdn77.org/wp-content/uploads/2015/11/Python-logo.png)\n",
    "\n",
    "# Tipo dos dados\n",
    "\n",
    "Tipos são formas de dizer ao programa como você espera que ele se comporte, junto disso vez as operações possíveis para serem realizadas, elas variam dado os tipos. Vejamos os tipos mais comuns:\n",
    "\n",
    "* Inteiro\t(int) → `5`, `10`\n",
    "* Ponto\tflutuante\t(float) → `1.0`, `8.5`\n",
    "* Lógico\t(boolean)\t→ `True`, `False`\n",
    "* Cadeia\tde\tcaracteres, textos\t(string) → `A`, `Abelha`\n",
    "\n",
    "Vamos ver a diferença entre os tipos, começando pelos tipos numéricos!\n",
    "\n",
    "**Inteiro**"
   ]
  },
  {
   "cell_type": "code",
   "execution_count": 6,
   "metadata": {},
   "outputs": [
    {
     "name": "stdout",
     "output_type": "stream",
     "text": [
      "1\n"
     ]
    }
   ],
   "source": [
    "print(1)"
   ]
  },
  {
   "cell_type": "code",
   "execution_count": null,
   "metadata": {
    "colab": {},
    "colab_type": "code",
    "id": "82DSqWxk026q",
    "outputId": "1dd581ad-d6d9-4498-8778-1c96aa5ace9d"
   },
   "outputs": [],
   "source": [
    "print(-1)"
   ]
  },
  {
   "cell_type": "markdown",
   "metadata": {
    "colab_type": "text",
    "id": "r_7WFhsQ026t"
   },
   "source": [
    "**Ponto flutuante**"
   ]
  },
  {
   "cell_type": "code",
   "execution_count": null,
   "metadata": {
    "colab": {},
    "colab_type": "code",
    "id": "-_KYTFSV026t",
    "outputId": "021c66e6-d5eb-4915-ae48-39ae69cee00e"
   },
   "outputs": [],
   "source": [
    "print(2.0)"
   ]
  },
  {
   "cell_type": "markdown",
   "metadata": {
    "colab_type": "text",
    "id": "9lFlt6CY026v"
   },
   "source": [
    "### Dica: O Jupyter tem uma particularidade, ele considera a última saída de um comando python como algo visível (printable)"
   ]
  },
  {
   "cell_type": "code",
   "execution_count": null,
   "metadata": {
    "colab": {},
    "colab_type": "code",
    "id": "rTORf41M026w",
    "outputId": "d6cff7ee-bb31-4842-8bbe-9198db68ba40"
   },
   "outputs": [],
   "source": [
    "1"
   ]
  },
  {
   "cell_type": "code",
   "execution_count": null,
   "metadata": {
    "colab": {},
    "colab_type": "code",
    "id": "_YKxWf4R026y",
    "outputId": "1182079d-73c2-4007-bc3b-a1f2aeed3b30"
   },
   "outputs": [],
   "source": [
    "2.0"
   ]
  },
  {
   "cell_type": "markdown",
   "metadata": {
    "colab_type": "text",
    "id": "_ONRekkH0261"
   },
   "source": [
    "### Com números podemos fazer todas as operações matemáticas! \n",
    "\n",
    "* Soma `+` \n",
    "* Subtração `-`\n",
    "* Divisão `/`\n",
    "* Multiplicação `*`\n",
    "* Potência `**`\n",
    "* [Veja mais exemplos nesse link](https://www.digitalocean.com/community/tutorials/how-to-do-math-in-python-3-with-operators)."
   ]
  },
  {
   "cell_type": "code",
   "execution_count": null,
   "metadata": {
    "colab": {},
    "colab_type": "code",
    "id": "uoOe-5ZY0261",
    "outputId": "928976a3-c092-47d0-9d31-d63d2fc4a965"
   },
   "outputs": [],
   "source": [
    "39+3"
   ]
  },
  {
   "cell_type": "markdown",
   "metadata": {
    "colab_type": "text",
    "id": "LST3NVqW0263"
   },
   "source": [
    "### **Desafio:** Qual a resposta da equação `2+2*2/3`? \n",
    "![alt text](https://static.vix.com/pt/sites/default/files/styles/large/public/a/atrasada-relogio-pulso-1116-1400x800.jpg?itok=qv3gUH6U)"
   ]
  },
  {
   "cell_type": "code",
   "execution_count": 8,
   "metadata": {
    "colab": {},
    "colab_type": "code",
    "id": "uuS_OHC4X7Ki"
   },
   "outputs": [
    {
     "data": {
      "text/plain": [
       "3.333333333333333"
      ]
     },
     "execution_count": 8,
     "metadata": {},
     "output_type": "execute_result"
    }
   ],
   "source": [
    "#solução\n",
    "2+2*2/3"
   ]
  },
  {
   "cell_type": "markdown",
   "metadata": {
    "colab_type": "text",
    "id": "laTYXFX90264"
   },
   "source": [
    "**Se tentarmos executar algo impossível o python reclama!**"
   ]
  },
  {
   "cell_type": "code",
   "execution_count": 9,
   "metadata": {
    "colab": {},
    "colab_type": "code",
    "id": "uZGnK5-u0264",
    "outputId": "005458ff-e074-4a8c-82c7-9414710ee857"
   },
   "outputs": [
    {
     "ename": "ZeroDivisionError",
     "evalue": "division by zero",
     "output_type": "error",
     "traceback": [
      "\u001b[0;31m---------------------------------------------------------------------------\u001b[0m",
      "\u001b[0;31mZeroDivisionError\u001b[0m                         Traceback (most recent call last)",
      "\u001b[0;32m<ipython-input-9-9e1622b385b6>\u001b[0m in \u001b[0;36m<module>\u001b[0;34m\u001b[0m\n\u001b[0;32m----> 1\u001b[0;31m \u001b[0;36m1\u001b[0m\u001b[0;34m/\u001b[0m\u001b[0;36m0\u001b[0m\u001b[0;34m\u001b[0m\u001b[0;34m\u001b[0m\u001b[0m\n\u001b[0m",
      "\u001b[0;31mZeroDivisionError\u001b[0m: division by zero"
     ]
    }
   ],
   "source": [
    "1/0"
   ]
  },
  {
   "cell_type": "markdown",
   "metadata": {
    "colab_type": "text",
    "id": "TltKvMYW0266"
   },
   "source": [
    "**Como interpretamos os erros?**\n",
    "\n",
    "Em python o interpretador tenta te ajudar ao máximo a encontrar o erro pra isso ele trás uma descrição do erro e \"aponta\" pra gente em qual linha o erro aconteceu. \n",
    "\n",
    "**Nós recomendamos seguir esses passos para validar um erro no Jupyter:**\n",
    "\n",
    "* Olhar a última linha\n",
    "* Verificar qual linha ele aponta o erro, ele usa o símbolo `--->`\n",
    "* Se o erro não fizer sentido reiniciei o kernel `Restart + run all`\n",
    "* Se você não sabe oque o erro significa use o `Stackoverflow` no Google :)\n",
    "\n",
    "**String**"
   ]
  },
  {
   "cell_type": "code",
   "execution_count": null,
   "metadata": {
    "colab": {
     "base_uri": "https://localhost:8080/",
     "height": 34
    },
    "colab_type": "code",
    "id": "po13BgEBaCsD",
    "outputId": "9a26e70c-b35d-4ee3-9beb-c5d3c66c5d41"
   },
   "outputs": [],
   "source": [
    "\"Data Bootcamp\""
   ]
  },
  {
   "cell_type": "markdown",
   "metadata": {
    "colab_type": "text",
    "id": "Kt3TeEPzaKLi"
   },
   "source": [
    "**Nós podemos juntar duas `String` usando o operador de soma `+`, que nesse caso funciona como um concatenador.**"
   ]
  },
  {
   "cell_type": "code",
   "execution_count": 10,
   "metadata": {
    "colab": {
     "base_uri": "https://localhost:8080/",
     "height": 34
    },
    "colab_type": "code",
    "id": "g5tlW2_XaVGx",
    "outputId": "52f44991-445f-4472-9f76-0437c5d0c167"
   },
   "outputs": [
    {
     "data": {
      "text/plain": [
       "'DataBootcamp'"
      ]
     },
     "execution_count": 10,
     "metadata": {},
     "output_type": "execute_result"
    }
   ],
   "source": [
    "\"Data\" + \"Bootcamp\""
   ]
  },
  {
   "cell_type": "markdown",
   "metadata": {
    "colab_type": "text",
    "id": "59dp_ebSaaJI"
   },
   "source": [
    "Repare no problema que geramos, ao usar o operador mais não temos espaço entre as palavras. Logo iremos resolver ele, antes vamos ver outro conceito."
   ]
  },
  {
   "cell_type": "markdown",
   "metadata": {
    "colab_type": "text",
    "id": "-n-CbEQE0266"
   },
   "source": [
    "## Variáveis\n",
    "\n",
    "É a forma como podemos guardar um valor e usá-lo no futuro, ele é uma forma de criar um `label/rótulo` legível para um conjunto de valores. Manipular dados soltos não é bom, pois sem eles fica dificil descrever o que queremos!\n",
    "\n",
    "\n",
    "**Vamos começar criando uma variável do tipo texto (string)**"
   ]
  },
  {
   "cell_type": "code",
   "execution_count": 24,
   "metadata": {
    "colab": {},
    "colab_type": "code",
    "id": "HD_hIKWW0267"
   },
   "outputs": [],
   "source": [
    "saudacao = \"Hello world!\""
   ]
  },
  {
   "cell_type": "code",
   "execution_count": 13,
   "metadata": {
    "colab": {},
    "colab_type": "code",
    "id": "GXZkJXzl0269",
    "outputId": "22bc1c45-a2bf-4965-b86e-0b6692c8d98c"
   },
   "outputs": [
    {
     "name": "stdout",
     "output_type": "stream",
     "text": [
      "Hello world!\n"
     ]
    }
   ],
   "source": [
    "print(saudacao)"
   ]
  },
  {
   "cell_type": "code",
   "execution_count": 25,
   "metadata": {
    "colab": {},
    "colab_type": "code",
    "id": "heHi3fQg027B",
    "outputId": "b6e41073-105e-4ce7-d155-414731f80ea6"
   },
   "outputs": [
    {
     "data": {
      "text/plain": [
       "'Hello world!'"
      ]
     },
     "execution_count": 25,
     "metadata": {},
     "output_type": "execute_result"
    }
   ],
   "source": [
    "saudacao"
   ]
  },
  {
   "cell_type": "markdown",
   "metadata": {
    "colab_type": "text",
    "id": "XSRstGRm027D"
   },
   "source": [
    "**Quando for criar uma variável dê a ela um rótulo que faça sentido**"
   ]
  },
  {
   "cell_type": "code",
   "execution_count": 18,
   "metadata": {
    "colab": {},
    "colab_type": "code",
    "id": "vo3xl8XV027D"
   },
   "outputs": [],
   "source": [
    "x = 1988 #isso é ruim pois o que é x?"
   ]
  },
  {
   "cell_type": "code",
   "execution_count": 19,
   "metadata": {
    "colab": {},
    "colab_type": "code",
    "id": "vIQAzXDJ027F"
   },
   "outputs": [],
   "source": [
    "ano_do_nascimento = 1988 #essa variável é muito mais clara pois sabemos o que ela faz"
   ]
  },
  {
   "cell_type": "markdown",
   "metadata": {
    "colab_type": "text",
    "id": "mG1gZj4P027H"
   },
   "source": [
    "**No python seguimos alguns padrões para tornar o código mais legível, para variáveis seguimos o padrão `snake_case`**\n",
    "\n",
    "Esse padrão sugere que escrevamos em **minúsculo** usando **`_`** para separar os termos de uma variável.\n",
    "\n",
    "O python tem uma série de padrões para escrita de código chamada de `PEP8`, para quem quer conhecer mais padrões recomendados ler esse [link](https://realpython.com/python-pep8/)."
   ]
  },
  {
   "cell_type": "code",
   "execution_count": null,
   "metadata": {
    "colab": {},
    "colab_type": "code",
    "id": "r4MdGN14027H"
   },
   "outputs": [],
   "source": [
    "camelCase = \"mas não é o sugerido/recomendado\"\n",
    "snake_case = \"prefira adotar esse padrão\""
   ]
  },
  {
   "cell_type": "markdown",
   "metadata": {
    "colab_type": "text",
    "id": "-n51hFETeUoc"
   },
   "source": [
    "Quando estiver escrevendo seu notebook tenha em mente os ensinamentos do **Time Peters** no [The Zen of Python](https://www.python.org/dev/peps/pep-0020/):\n",
    "\n",
    "* Beautiful is better than ugly.\n",
    "* Explicit is better than implicit.\n",
    "* Simple is better than complex.\n",
    "* Now is better than never."
   ]
  },
  {
   "cell_type": "markdown",
   "metadata": {
    "colab_type": "text",
    "id": "1xUpP25f027J"
   },
   "source": [
    "### Para identificarmos o tipo de uma váriavel usamos: `type`"
   ]
  },
  {
   "cell_type": "code",
   "execution_count": 26,
   "metadata": {
    "colab": {},
    "colab_type": "code",
    "id": "sz9nsT4d027K",
    "outputId": "11dbce5b-5c30-471e-dc16-708cd25fea4f"
   },
   "outputs": [
    {
     "data": {
      "text/plain": [
       "str"
      ]
     },
     "execution_count": 26,
     "metadata": {},
     "output_type": "execute_result"
    }
   ],
   "source": [
    "type(saudacao)"
   ]
  },
  {
   "cell_type": "code",
   "execution_count": 27,
   "metadata": {
    "colab": {},
    "colab_type": "code",
    "id": "DUV3_QFf027L",
    "outputId": "298244b2-fc01-445e-f8d9-518f0de05682"
   },
   "outputs": [
    {
     "data": {
      "text/plain": [
       "int"
      ]
     },
     "execution_count": 27,
     "metadata": {},
     "output_type": "execute_result"
    }
   ],
   "source": [
    "type(ano_do_nascimento)"
   ]
  },
  {
   "cell_type": "markdown",
   "metadata": {
    "colab_type": "text",
    "id": "xnV7RMEH027N"
   },
   "source": [
    "### **Desafio:** Verifique o tipo do termo a seguir `2.0` \n",
    "![alt text](https://static.vix.com/pt/sites/default/files/styles/large/public/a/atrasada-relogio-pulso-1116-1400x800.jpg?itok=qv3gUH6U)"
   ]
  },
  {
   "cell_type": "code",
   "execution_count": 28,
   "metadata": {
    "colab": {},
    "colab_type": "code",
    "id": "5DKYzYItecqO"
   },
   "outputs": [
    {
     "data": {
      "text/plain": [
       "float"
      ]
     },
     "execution_count": 28,
     "metadata": {},
     "output_type": "execute_result"
    }
   ],
   "source": [
    "#solução\n",
    "type(2.0)"
   ]
  },
  {
   "cell_type": "markdown",
   "metadata": {
    "colab_type": "text",
    "id": "tgHzAZx9027O"
   },
   "source": [
    "**Atenção! É importante seguir corretamente a definição dos tipos senão podemos fazer coisas do tipo**"
   ]
  },
  {
   "cell_type": "code",
   "execution_count": 29,
   "metadata": {
    "colab": {},
    "colab_type": "code",
    "id": "9bMJIvom027O",
    "outputId": "a1e1dc00-fed1-4e46-c76f-1a971502915a"
   },
   "outputs": [
    {
     "data": {
      "text/plain": [
       "'42'"
      ]
     },
     "execution_count": 29,
     "metadata": {},
     "output_type": "execute_result"
    }
   ],
   "source": [
    "\"4\" + \"2\""
   ]
  },
  {
   "cell_type": "markdown",
   "metadata": {
    "colab_type": "text",
    "id": "vqdGN-B7027Q"
   },
   "source": [
    "**Como vimos anteriormente o Python deixa a gente usar operadores matemáticos, mas podemos ir além do `+` nos textos, isso pode ser útil em alguns casos**"
   ]
  },
  {
   "cell_type": "code",
   "execution_count": 30,
   "metadata": {
    "colab": {},
    "colab_type": "code",
    "id": "2s3vajcp027Q",
    "outputId": "361f3fdb-0503-4be5-8ec2-1935c67acd97"
   },
   "outputs": [
    {
     "name": "stdout",
     "output_type": "stream",
     "text": [
      "olá Mickey\n"
     ]
    }
   ],
   "source": [
    "nome = \"Mickey\"\n",
    "print(\"olá \" + nome)"
   ]
  },
  {
   "cell_type": "code",
   "execution_count": 31,
   "metadata": {
    "colab": {},
    "colab_type": "code",
    "id": "XllxzaJF027S",
    "outputId": "a36af6e7-24cd-4690-b5cd-2cc9afddc988"
   },
   "outputs": [
    {
     "name": "stdout",
     "output_type": "stream",
     "text": [
      "Mickey | Mickey | Mickey | Mickey | \n"
     ]
    }
   ],
   "source": [
    "nome = \"Mickey\"\n",
    "separador = \" | \"\n",
    "print((nome + separador) * 4)"
   ]
  },
  {
   "cell_type": "code",
   "execution_count": 32,
   "metadata": {
    "colab": {},
    "colab_type": "code",
    "id": "wxrpfqQV027T",
    "outputId": "baa23270-6356-4158-9bcd-3811e9aef1f4"
   },
   "outputs": [
    {
     "data": {
      "text/plain": [
       "'🚀🚀🚀'"
      ]
     },
     "execution_count": 32,
     "metadata": {},
     "output_type": "execute_result"
    }
   ],
   "source": [
    "\"🚀\"*3"
   ]
  },
  {
   "cell_type": "markdown",
   "metadata": {
    "colab_type": "text",
    "id": "0EE_ljyi027V"
   },
   "source": [
    "**Quando precisamos escrever um texto com mais de uma linha o ideal é usar outro sinalizador de texto**"
   ]
  },
  {
   "cell_type": "code",
   "execution_count": 33,
   "metadata": {
    "colab": {},
    "colab_type": "code",
    "id": "jE0DOkfv027W",
    "outputId": "7f50f799-a744-4b1e-8d94-fda21b49145f"
   },
   "outputs": [
    {
     "data": {
      "text/plain": [
       "'\\numa forma legal de escrever\\num texto\\ncom várias linhas\\n'"
      ]
     },
     "execution_count": 33,
     "metadata": {},
     "output_type": "execute_result"
    }
   ],
   "source": [
    "\"\"\"\n",
    "uma forma legal de escrever\n",
    "um texto\n",
    "com várias linhas\n",
    "\"\"\""
   ]
  },
  {
   "cell_type": "markdown",
   "metadata": {
    "colab_type": "text",
    "id": "WuAeZrBM027Y"
   },
   "source": [
    "**O Jupyter não renderiza tão bem esses textos de múltiplas linhas, ele exibe o `\\n` que é o sinalizador de quebra de linha**"
   ]
  },
  {
   "cell_type": "code",
   "execution_count": 34,
   "metadata": {
    "colab": {},
    "colab_type": "code",
    "id": "PBdkbQWw027Y",
    "outputId": "90b1b0ae-a576-40cb-8c54-550cafd72991"
   },
   "outputs": [
    {
     "name": "stdout",
     "output_type": "stream",
     "text": [
      "\n",
      "uma forma legal de escrever\n",
      "um texto\n",
      "com várias linhas\n",
      "\n"
     ]
    }
   ],
   "source": [
    "mensagem = \"\"\"\n",
    "uma forma legal de escrever\n",
    "um texto\n",
    "com várias linhas\n",
    "\"\"\"\n",
    "\n",
    "print(mensagem)"
   ]
  },
  {
   "cell_type": "markdown",
   "metadata": {
    "colab_type": "text",
    "id": "HXeIFb9z027b"
   },
   "source": [
    "**Interpolação de String**\n",
    "\n",
    "Um jeito mais elegante de escrever textos usando variáveis e blocos maiores é usando um conceito chamado **interpolação de string**, nele usando um operador chamado `format` para usar variáveis em textos.\n",
    "\n",
    "**Solução usando o `+`**"
   ]
  },
  {
   "cell_type": "code",
   "execution_count": 35,
   "metadata": {
    "colab": {},
    "colab_type": "code",
    "id": "0Lr6rAVl027b",
    "outputId": "a3bf14a9-9d10-4b5b-e7ed-c2f95859f460"
   },
   "outputs": [
    {
     "data": {
      "text/plain": [
       "'Sou o Batman e moro em Gotham'"
      ]
     },
     "execution_count": 35,
     "metadata": {},
     "output_type": "execute_result"
    }
   ],
   "source": [
    "nome = \"Batman\"\n",
    "cidade = \"Gotham\"\n",
    "\n",
    "\"Sou o \" + nome + \" e moro em \" + cidade"
   ]
  },
  {
   "cell_type": "markdown",
   "metadata": {
    "colab_type": "text",
    "id": "M_ThbsF4gEWw"
   },
   "source": [
    "**Solução usando o `format`**\n",
    "\n",
    "Para usar o format nós precisamos criar um \"template\" para mensagem, nesse template nós vamos usar os colchetes `{}` no lugar que você precisa subistituir o valor."
   ]
  },
  {
   "cell_type": "code",
   "execution_count": 36,
   "metadata": {
    "colab": {},
    "colab_type": "code",
    "id": "CwD0G6Qr027d",
    "outputId": "b3bff201-b9ed-4745-9b16-2d9cf4ef1b26"
   },
   "outputs": [
    {
     "data": {
      "text/plain": [
       "'Sou o Batman e moro em Gotham'"
      ]
     },
     "execution_count": 36,
     "metadata": {},
     "output_type": "execute_result"
    }
   ],
   "source": [
    "mensagem = \"Sou o {} e moro em {}\"\n",
    "mensagem.format(\"Batman\", \"Gotham\")"
   ]
  },
  {
   "cell_type": "code",
   "execution_count": 37,
   "metadata": {
    "colab": {},
    "colab_type": "code",
    "id": "Htn9lNTF027f",
    "outputId": "0168cd28-09ab-46da-e3cd-ceb9ef4d1e1d"
   },
   "outputs": [
    {
     "data": {
      "text/plain": [
       "'Sou o Superman e moro em Smallville'"
      ]
     },
     "execution_count": 37,
     "metadata": {},
     "output_type": "execute_result"
    }
   ],
   "source": [
    "mensagem.format(\"Superman\", \"Smallville\")"
   ]
  },
  {
   "cell_type": "markdown",
   "metadata": {
    "colab_type": "text",
    "id": "HIoFrpT6gfsV"
   },
   "source": [
    "### **Desafio:**  Escreva essa mensagem substituindo os valores em maiusculo com seus dados:\n",
    "```\n",
    "Olá, me chamo: \"SEU NOME\"\n",
    "Moro em \"INSIRA SUA CIDADE\"\n",
    "Meu código secreto é \"INSIRA O CÓDIGO SECRETO\"\n",
    "```\n",
    "\n",
    "codigo_secreto = ANO_DE_NASCIMENTO * MINHA_IDADE - 42\n",
    "\n",
    "![alt text](https://static.vix.com/pt/sites/default/files/styles/large/public/a/atrasada-relogio-pulso-1116-1400x800.jpg?itok=qv3gUH6U)"
   ]
  },
  {
   "cell_type": "code",
   "execution_count": 42,
   "metadata": {
    "colab": {},
    "colab_type": "code",
    "id": "P0Jqxx8MgqqW"
   },
   "outputs": [
    {
     "name": "stdout",
     "output_type": "stream",
     "text": [
      "\n",
      "Olá, me chamo: Katarina\n",
      "Moro em São Paulo\n",
      "Meu código secreto é 45866\n",
      "\n"
     ]
    }
   ],
   "source": [
    "#solução\n",
    "mensagem = \"\"\"\n",
    "Olá, me chamo: {}\n",
    "Moro em {}\n",
    "Meu código secreto é {}\n",
    "\"\"\"\n",
    "codigo_secreto = 1996 * 23 - 42\n",
    "mensagem = mensagem.format(\"Katarina\", \"São Paulo\", codigo_secreto)\n",
    "print(mensagem)"
   ]
  },
  {
   "cell_type": "markdown",
   "metadata": {
    "colab_type": "text",
    "id": "g04QuhC1027h"
   },
   "source": [
    "# Listas\n",
    "\n",
    "Conjunto de dados ordenados de acordo com a inserção, na qual cada um pode ser acessado a partir de um índice, que representa sua posição nela, no python e na maioria das linguagens o índice começa em 0.\n",
    "\n"
   ]
  },
  {
   "cell_type": "code",
   "execution_count": 43,
   "metadata": {
    "colab": {
     "base_uri": "https://localhost:8080/",
     "height": 153
    },
    "colab_type": "code",
    "id": "u-RODl68027h",
    "outputId": "36ddf14c-9d59-48e9-968a-3e270fff379b"
   },
   "outputs": [
    {
     "data": {
      "text/plain": [
       "['hamburguer',\n",
       " 'hamburguer',\n",
       " 'alface',\n",
       " 'queijo',\n",
       " 'molho especial',\n",
       " 'cebola',\n",
       " 'picles',\n",
       " 'pão com gergilim']"
      ]
     },
     "execution_count": 43,
     "metadata": {},
     "output_type": "execute_result"
    }
   ],
   "source": [
    "ingredientes_do_big_mac = [\n",
    "    \"hamburguer\", \n",
    "    \"hamburguer\", \n",
    "    \"alface\", \n",
    "    \"queijo\", \n",
    "    \"molho especial\", \n",
    "    \"cebola\", \n",
    "    \"picles\", \n",
    "    \"pão com gergilim\"\n",
    "]\n",
    "\n",
    "ingredientes_do_big_mac"
   ]
  },
  {
   "cell_type": "markdown",
   "metadata": {
    "colab_type": "text",
    "id": "yczwR6JCiV1Y"
   },
   "source": [
    "**Acessamos um item através da posição do item, começando da posição 0.**"
   ]
  },
  {
   "cell_type": "code",
   "execution_count": 44,
   "metadata": {
    "colab": {
     "base_uri": "https://localhost:8080/",
     "height": 34
    },
    "colab_type": "code",
    "id": "7Rcrk9_riYO3",
    "outputId": "cc9ca49a-be9a-44b8-93f8-c8667c51597e"
   },
   "outputs": [
    {
     "data": {
      "text/plain": [
       "'hamburguer'"
      ]
     },
     "execution_count": 44,
     "metadata": {},
     "output_type": "execute_result"
    }
   ],
   "source": [
    "ingredientes_do_big_mac[0]"
   ]
  },
  {
   "cell_type": "markdown",
   "metadata": {
    "colab_type": "text",
    "id": "LK5OD4EeifR0"
   },
   "source": [
    "**Podemos também acessar de trás pra frente.**"
   ]
  },
  {
   "cell_type": "code",
   "execution_count": 45,
   "metadata": {
    "colab": {
     "base_uri": "https://localhost:8080/",
     "height": 34
    },
    "colab_type": "code",
    "id": "pSjzCLGiilvs",
    "outputId": "2f07eec6-29da-440d-82a7-37dbeecea9f4"
   },
   "outputs": [
    {
     "data": {
      "text/plain": [
       "'pão com gergilim'"
      ]
     },
     "execution_count": 45,
     "metadata": {},
     "output_type": "execute_result"
    }
   ],
   "source": [
    "ingredientes_do_big_mac[-1]"
   ]
  },
  {
   "cell_type": "markdown",
   "metadata": {
    "colab_type": "text",
    "id": "p7xz84f8027j"
   },
   "source": [
    "### **Desafio:** Crie uma lista com a altura de 5 pessoas e exiba o valor do terceiro item.\n",
    "\n",
    "Queremos saber quem tem a altura mediana.\n",
    "\n",
    "![alt text](https://static.vix.com/pt/sites/default/files/styles/large/public/a/atrasada-relogio-pulso-1116-1400x800.jpg?itok=qv3gUH6U)"
   ]
  },
  {
   "cell_type": "code",
   "execution_count": 53,
   "metadata": {
    "colab": {},
    "colab_type": "code",
    "id": "RQ9HIvca027k"
   },
   "outputs": [
    {
     "data": {
      "text/plain": [
       "1.7"
      ]
     },
     "execution_count": 53,
     "metadata": {},
     "output_type": "execute_result"
    }
   ],
   "source": [
    "#solução\n",
    "altura = [1.50, 1.70, 1.80, 1.55, 2]\n",
    "altura.sort()\n",
    "altura[2]"
   ]
  },
  {
   "cell_type": "markdown",
   "metadata": {
    "colab_type": "text",
    "id": "9ovo4oQl027r"
   },
   "source": [
    "## Função já prontas (built-in)\n",
    "\n",
    "Python já tem alguns métodos/funções que nos ajudam em várias coisas. Vamos ver algumas delas :)\n",
    "\n",
    "https://docs.python.org/3/library/functions.html\n",
    "\n",
    "**O tamanho da lista**"
   ]
  },
  {
   "cell_type": "code",
   "execution_count": null,
   "metadata": {
    "colab": {},
    "colab_type": "code",
    "id": "c_yZWQtqi6UN"
   },
   "outputs": [],
   "source": [
    "alturas = [1.7, 1.83, 1.90, 2.00, 1.60]"
   ]
  },
  {
   "cell_type": "code",
   "execution_count": null,
   "metadata": {
    "colab": {
     "base_uri": "https://localhost:8080/",
     "height": 34
    },
    "colab_type": "code",
    "id": "G7ZlPzhk027s",
    "outputId": "54bc38f0-d562-42d1-9148-686f9128c7e0"
   },
   "outputs": [],
   "source": [
    "len(alturas)"
   ]
  },
  {
   "cell_type": "markdown",
   "metadata": {
    "colab_type": "text",
    "id": "LJcucEuJ027t"
   },
   "source": [
    "**O maior valor numérico de uma lista**"
   ]
  },
  {
   "cell_type": "code",
   "execution_count": null,
   "metadata": {
    "colab": {},
    "colab_type": "code",
    "id": "ZqVxG37N027u",
    "outputId": "d175c739-2fb1-4de0-f2d3-0776c1ee0bce"
   },
   "outputs": [],
   "source": [
    "max(alturas)"
   ]
  },
  {
   "cell_type": "markdown",
   "metadata": {
    "colab_type": "text",
    "id": "1chcbgFC027w"
   },
   "source": [
    "**O menor valor numérico de uma lista**"
   ]
  },
  {
   "cell_type": "code",
   "execution_count": null,
   "metadata": {
    "colab": {},
    "colab_type": "code",
    "id": "-bx686aY027w",
    "outputId": "2502fd95-ba29-4716-bc3b-9b6355893373"
   },
   "outputs": [],
   "source": [
    "min(alturas)"
   ]
  },
  {
   "cell_type": "markdown",
   "metadata": {
    "colab_type": "text",
    "id": "yzh99Jsr027y"
   },
   "source": [
    "**Somar todos os valores numéricos de uma lista**"
   ]
  },
  {
   "cell_type": "code",
   "execution_count": null,
   "metadata": {
    "colab": {},
    "colab_type": "code",
    "id": "_zoFsvYK027z",
    "outputId": "fc4bdb41-ed46-44d6-a9c6-2b256dac3b9f"
   },
   "outputs": [],
   "source": [
    "sum(alturas)"
   ]
  },
  {
   "cell_type": "markdown",
   "metadata": {
    "colab_type": "text",
    "id": "XFTP8KU-jSrl"
   },
   "source": [
    "# Funções\n",
    "\n",
    "Quando temos algum bloco de código que temos que executar repetidamente, nós isolamos em uma função para que o reuso seja mais fácil.\n",
    "\n",
    "As funções usam a palavra-chave `return` para devolver para quem a chamou o valor.\n",
    "\n",
    "**Veja como fazer uma função de média para uma lista**"
   ]
  },
  {
   "cell_type": "code",
   "execution_count": 54,
   "metadata": {
    "colab": {},
    "colab_type": "code",
    "id": "3uth3xhNje9q"
   },
   "outputs": [],
   "source": [
    "def media(lista):\n",
    "    return sum(lista)/len(lista)"
   ]
  },
  {
   "cell_type": "code",
   "execution_count": 65,
   "metadata": {
    "colab": {
     "base_uri": "https://localhost:8080/",
     "height": 34
    },
    "colab_type": "code",
    "id": "l8aAQOP0j-en",
    "outputId": "81e72967-fa19-4ccd-c9d0-7c3abd059afb"
   },
   "outputs": [
    {
     "data": {
      "text/plain": [
       "3.0"
      ]
     },
     "execution_count": 65,
     "metadata": {},
     "output_type": "execute_result"
    }
   ],
   "source": [
    "minha_lista = [2, 4]\n",
    "media(minha_lista)"
   ]
  },
  {
   "cell_type": "markdown",
   "metadata": {
    "colab_type": "text",
    "id": "203pzYoJkZ2c"
   },
   "source": [
    "### **Desafio:** Crie uma função que some 0.2 a primeira altura da sua lista e retorne esse valor.\n",
    "\n",
    "Queremos saber a altura das pessoas de salto plataforma.\n",
    "\n",
    "![alt text](https://static.vix.com/pt/sites/default/files/styles/large/public/a/atrasada-relogio-pulso-1116-1400x800.jpg?itok=qv3gUH6U)"
   ]
  },
  {
   "cell_type": "code",
   "execution_count": 77,
   "metadata": {
    "colab": {},
    "colab_type": "code",
    "id": "0X3y6ZcJkkqX"
   },
   "outputs": [
    {
     "data": {
      "text/plain": [
       "2.2"
      ]
     },
     "execution_count": 77,
     "metadata": {},
     "output_type": "execute_result"
    }
   ],
   "source": [
    "#solução\n",
    "altura = [2, 4]\n",
    "\n",
    "def soma(lista):\n",
    "    return lista[0]+0.2\n",
    "\n",
    "soma(altura)"
   ]
  },
  {
   "cell_type": "markdown",
   "metadata": {
    "colab_type": "text",
    "id": "_UWVkGQO0271"
   },
   "source": [
    "# Dicionários\n",
    "\n",
    "É uma estrutura de dados baseado no conceito de Chave/Valor. Ele é muito similar à estrutura de um formulário."
   ]
  },
  {
   "cell_type": "code",
   "execution_count": 96,
   "metadata": {
    "colab": {},
    "colab_type": "code",
    "id": "RZyacjd20271"
   },
   "outputs": [],
   "source": [
    "nome_altura = {\n",
    "    \"Tyrion Lannister\": 1.35,\n",
    "    \"Jon Snow\": 1.73,\n",
    "    \"The Mountain\": 2.06,\n",
    "    \"Wun\": 2.16,\n",
    "    \"Greyjoy\": 1.80\n",
    "}"
   ]
  },
  {
   "cell_type": "markdown",
   "metadata": {
    "colab_type": "text",
    "id": "Tmbu00Z10274"
   },
   "source": [
    "**Como acessar o valor de uma chave?**"
   ]
  },
  {
   "cell_type": "code",
   "execution_count": 80,
   "metadata": {
    "colab": {},
    "colab_type": "code",
    "id": "NYLX05iZ0274",
    "outputId": "988e5583-8288-4951-8f9e-defd668c8a73"
   },
   "outputs": [
    {
     "data": {
      "text/plain": [
       "1.8"
      ]
     },
     "execution_count": 80,
     "metadata": {},
     "output_type": "execute_result"
    }
   ],
   "source": [
    "nome_altura[\"Greyjoy\"]"
   ]
  },
  {
   "cell_type": "markdown",
   "metadata": {
    "colab_type": "text",
    "id": "K1DWUsEi0276"
   },
   "source": [
    "**Vamos criar um dicionários com mais tipos de valores**"
   ]
  },
  {
   "cell_type": "code",
   "execution_count": 94,
   "metadata": {
    "colab": {},
    "colab_type": "code",
    "id": "6ntryonZ0276"
   },
   "outputs": [],
   "source": [
    "meus_dados = {\n",
    "    \"nome\": \"joao\",\n",
    "    \"email\": \"meuemail@databootcamp.com.br\",\n",
    "    \"idade\": 29,\n",
    "    \"altura\": 1.80\n",
    "}"
   ]
  },
  {
   "cell_type": "markdown",
   "metadata": {
    "colab_type": "text",
    "id": "N_-CDCsm0279"
   },
   "source": [
    "**Veja como podemos usar os valores em um texto**"
   ]
  },
  {
   "cell_type": "code",
   "execution_count": 82,
   "metadata": {
    "colab": {},
    "colab_type": "code",
    "id": "nCIfBHBF027-",
    "outputId": "e2260b70-1ecc-4094-d2a1-a8977f44da9e"
   },
   "outputs": [
    {
     "data": {
      "text/plain": [
       "'Meu nome é joao, tenho 29 anos e meu email é: meuemail@databootcamp.com.br'"
      ]
     },
     "execution_count": 82,
     "metadata": {},
     "output_type": "execute_result"
    }
   ],
   "source": [
    "\"Meu nome é {}, tenho {} anos e meu email é: {}\".format(\n",
    "    meus_dados[\"nome\"],\n",
    "    meus_dados[\"idade\"],\n",
    "    meus_dados[\"email\"]\n",
    ")"
   ]
  },
  {
   "cell_type": "markdown",
   "metadata": {
    "colab_type": "text",
    "id": "-A62_AaB027_"
   },
   "source": [
    "**Adicionar uma chave a um dicionário já criado**"
   ]
  },
  {
   "cell_type": "code",
   "execution_count": 83,
   "metadata": {
    "colab": {},
    "colab_type": "code",
    "id": "IdN0h9SR027_",
    "outputId": "19ba70c5-3e79-4485-d999-f0ffbf920c64"
   },
   "outputs": [
    {
     "data": {
      "text/plain": [
       "{'nome': 'joao',\n",
       " 'email': 'meuemail@databootcamp.com.br',\n",
       " 'idade': 29,\n",
       " 'altura': 1.8,\n",
       " 'CEP': 22280004}"
      ]
     },
     "execution_count": 83,
     "metadata": {},
     "output_type": "execute_result"
    }
   ],
   "source": [
    "meus_dados[\"CEP\"] = 22280004\n",
    "meus_dados"
   ]
  },
  {
   "cell_type": "markdown",
   "metadata": {
    "colab_type": "text",
    "id": "O2DF5SAT028C"
   },
   "source": [
    "**Remover uma chave**"
   ]
  },
  {
   "cell_type": "code",
   "execution_count": 84,
   "metadata": {
    "colab": {},
    "colab_type": "code",
    "id": "cXj-kjuu028C"
   },
   "outputs": [],
   "source": [
    "del meus_dados['CEP']"
   ]
  },
  {
   "cell_type": "code",
   "execution_count": 85,
   "metadata": {
    "colab": {},
    "colab_type": "code",
    "id": "jhy5ScdK028E",
    "outputId": "dd6a0ec3-3f43-428b-b43b-6cacdb6b7975"
   },
   "outputs": [
    {
     "data": {
      "text/plain": [
       "{'nome': 'joao',\n",
       " 'email': 'meuemail@databootcamp.com.br',\n",
       " 'idade': 29,\n",
       " 'altura': 1.8}"
      ]
     },
     "execution_count": 85,
     "metadata": {},
     "output_type": "execute_result"
    }
   ],
   "source": [
    "meus_dados"
   ]
  },
  {
   "cell_type": "markdown",
   "metadata": {
    "colab_type": "text",
    "id": "jkwf0uA3028G"
   },
   "source": [
    "**Atualizar o valor de uma chave já criada**"
   ]
  },
  {
   "cell_type": "code",
   "execution_count": 86,
   "metadata": {
    "colab": {},
    "colab_type": "code",
    "id": "yx7uMkPm028G",
    "outputId": "b4cbba28-c082-438a-b3b1-39a69e1b29a4"
   },
   "outputs": [
    {
     "data": {
      "text/plain": [
       "{'nome': 'joao',\n",
       " 'email': 'meuemail@databootcamp.com.br',\n",
       " 'idade': 30,\n",
       " 'altura': 1.8}"
      ]
     },
     "execution_count": 86,
     "metadata": {},
     "output_type": "execute_result"
    }
   ],
   "source": [
    "meus_dados['idade'] = 30\n",
    "meus_dados"
   ]
  },
  {
   "cell_type": "markdown",
   "metadata": {
    "colab_type": "text",
    "id": "C68Fq-hN028I"
   },
   "source": [
    "# Filtrando dados\n",
    "\n",
    "É muito comum quando estivermos manipulando os dados precisarmos tomara decisões sobre os valores, normalmente valos precisamos de operadores lógicos para isso, eles serão as nossas **condições**."
   ]
  },
  {
   "cell_type": "markdown",
   "metadata": {
    "colab_type": "text",
    "id": "rjkipg1X028I"
   },
   "source": [
    "**Validar igualdade e diferença**"
   ]
  },
  {
   "cell_type": "code",
   "execution_count": 87,
   "metadata": {
    "colab": {},
    "colab_type": "code",
    "id": "sEOcUwd9028J",
    "outputId": "640d64a0-802d-40dd-a543-ed86dc1096d2"
   },
   "outputs": [
    {
     "data": {
      "text/plain": [
       "True"
      ]
     },
     "execution_count": 87,
     "metadata": {},
     "output_type": "execute_result"
    }
   ],
   "source": [
    "1 == 1"
   ]
  },
  {
   "cell_type": "code",
   "execution_count": 88,
   "metadata": {
    "colab": {},
    "colab_type": "code",
    "id": "hRHr2a52028K",
    "outputId": "8bf8146a-a3f7-4bbb-b2c7-5de3a088e48d"
   },
   "outputs": [
    {
     "data": {
      "text/plain": [
       "False"
      ]
     },
     "execution_count": 88,
     "metadata": {},
     "output_type": "execute_result"
    }
   ],
   "source": [
    "1 != 1"
   ]
  },
  {
   "cell_type": "markdown",
   "metadata": {
    "colab_type": "text",
    "id": "viyqcQ3f028M"
   },
   "source": [
    "**Validar por maior que e menor que**"
   ]
  },
  {
   "cell_type": "code",
   "execution_count": 89,
   "metadata": {
    "colab": {},
    "colab_type": "code",
    "id": "DTOeaMjw028N",
    "outputId": "e172eaee-1ddb-4fff-9ebc-5c4dab2691c2"
   },
   "outputs": [
    {
     "data": {
      "text/plain": [
       "True"
      ]
     },
     "execution_count": 89,
     "metadata": {},
     "output_type": "execute_result"
    }
   ],
   "source": [
    "1 > 0"
   ]
  },
  {
   "cell_type": "code",
   "execution_count": 90,
   "metadata": {
    "colab": {},
    "colab_type": "code",
    "id": "cKbRqflc028P",
    "outputId": "9629b2ff-4514-4c15-bc4d-97df07eb29ff"
   },
   "outputs": [
    {
     "data": {
      "text/plain": [
       "False"
      ]
     },
     "execution_count": 90,
     "metadata": {},
     "output_type": "execute_result"
    }
   ],
   "source": [
    "1 < 0"
   ]
  },
  {
   "cell_type": "code",
   "execution_count": 91,
   "metadata": {
    "colab": {},
    "colab_type": "code",
    "id": "Kg1D_bKz028R",
    "outputId": "b8df7c44-8bf2-472b-d9f1-79f19beac098"
   },
   "outputs": [
    {
     "data": {
      "text/plain": [
       "True"
      ]
     },
     "execution_count": 91,
     "metadata": {},
     "output_type": "execute_result"
    }
   ],
   "source": [
    "2 >= 2"
   ]
  },
  {
   "cell_type": "code",
   "execution_count": 92,
   "metadata": {
    "colab": {},
    "colab_type": "code",
    "id": "PxRXT6w3028T",
    "outputId": "75882213-7fb9-457d-a3c5-6d41bdd9acf8"
   },
   "outputs": [
    {
     "data": {
      "text/plain": [
       "True"
      ]
     },
     "execution_count": 92,
     "metadata": {},
     "output_type": "execute_result"
    }
   ],
   "source": [
    "1 <= 2"
   ]
  },
  {
   "cell_type": "markdown",
   "metadata": {
    "colab_type": "text",
    "id": "vTvNxXSS028X"
   },
   "source": [
    "**Negar uma condição**"
   ]
  },
  {
   "cell_type": "code",
   "execution_count": 93,
   "metadata": {
    "colab": {},
    "colab_type": "code",
    "id": "21xG-n8w028X",
    "outputId": "bf45f913-bc03-463a-da5b-471ef3bacddf"
   },
   "outputs": [
    {
     "data": {
      "text/plain": [
       "True"
      ]
     },
     "execution_count": 93,
     "metadata": {},
     "output_type": "execute_result"
    }
   ],
   "source": [
    "not 5 < 3"
   ]
  },
  {
   "cell_type": "markdown",
   "metadata": {
    "colab_type": "text",
    "id": "djDBulY3028Z"
   },
   "source": [
    "**Aplicando condições em um condição IF (se)**"
   ]
  },
  {
   "cell_type": "code",
   "execution_count": null,
   "metadata": {
    "colab": {},
    "colab_type": "code",
    "id": "qN4XvW2b028Z",
    "outputId": "47f161d1-2443-412d-dae8-0e52f8581c29"
   },
   "outputs": [],
   "source": [
    "if 1 == 1:\n",
    "    print(\"1 é igual a 1\")"
   ]
  },
  {
   "cell_type": "markdown",
   "metadata": {
    "colab_type": "text",
    "id": "suTGiy5X028a"
   },
   "source": [
    "**O oposto do IF é o ELSE (senão)**"
   ]
  },
  {
   "cell_type": "code",
   "execution_count": null,
   "metadata": {
    "colab": {},
    "colab_type": "code",
    "id": "HEKVkl15028b",
    "outputId": "a578790f-d582-439f-f9cc-e320c254a773"
   },
   "outputs": [],
   "source": [
    "if 2 == 1:\n",
    "    print(\"2 é igual a 1\")\n",
    "else:\n",
    "    print(\"2 não é igual a 1\")"
   ]
  },
  {
   "cell_type": "markdown",
   "metadata": {
    "colab_type": "text",
    "id": "AhS1U1Io028c"
   },
   "source": [
    "**Usando múltiplas cláusulas condicionais**"
   ]
  },
  {
   "cell_type": "code",
   "execution_count": null,
   "metadata": {
    "colab": {},
    "colab_type": "code",
    "id": "sjVH35FX028d",
    "outputId": "ca3038dd-24b5-46d8-95b0-23b7c30d9c24"
   },
   "outputs": [],
   "source": [
    "if 2 == 1 or 1 == 1:\n",
    "    print(\"2 é igual a 1 ou 1 é igual a 1\")"
   ]
  },
  {
   "cell_type": "code",
   "execution_count": null,
   "metadata": {
    "colab": {},
    "colab_type": "code",
    "id": "lF9oPEH_028i",
    "outputId": "4249d318-4987-4569-ef6d-ad03dca15756"
   },
   "outputs": [],
   "source": [
    "if 2 == 1 and 1 == 1:\n",
    "    print(\"2 é igual a 1 e 1 é igual a 1\")\n",
    "else:\n",
    "    print(\"não entrou\")"
   ]
  },
  {
   "cell_type": "markdown",
   "metadata": {
    "colab_type": "text",
    "id": "xGVKpJaa028j"
   },
   "source": [
    "### **Desafio:** Crie uma função que receba 2 dicionários e verifica se os campos \"nome\" e \"idade\" deles são iguais. Se forem retorne o texto: `iguais`\n",
    "\n",
    "Seria um comparativo de cadastro de usuários em que não temos CPF e nem RG.\n",
    "\n",
    "![alt text](https://static.vix.com/pt/sites/default/files/styles/large/public/a/atrasada-relogio-pulso-1116-1400x800.jpg?itok=qv3gUH6U)"
   ]
  },
  {
   "cell_type": "code",
   "execution_count": 101,
   "metadata": {
    "colab": {},
    "colab_type": "code",
    "id": "fiEJWTZg028o"
   },
   "outputs": [
    {
     "data": {
      "text/plain": [
       "'diferentes'"
      ]
     },
     "execution_count": 101,
     "metadata": {},
     "output_type": "execute_result"
    }
   ],
   "source": [
    "#solução\n",
    "meus_dados = {\n",
    "    \"nome\": \"katarina\",\n",
    "    \"email\": \"meuemail@databootcamp.com.br\",\n",
    "    \"idade\": 29,\n",
    "    \"altura\": 1.80\n",
    "}\n",
    "outros_dados = {\n",
    "    \"nome\": \"joao\",\n",
    "    \"email\": \"meuemail@databootcamp.com.br\",\n",
    "    \"idade\": 29,\n",
    "    \"altura\": 1.80\n",
    "}\n",
    "def igual(dic1, dic2):\n",
    "    if dic1 == dic2:\n",
    "        return \"iguais\"\n",
    "    else:\n",
    "        return \"diferentes\"\n",
    "        \n",
    "igual(meus_dados, outros_dados)"
   ]
  }
 ],
 "metadata": {
  "colab": {
   "name": "Copy of Copy of 1 - Python.ipynb",
   "provenance": []
  },
  "kernelspec": {
   "display_name": "conda_python3",
   "language": "python",
   "name": "conda_python3"
  },
  "language_info": {
   "codemirror_mode": {
    "name": "ipython",
    "version": 3
   },
   "file_extension": ".py",
   "mimetype": "text/x-python",
   "name": "python",
   "nbconvert_exporter": "python",
   "pygments_lexer": "ipython3",
   "version": "3.6.10"
  }
 },
 "nbformat": 4,
 "nbformat_minor": 1
}
