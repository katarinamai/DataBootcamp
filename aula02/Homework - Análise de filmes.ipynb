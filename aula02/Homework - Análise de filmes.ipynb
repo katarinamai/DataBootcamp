{
 "cells": [
  {
   "cell_type": "markdown",
   "metadata": {},
   "source": [
    "Para essa análise vamos usar um dataset do [TMDB](www.themoviedb.org).\n",
    "\n",
    "O nosso dataset contém informações sobre **10.000 filmes**. Colunas presentes:\n",
    "\n",
    "- **adult**:  indica se o filme tem classificação para adulto.\n",
    "- **belongs_to_collection**: um dicionário com strings que fornece informações sobre as séries de filmes às quais o filme específico pertence.\n",
    "- **budget**: o orçamento do filme em dólares.\n",
    "- **genres**: uma lista de dicionários que listam todos os gêneros associados ao filme.\n",
    "- **homepage**: site oficial.\n",
    "- **id**: identificador do filme.\n",
    "- **imdb_id**: indicador no IMDB do filme.\n",
    "- **original_language**: o idioma em que o filme foi gravado originalmente.\n",
    "- **original_title**: o título original do filme.\n",
    "- **overview**: uma breve sinopse do filme.\n",
    "- **popularity**: a pontuação de popularidade atribuída pelo TMDB.\n",
    "- **poster_path**: URL da imagem do pôster.\n",
    "- **production_companies**: uma lista de empresas de produção envolvidas na produção do filme.\n",
    "- **production_countries**:  uma lista de países onde o filme foi gravado/produzido.\n",
    "- **release_date**:  data de lançamento do filme.\n",
    "- **revenue**: a receita total do filme em dólares.\n",
    "- **runtime**: o tempo de execução do filme em minutos.\n",
    "- **spoken_languages**: uma lista de diconários de idiomas falados no filme.\n",
    "- **status**: o status do filme (Released, To Be Released, Announced, etc.)\n",
    "- **tagline**: o slogan do filme.\n",
    "- **title**: o título oficial do filme.\n",
    "- **video**: indica se há um vídeo presente no filme com TMDB.\n",
    "- **vote_average**: a classificação média do filme.\n",
    "- **vote_count**: o número de votos dos usuários, contados pelo TMDB.\n",
    "- **belongs_to_collection_name**\n",
    "- **genres_names**\n",
    "- **genres_names_first**\n",
    "- **spoken_languages_names**\n",
    "- **spoken_languages_names_first**"
   ]
  },
  {
   "cell_type": "code",
   "execution_count": 2,
   "metadata": {},
   "outputs": [],
   "source": [
    "import pandas\n",
    "movies = pandas.read_csv(\"https://databootcamp.nyc3.digitaloceanspaces.com/movie_db.csv\")"
   ]
  },
  {
   "cell_type": "code",
   "execution_count": 66,
   "metadata": {},
   "outputs": [
    {
     "data": {
      "text/html": [
       "<div>\n",
       "<style scoped>\n",
       "    .dataframe tbody tr th:only-of-type {\n",
       "        vertical-align: middle;\n",
       "    }\n",
       "\n",
       "    .dataframe tbody tr th {\n",
       "        vertical-align: top;\n",
       "    }\n",
       "\n",
       "    .dataframe thead th {\n",
       "        text-align: right;\n",
       "    }\n",
       "</style>\n",
       "<table border=\"1\" class=\"dataframe\">\n",
       "  <thead>\n",
       "    <tr style=\"text-align: right;\">\n",
       "      <th></th>\n",
       "      <th>adult</th>\n",
       "      <th>belongs_to_collection</th>\n",
       "      <th>budget</th>\n",
       "      <th>genres</th>\n",
       "      <th>homepage</th>\n",
       "      <th>id</th>\n",
       "      <th>imdb_id</th>\n",
       "      <th>original_language</th>\n",
       "      <th>original_title</th>\n",
       "      <th>overview</th>\n",
       "      <th>...</th>\n",
       "      <th>tagline</th>\n",
       "      <th>title</th>\n",
       "      <th>video</th>\n",
       "      <th>vote_average</th>\n",
       "      <th>vote_count</th>\n",
       "      <th>belongs_to_collection_name</th>\n",
       "      <th>genres_names_first</th>\n",
       "      <th>genres_names</th>\n",
       "      <th>spoken_languages_names</th>\n",
       "      <th>spoken_languages_names_first</th>\n",
       "    </tr>\n",
       "  </thead>\n",
       "  <tbody>\n",
       "    <tr>\n",
       "      <th>0</th>\n",
       "      <td>False</td>\n",
       "      <td>NaN</td>\n",
       "      <td>0</td>\n",
       "      <td>[{'id': 18, 'name': 'Drama'}]</td>\n",
       "      <td>NaN</td>\n",
       "      <td>46918</td>\n",
       "      <td>tt0053390</td>\n",
       "      <td>ja</td>\n",
       "      <td>浮草</td>\n",
       "      <td>A troupe of travelling players arrive at a sma...</td>\n",
       "      <td>...</td>\n",
       "      <td>NaN</td>\n",
       "      <td>Floating Weeds</td>\n",
       "      <td>False</td>\n",
       "      <td>7.7</td>\n",
       "      <td>33.0</td>\n",
       "      <td>NaN</td>\n",
       "      <td>Drama</td>\n",
       "      <td>['Drama']</td>\n",
       "      <td>['日本語']</td>\n",
       "      <td>日本語</td>\n",
       "    </tr>\n",
       "    <tr>\n",
       "      <th>1</th>\n",
       "      <td>False</td>\n",
       "      <td>NaN</td>\n",
       "      <td>1000000</td>\n",
       "      <td>[{'id': 12, 'name': 'Adventure'}, {'id': 14, '...</td>\n",
       "      <td>NaN</td>\n",
       "      <td>47065</td>\n",
       "      <td>tt1136688</td>\n",
       "      <td>en</td>\n",
       "      <td>Tales of an Ancient Empire</td>\n",
       "      <td>A princess is on a quest to unite the five gre...</td>\n",
       "      <td>...</td>\n",
       "      <td>NaN</td>\n",
       "      <td>Tales of an Ancient Empire</td>\n",
       "      <td>False</td>\n",
       "      <td>2.5</td>\n",
       "      <td>7.0</td>\n",
       "      <td>NaN</td>\n",
       "      <td>Adventure</td>\n",
       "      <td>['Adventure', 'Fantasy', 'Horror', 'Action', '...</td>\n",
       "      <td>['English']</td>\n",
       "      <td>English</td>\n",
       "    </tr>\n",
       "    <tr>\n",
       "      <th>2</th>\n",
       "      <td>False</td>\n",
       "      <td>NaN</td>\n",
       "      <td>0</td>\n",
       "      <td>[{'id': 28, 'name': 'Action'}, {'id': 37, 'nam...</td>\n",
       "      <td>NaN</td>\n",
       "      <td>49640</td>\n",
       "      <td>tt0025373</td>\n",
       "      <td>en</td>\n",
       "      <td>The Lawless Frontier</td>\n",
       "      <td>Tobin is after the bandit Zanti who killed his...</td>\n",
       "      <td>...</td>\n",
       "      <td>Pounding Hoofs and Blazing Guns!</td>\n",
       "      <td>The Lawless Frontier</td>\n",
       "      <td>False</td>\n",
       "      <td>4.0</td>\n",
       "      <td>8.0</td>\n",
       "      <td>NaN</td>\n",
       "      <td>Action</td>\n",
       "      <td>['Action', 'Western']</td>\n",
       "      <td>['English']</td>\n",
       "      <td>English</td>\n",
       "    </tr>\n",
       "    <tr>\n",
       "      <th>3</th>\n",
       "      <td>False</td>\n",
       "      <td>NaN</td>\n",
       "      <td>55000000</td>\n",
       "      <td>[{'id': 9648, 'name': 'Mystery'}, {'id': 53, '...</td>\n",
       "      <td>http://www.crimsonpeakmovie.com/</td>\n",
       "      <td>201085</td>\n",
       "      <td>tt2554274</td>\n",
       "      <td>en</td>\n",
       "      <td>Crimson Peak</td>\n",
       "      <td>In the aftermath of a family tragedy, an aspir...</td>\n",
       "      <td>...</td>\n",
       "      <td>Beware.</td>\n",
       "      <td>Crimson Peak</td>\n",
       "      <td>False</td>\n",
       "      <td>6.4</td>\n",
       "      <td>1494.0</td>\n",
       "      <td>NaN</td>\n",
       "      <td>Mystery</td>\n",
       "      <td>['Mystery', 'Thriller', 'Fantasy', 'Horror', '...</td>\n",
       "      <td>['English']</td>\n",
       "      <td>English</td>\n",
       "    </tr>\n",
       "    <tr>\n",
       "      <th>4</th>\n",
       "      <td>False</td>\n",
       "      <td>NaN</td>\n",
       "      <td>450000</td>\n",
       "      <td>[{'id': 35, 'name': 'Comedy'}, {'id': 10749, '...</td>\n",
       "      <td>NaN</td>\n",
       "      <td>1812</td>\n",
       "      <td>tt0162710</td>\n",
       "      <td>en</td>\n",
       "      <td>Trick</td>\n",
       "      <td>The misadventures of two young gay men, trying...</td>\n",
       "      <td>...</td>\n",
       "      <td>A story about two guys trying to make it in th...</td>\n",
       "      <td>Trick</td>\n",
       "      <td>False</td>\n",
       "      <td>6.7</td>\n",
       "      <td>24.0</td>\n",
       "      <td>NaN</td>\n",
       "      <td>Comedy</td>\n",
       "      <td>['Comedy', 'Romance']</td>\n",
       "      <td>['English']</td>\n",
       "      <td>English</td>\n",
       "    </tr>\n",
       "  </tbody>\n",
       "</table>\n",
       "<p>5 rows × 29 columns</p>\n",
       "</div>"
      ],
      "text/plain": [
       "   adult belongs_to_collection    budget  \\\n",
       "0  False                   NaN         0   \n",
       "1  False                   NaN   1000000   \n",
       "2  False                   NaN         0   \n",
       "3  False                   NaN  55000000   \n",
       "4  False                   NaN    450000   \n",
       "\n",
       "                                              genres  \\\n",
       "0                      [{'id': 18, 'name': 'Drama'}]   \n",
       "1  [{'id': 12, 'name': 'Adventure'}, {'id': 14, '...   \n",
       "2  [{'id': 28, 'name': 'Action'}, {'id': 37, 'nam...   \n",
       "3  [{'id': 9648, 'name': 'Mystery'}, {'id': 53, '...   \n",
       "4  [{'id': 35, 'name': 'Comedy'}, {'id': 10749, '...   \n",
       "\n",
       "                           homepage      id    imdb_id original_language  \\\n",
       "0                               NaN   46918  tt0053390                ja   \n",
       "1                               NaN   47065  tt1136688                en   \n",
       "2                               NaN   49640  tt0025373                en   \n",
       "3  http://www.crimsonpeakmovie.com/  201085  tt2554274                en   \n",
       "4                               NaN    1812  tt0162710                en   \n",
       "\n",
       "               original_title  \\\n",
       "0                          浮草   \n",
       "1  Tales of an Ancient Empire   \n",
       "2        The Lawless Frontier   \n",
       "3                Crimson Peak   \n",
       "4                       Trick   \n",
       "\n",
       "                                            overview  ...  \\\n",
       "0  A troupe of travelling players arrive at a sma...  ...   \n",
       "1  A princess is on a quest to unite the five gre...  ...   \n",
       "2  Tobin is after the bandit Zanti who killed his...  ...   \n",
       "3  In the aftermath of a family tragedy, an aspir...  ...   \n",
       "4  The misadventures of two young gay men, trying...  ...   \n",
       "\n",
       "                                             tagline  \\\n",
       "0                                                NaN   \n",
       "1                                                NaN   \n",
       "2                   Pounding Hoofs and Blazing Guns!   \n",
       "3                                            Beware.   \n",
       "4  A story about two guys trying to make it in th...   \n",
       "\n",
       "                        title  video vote_average vote_count  \\\n",
       "0              Floating Weeds  False          7.7       33.0   \n",
       "1  Tales of an Ancient Empire  False          2.5        7.0   \n",
       "2        The Lawless Frontier  False          4.0        8.0   \n",
       "3                Crimson Peak  False          6.4     1494.0   \n",
       "4                       Trick  False          6.7       24.0   \n",
       "\n",
       "   belongs_to_collection_name  genres_names_first  \\\n",
       "0                         NaN               Drama   \n",
       "1                         NaN           Adventure   \n",
       "2                         NaN              Action   \n",
       "3                         NaN             Mystery   \n",
       "4                         NaN              Comedy   \n",
       "\n",
       "                                        genres_names spoken_languages_names  \\\n",
       "0                                          ['Drama']                ['日本語']   \n",
       "1  ['Adventure', 'Fantasy', 'Horror', 'Action', '...            ['English']   \n",
       "2                              ['Action', 'Western']            ['English']   \n",
       "3  ['Mystery', 'Thriller', 'Fantasy', 'Horror', '...            ['English']   \n",
       "4                              ['Comedy', 'Romance']            ['English']   \n",
       "\n",
       "  spoken_languages_names_first  \n",
       "0                          日本語  \n",
       "1                      English  \n",
       "2                      English  \n",
       "3                      English  \n",
       "4                      English  \n",
       "\n",
       "[5 rows x 29 columns]"
      ]
     },
     "execution_count": 66,
     "metadata": {},
     "output_type": "execute_result"
    }
   ],
   "source": [
    "movies.head()"
   ]
  },
  {
   "cell_type": "code",
   "execution_count": 59,
   "metadata": {},
   "outputs": [
    {
     "data": {
      "text/plain": [
       "Index(['adult', 'belongs_to_collection', 'budget', 'genres', 'homepage', 'id',\n",
       "       'imdb_id', 'original_language', 'original_title', 'overview',\n",
       "       'popularity', 'poster_path', 'production_companies',\n",
       "       'production_countries', 'release_date', 'revenue', 'runtime',\n",
       "       'spoken_languages', 'status', 'tagline', 'title', 'video',\n",
       "       'vote_average', 'vote_count', 'belongs_to_collection_name',\n",
       "       'genres_names_first', 'genres_names', 'spoken_languages_names',\n",
       "       'spoken_languages_names_first'],\n",
       "      dtype='object')"
      ]
     },
     "execution_count": 59,
     "metadata": {},
     "output_type": "execute_result"
    }
   ],
   "source": [
    "movies.columns"
   ]
  },
  {
   "cell_type": "code",
   "execution_count": 6,
   "metadata": {},
   "outputs": [],
   "source": [
    "pandas.set_option('display.max_columns', 500)"
   ]
  },
  {
   "cell_type": "code",
   "execution_count": 7,
   "metadata": {},
   "outputs": [
    {
     "data": {
      "text/html": [
       "<div>\n",
       "<style scoped>\n",
       "    .dataframe tbody tr th:only-of-type {\n",
       "        vertical-align: middle;\n",
       "    }\n",
       "\n",
       "    .dataframe tbody tr th {\n",
       "        vertical-align: top;\n",
       "    }\n",
       "\n",
       "    .dataframe thead th {\n",
       "        text-align: right;\n",
       "    }\n",
       "</style>\n",
       "<table border=\"1\" class=\"dataframe\">\n",
       "  <thead>\n",
       "    <tr style=\"text-align: right;\">\n",
       "      <th></th>\n",
       "      <th>adult</th>\n",
       "      <th>belongs_to_collection</th>\n",
       "      <th>budget</th>\n",
       "      <th>genres</th>\n",
       "      <th>homepage</th>\n",
       "      <th>id</th>\n",
       "      <th>imdb_id</th>\n",
       "      <th>original_language</th>\n",
       "      <th>original_title</th>\n",
       "      <th>overview</th>\n",
       "      <th>popularity</th>\n",
       "      <th>poster_path</th>\n",
       "      <th>production_companies</th>\n",
       "      <th>production_countries</th>\n",
       "      <th>release_date</th>\n",
       "      <th>revenue</th>\n",
       "      <th>runtime</th>\n",
       "      <th>spoken_languages</th>\n",
       "      <th>status</th>\n",
       "      <th>tagline</th>\n",
       "      <th>title</th>\n",
       "      <th>video</th>\n",
       "      <th>vote_average</th>\n",
       "      <th>vote_count</th>\n",
       "      <th>belongs_to_collection_name</th>\n",
       "      <th>genres_names_first</th>\n",
       "      <th>genres_names</th>\n",
       "      <th>spoken_languages_names</th>\n",
       "      <th>spoken_languages_names_first</th>\n",
       "    </tr>\n",
       "  </thead>\n",
       "  <tbody>\n",
       "    <tr>\n",
       "      <th>0</th>\n",
       "      <td>False</td>\n",
       "      <td>NaN</td>\n",
       "      <td>0</td>\n",
       "      <td>[{'id': 18, 'name': 'Drama'}]</td>\n",
       "      <td>NaN</td>\n",
       "      <td>46918</td>\n",
       "      <td>tt0053390</td>\n",
       "      <td>ja</td>\n",
       "      <td>浮草</td>\n",
       "      <td>A troupe of travelling players arrive at a sma...</td>\n",
       "      <td>1.774766</td>\n",
       "      <td>/8czqYx9XAViidU1sdjvrAPL3ZKg.jpg</td>\n",
       "      <td>[{'name': 'Daiei Studios', 'id': 881}]</td>\n",
       "      <td>['Japan']</td>\n",
       "      <td>1959-11-17</td>\n",
       "      <td>0.0</td>\n",
       "      <td>119.0</td>\n",
       "      <td>[{'iso_639_1': 'ja', 'name': '日本語'}]</td>\n",
       "      <td>Released</td>\n",
       "      <td>NaN</td>\n",
       "      <td>Floating Weeds</td>\n",
       "      <td>False</td>\n",
       "      <td>7.7</td>\n",
       "      <td>33.0</td>\n",
       "      <td>NaN</td>\n",
       "      <td>Drama</td>\n",
       "      <td>['Drama']</td>\n",
       "      <td>['日本語']</td>\n",
       "      <td>日本語</td>\n",
       "    </tr>\n",
       "    <tr>\n",
       "      <th>1</th>\n",
       "      <td>False</td>\n",
       "      <td>NaN</td>\n",
       "      <td>1000000</td>\n",
       "      <td>[{'id': 12, 'name': 'Adventure'}, {'id': 14, '...</td>\n",
       "      <td>NaN</td>\n",
       "      <td>47065</td>\n",
       "      <td>tt1136688</td>\n",
       "      <td>en</td>\n",
       "      <td>Tales of an Ancient Empire</td>\n",
       "      <td>A princess is on a quest to unite the five gre...</td>\n",
       "      <td>0.887971</td>\n",
       "      <td>/kk272E9aP7vF5oH6vgYF2IlR7w4.jpg</td>\n",
       "      <td>[]</td>\n",
       "      <td>['Argentina', 'United States of America']</td>\n",
       "      <td>2010-07-31</td>\n",
       "      <td>0.0</td>\n",
       "      <td>86.0</td>\n",
       "      <td>[{'iso_639_1': 'en', 'name': 'English'}]</td>\n",
       "      <td>Rumored</td>\n",
       "      <td>NaN</td>\n",
       "      <td>Tales of an Ancient Empire</td>\n",
       "      <td>False</td>\n",
       "      <td>2.5</td>\n",
       "      <td>7.0</td>\n",
       "      <td>NaN</td>\n",
       "      <td>Adventure</td>\n",
       "      <td>['Adventure', 'Fantasy', 'Horror', 'Action', '...</td>\n",
       "      <td>['English']</td>\n",
       "      <td>English</td>\n",
       "    </tr>\n",
       "  </tbody>\n",
       "</table>\n",
       "</div>"
      ],
      "text/plain": [
       "   adult belongs_to_collection   budget  \\\n",
       "0  False                   NaN        0   \n",
       "1  False                   NaN  1000000   \n",
       "\n",
       "                                              genres homepage     id  \\\n",
       "0                      [{'id': 18, 'name': 'Drama'}]      NaN  46918   \n",
       "1  [{'id': 12, 'name': 'Adventure'}, {'id': 14, '...      NaN  47065   \n",
       "\n",
       "     imdb_id original_language              original_title  \\\n",
       "0  tt0053390                ja                          浮草   \n",
       "1  tt1136688                en  Tales of an Ancient Empire   \n",
       "\n",
       "                                            overview  popularity  \\\n",
       "0  A troupe of travelling players arrive at a sma...    1.774766   \n",
       "1  A princess is on a quest to unite the five gre...    0.887971   \n",
       "\n",
       "                        poster_path                    production_companies  \\\n",
       "0  /8czqYx9XAViidU1sdjvrAPL3ZKg.jpg  [{'name': 'Daiei Studios', 'id': 881}]   \n",
       "1  /kk272E9aP7vF5oH6vgYF2IlR7w4.jpg                                      []   \n",
       "\n",
       "                        production_countries release_date  revenue  runtime  \\\n",
       "0                                  ['Japan']   1959-11-17      0.0    119.0   \n",
       "1  ['Argentina', 'United States of America']   2010-07-31      0.0     86.0   \n",
       "\n",
       "                           spoken_languages    status tagline  \\\n",
       "0      [{'iso_639_1': 'ja', 'name': '日本語'}]  Released     NaN   \n",
       "1  [{'iso_639_1': 'en', 'name': 'English'}]   Rumored     NaN   \n",
       "\n",
       "                        title  video  vote_average  vote_count  \\\n",
       "0              Floating Weeds  False           7.7        33.0   \n",
       "1  Tales of an Ancient Empire  False           2.5         7.0   \n",
       "\n",
       "  belongs_to_collection_name genres_names_first  \\\n",
       "0                        NaN              Drama   \n",
       "1                        NaN          Adventure   \n",
       "\n",
       "                                        genres_names spoken_languages_names  \\\n",
       "0                                          ['Drama']                ['日本語']   \n",
       "1  ['Adventure', 'Fantasy', 'Horror', 'Action', '...            ['English']   \n",
       "\n",
       "  spoken_languages_names_first  \n",
       "0                          日本語  \n",
       "1                      English  "
      ]
     },
     "execution_count": 7,
     "metadata": {},
     "output_type": "execute_result"
    }
   ],
   "source": [
    "movies.head(2)"
   ]
  },
  {
   "cell_type": "code",
   "execution_count": 17,
   "metadata": {},
   "outputs": [
    {
     "data": {
      "text/plain": [
       "(10000, 29)"
      ]
     },
     "execution_count": 17,
     "metadata": {},
     "output_type": "execute_result"
    }
   ],
   "source": [
    "movies.shape"
   ]
  },
  {
   "cell_type": "markdown",
   "metadata": {},
   "source": [
    "### Quantos filmes não tem inglês como a principal língua?"
   ]
  },
  {
   "cell_type": "code",
   "execution_count": 29,
   "metadata": {},
   "outputs": [
    {
     "data": {
      "text/plain": [
       "2862"
      ]
     },
     "execution_count": 29,
     "metadata": {},
     "output_type": "execute_result"
    }
   ],
   "source": [
    "filtro_sem_ingles = movies.original_language != 'en'\n",
    "movies.id[filtro_sem_ingles].count()"
   ]
  },
  {
   "cell_type": "markdown",
   "metadata": {},
   "source": [
    "### Qual foi o filme mais caro e o mais barato para produzir?"
   ]
  },
  {
   "cell_type": "code",
   "execution_count": 45,
   "metadata": {},
   "outputs": [
    {
     "name": "stdout",
     "output_type": "stream",
     "text": [
      "filme mais caro:  ['Pirates of the Caribbean: On Stranger Tides']\n",
      "filme mais barato:  ['Floating Weeds' 'The Lawless Frontier' 'Leningrad Cowboys Go America'\n",
      " ... 'Come On, Get Happy: The Partridge Family Story'\n",
      " 'Zatôichi on the Road' 'Ragin Cajun Redneck Gators']\n"
     ]
    }
   ],
   "source": [
    "filtro_filme_caro = movies.budget == movies.budget.max()\n",
    "filtro_filme_barato = movies.budget == movies.budget.min()\n",
    "\n",
    "print(\"filme mais caro: \", movies.title[filtro_filme_caro].values)\n",
    "print(\"filme mais barato: \", movies.title[filtro_filme_barato].values)"
   ]
  },
  {
   "cell_type": "markdown",
   "metadata": {},
   "source": [
    "### Quais foram os 3 filmes que trouxeram o maior lucro?"
   ]
  },
  {
   "cell_type": "code",
   "execution_count": 13,
   "metadata": {},
   "outputs": [
    {
     "data": {
      "text/plain": [
       "1489                            Frozen\n",
       "7818    Transformers: Dark of the Moon\n",
       "8919                          Zootopia\n",
       "Name: title, dtype: object"
      ]
     },
     "execution_count": 13,
     "metadata": {},
     "output_type": "execute_result"
    }
   ],
   "source": [
    "movies['lucro'] = movies.revenue - movies.budget\n",
    "movies.sort_values(by=['lucro'], ascending=False).title.head(3)"
   ]
  },
  {
   "cell_type": "markdown",
   "metadata": {},
   "source": [
    "### Quantos filmes foram produzidos de cada gênero?"
   ]
  },
  {
   "cell_type": "code",
   "execution_count": 89,
   "metadata": {},
   "outputs": [
    {
     "data": {
      "text/plain": [
       "genres_names_first\n",
       "Action              969\n",
       "Adventure           352\n",
       "Animation           257\n",
       "Comedy             1932\n",
       "Crime               396\n",
       "Documentary         746\n",
       "Drama              2591\n",
       "Family              107\n",
       "Fantasy             175\n",
       "Foreign              35\n",
       "History              58\n",
       "Horror              579\n",
       "Music                95\n",
       "Mystery             117\n",
       "Romance             274\n",
       "Science Fiction     134\n",
       "TV Movie             92\n",
       "Thriller            373\n",
       "War                  78\n",
       "Western             106\n",
       "Name: id, dtype: int64"
      ]
     },
     "execution_count": 89,
     "metadata": {},
     "output_type": "execute_result"
    }
   ],
   "source": [
    "# Modo fácil\n",
    "\n",
    "movies.groupby('genres_names_first').id.count()"
   ]
  },
  {
   "cell_type": "code",
   "execution_count": 14,
   "metadata": {},
   "outputs": [
    {
     "data": {
      "text/plain": [
       "Drama              2591\n",
       "Comedy             1932\n",
       "Action              969\n",
       "Documentary         746\n",
       "Horror              579\n",
       "Crime               396\n",
       "Thriller            373\n",
       "Adventure           352\n",
       "Romance             274\n",
       "Animation           257\n",
       "Fantasy             175\n",
       "Science Fiction     134\n",
       "Mystery             117\n",
       "Family              107\n",
       "Western             106\n",
       "Music                95\n",
       "TV Movie             92\n",
       "War                  78\n",
       "History              58\n",
       "Foreign              35\n",
       "Name: genres_names_first, dtype: int64"
      ]
     },
     "execution_count": 14,
     "metadata": {},
     "output_type": "execute_result"
    }
   ],
   "source": [
    "# modo fácil 2\n",
    "\n",
    "movies['genres_names_first'].value_counts()"
   ]
  },
  {
   "cell_type": "code",
   "execution_count": 18,
   "metadata": {},
   "outputs": [
    {
     "data": {
      "text/html": [
       "<div>\n",
       "<style scoped>\n",
       "    .dataframe tbody tr th:only-of-type {\n",
       "        vertical-align: middle;\n",
       "    }\n",
       "\n",
       "    .dataframe tbody tr th {\n",
       "        vertical-align: top;\n",
       "    }\n",
       "\n",
       "    .dataframe thead th {\n",
       "        text-align: right;\n",
       "    }\n",
       "</style>\n",
       "<table border=\"1\" class=\"dataframe\">\n",
       "  <thead>\n",
       "    <tr style=\"text-align: right;\">\n",
       "      <th></th>\n",
       "      <th>0</th>\n",
       "      <th>1</th>\n",
       "      <th>2</th>\n",
       "      <th>3</th>\n",
       "      <th>4</th>\n",
       "      <th>5</th>\n",
       "      <th>6</th>\n",
       "    </tr>\n",
       "  </thead>\n",
       "  <tbody>\n",
       "    <tr>\n",
       "      <th>0</th>\n",
       "      <td>['Drama']</td>\n",
       "      <td>None</td>\n",
       "      <td>None</td>\n",
       "      <td>None</td>\n",
       "      <td>None</td>\n",
       "      <td>None</td>\n",
       "      <td>None</td>\n",
       "    </tr>\n",
       "    <tr>\n",
       "      <th>1</th>\n",
       "      <td>['Adventure'</td>\n",
       "      <td>'Fantasy'</td>\n",
       "      <td>'Horror'</td>\n",
       "      <td>'Action'</td>\n",
       "      <td>'Thriller'</td>\n",
       "      <td>'Science Fiction']</td>\n",
       "      <td>None</td>\n",
       "    </tr>\n",
       "    <tr>\n",
       "      <th>2</th>\n",
       "      <td>['Action'</td>\n",
       "      <td>'Western']</td>\n",
       "      <td>None</td>\n",
       "      <td>None</td>\n",
       "      <td>None</td>\n",
       "      <td>None</td>\n",
       "      <td>None</td>\n",
       "    </tr>\n",
       "    <tr>\n",
       "      <th>3</th>\n",
       "      <td>['Mystery'</td>\n",
       "      <td>'Thriller'</td>\n",
       "      <td>'Fantasy'</td>\n",
       "      <td>'Horror'</td>\n",
       "      <td>'Drama']</td>\n",
       "      <td>None</td>\n",
       "      <td>None</td>\n",
       "    </tr>\n",
       "    <tr>\n",
       "      <th>4</th>\n",
       "      <td>['Comedy'</td>\n",
       "      <td>'Romance']</td>\n",
       "      <td>None</td>\n",
       "      <td>None</td>\n",
       "      <td>None</td>\n",
       "      <td>None</td>\n",
       "      <td>None</td>\n",
       "    </tr>\n",
       "    <tr>\n",
       "      <th>...</th>\n",
       "      <td>...</td>\n",
       "      <td>...</td>\n",
       "      <td>...</td>\n",
       "      <td>...</td>\n",
       "      <td>...</td>\n",
       "      <td>...</td>\n",
       "      <td>...</td>\n",
       "    </tr>\n",
       "    <tr>\n",
       "      <th>9995</th>\n",
       "      <td>['Romance'</td>\n",
       "      <td>'Comedy'</td>\n",
       "      <td>'Fantasy']</td>\n",
       "      <td>None</td>\n",
       "      <td>None</td>\n",
       "      <td>None</td>\n",
       "      <td>None</td>\n",
       "    </tr>\n",
       "    <tr>\n",
       "      <th>9996</th>\n",
       "      <td>['Horror']</td>\n",
       "      <td>None</td>\n",
       "      <td>None</td>\n",
       "      <td>None</td>\n",
       "      <td>None</td>\n",
       "      <td>None</td>\n",
       "      <td>None</td>\n",
       "    </tr>\n",
       "    <tr>\n",
       "      <th>9997</th>\n",
       "      <td>[]</td>\n",
       "      <td>None</td>\n",
       "      <td>None</td>\n",
       "      <td>None</td>\n",
       "      <td>None</td>\n",
       "      <td>None</td>\n",
       "      <td>None</td>\n",
       "    </tr>\n",
       "    <tr>\n",
       "      <th>9998</th>\n",
       "      <td>['Action'</td>\n",
       "      <td>'Adventure'</td>\n",
       "      <td>'Drama']</td>\n",
       "      <td>None</td>\n",
       "      <td>None</td>\n",
       "      <td>None</td>\n",
       "      <td>None</td>\n",
       "    </tr>\n",
       "    <tr>\n",
       "      <th>9999</th>\n",
       "      <td>['Horror'</td>\n",
       "      <td>'Thriller'</td>\n",
       "      <td>'Science Fiction']</td>\n",
       "      <td>None</td>\n",
       "      <td>None</td>\n",
       "      <td>None</td>\n",
       "      <td>None</td>\n",
       "    </tr>\n",
       "  </tbody>\n",
       "</table>\n",
       "<p>10000 rows × 7 columns</p>\n",
       "</div>"
      ],
      "text/plain": [
       "                 0             1                    2          3            4  \\\n",
       "0        ['Drama']          None                 None       None         None   \n",
       "1     ['Adventure'     'Fantasy'             'Horror'   'Action'   'Thriller'   \n",
       "2        ['Action'    'Western']                 None       None         None   \n",
       "3       ['Mystery'    'Thriller'            'Fantasy'   'Horror'     'Drama']   \n",
       "4        ['Comedy'    'Romance']                 None       None         None   \n",
       "...            ...           ...                  ...        ...          ...   \n",
       "9995    ['Romance'      'Comedy'           'Fantasy']       None         None   \n",
       "9996    ['Horror']          None                 None       None         None   \n",
       "9997            []          None                 None       None         None   \n",
       "9998     ['Action'   'Adventure'             'Drama']       None         None   \n",
       "9999     ['Horror'    'Thriller'   'Science Fiction']       None         None   \n",
       "\n",
       "                        5     6  \n",
       "0                    None  None  \n",
       "1      'Science Fiction']  None  \n",
       "2                    None  None  \n",
       "3                    None  None  \n",
       "4                    None  None  \n",
       "...                   ...   ...  \n",
       "9995                 None  None  \n",
       "9996                 None  None  \n",
       "9997                 None  None  \n",
       "9998                 None  None  \n",
       "9999                 None  None  \n",
       "\n",
       "[10000 rows x 7 columns]"
      ]
     },
     "execution_count": 18,
     "metadata": {},
     "output_type": "execute_result"
    }
   ],
   "source": [
    "# Modo mais complexo\n",
    "\n",
    "genre = movies['genres_names'].str.split(\",\", expand=True)\n",
    "genre"
   ]
  },
  {
   "cell_type": "code",
   "execution_count": 22,
   "metadata": {},
   "outputs": [
    {
     "data": {
      "text/html": [
       "<div>\n",
       "<style scoped>\n",
       "    .dataframe tbody tr th:only-of-type {\n",
       "        vertical-align: middle;\n",
       "    }\n",
       "\n",
       "    .dataframe tbody tr th {\n",
       "        vertical-align: top;\n",
       "    }\n",
       "\n",
       "    .dataframe thead th {\n",
       "        text-align: right;\n",
       "    }\n",
       "</style>\n",
       "<table border=\"1\" class=\"dataframe\">\n",
       "  <thead>\n",
       "    <tr style=\"text-align: right;\">\n",
       "      <th></th>\n",
       "      <th>0</th>\n",
       "      <th>1</th>\n",
       "      <th>2</th>\n",
       "      <th>3</th>\n",
       "      <th>4</th>\n",
       "      <th>5</th>\n",
       "      <th>6</th>\n",
       "    </tr>\n",
       "  </thead>\n",
       "  <tbody>\n",
       "    <tr>\n",
       "      <th>0</th>\n",
       "      <td>Drama</td>\n",
       "      <td>None</td>\n",
       "      <td>None</td>\n",
       "      <td>None</td>\n",
       "      <td>None</td>\n",
       "      <td>None</td>\n",
       "      <td>None</td>\n",
       "    </tr>\n",
       "    <tr>\n",
       "      <th>1</th>\n",
       "      <td>Adventure</td>\n",
       "      <td>Fantasy</td>\n",
       "      <td>Horror</td>\n",
       "      <td>Action</td>\n",
       "      <td>Thriller</td>\n",
       "      <td>ScienceFiction</td>\n",
       "      <td>None</td>\n",
       "    </tr>\n",
       "    <tr>\n",
       "      <th>2</th>\n",
       "      <td>Action</td>\n",
       "      <td>Western</td>\n",
       "      <td>None</td>\n",
       "      <td>None</td>\n",
       "      <td>None</td>\n",
       "      <td>None</td>\n",
       "      <td>None</td>\n",
       "    </tr>\n",
       "    <tr>\n",
       "      <th>3</th>\n",
       "      <td>Mystery</td>\n",
       "      <td>Thriller</td>\n",
       "      <td>Fantasy</td>\n",
       "      <td>Horror</td>\n",
       "      <td>Drama</td>\n",
       "      <td>None</td>\n",
       "      <td>None</td>\n",
       "    </tr>\n",
       "    <tr>\n",
       "      <th>4</th>\n",
       "      <td>Comedy</td>\n",
       "      <td>Romance</td>\n",
       "      <td>None</td>\n",
       "      <td>None</td>\n",
       "      <td>None</td>\n",
       "      <td>None</td>\n",
       "      <td>None</td>\n",
       "    </tr>\n",
       "    <tr>\n",
       "      <th>...</th>\n",
       "      <td>...</td>\n",
       "      <td>...</td>\n",
       "      <td>...</td>\n",
       "      <td>...</td>\n",
       "      <td>...</td>\n",
       "      <td>...</td>\n",
       "      <td>...</td>\n",
       "    </tr>\n",
       "    <tr>\n",
       "      <th>9995</th>\n",
       "      <td>Romance</td>\n",
       "      <td>Comedy</td>\n",
       "      <td>Fantasy</td>\n",
       "      <td>None</td>\n",
       "      <td>None</td>\n",
       "      <td>None</td>\n",
       "      <td>None</td>\n",
       "    </tr>\n",
       "    <tr>\n",
       "      <th>9996</th>\n",
       "      <td>Horror</td>\n",
       "      <td>None</td>\n",
       "      <td>None</td>\n",
       "      <td>None</td>\n",
       "      <td>None</td>\n",
       "      <td>None</td>\n",
       "      <td>None</td>\n",
       "    </tr>\n",
       "    <tr>\n",
       "      <th>9997</th>\n",
       "      <td></td>\n",
       "      <td>None</td>\n",
       "      <td>None</td>\n",
       "      <td>None</td>\n",
       "      <td>None</td>\n",
       "      <td>None</td>\n",
       "      <td>None</td>\n",
       "    </tr>\n",
       "    <tr>\n",
       "      <th>9998</th>\n",
       "      <td>Action</td>\n",
       "      <td>Adventure</td>\n",
       "      <td>Drama</td>\n",
       "      <td>None</td>\n",
       "      <td>None</td>\n",
       "      <td>None</td>\n",
       "      <td>None</td>\n",
       "    </tr>\n",
       "    <tr>\n",
       "      <th>9999</th>\n",
       "      <td>Horror</td>\n",
       "      <td>Thriller</td>\n",
       "      <td>ScienceFiction</td>\n",
       "      <td>None</td>\n",
       "      <td>None</td>\n",
       "      <td>None</td>\n",
       "      <td>None</td>\n",
       "    </tr>\n",
       "  </tbody>\n",
       "</table>\n",
       "<p>10000 rows × 7 columns</p>\n",
       "</div>"
      ],
      "text/plain": [
       "              0          1               2       3         4               5  \\\n",
       "0         Drama       None            None    None      None            None   \n",
       "1     Adventure    Fantasy          Horror  Action  Thriller  ScienceFiction   \n",
       "2        Action    Western            None    None      None            None   \n",
       "3       Mystery   Thriller         Fantasy  Horror     Drama            None   \n",
       "4        Comedy    Romance            None    None      None            None   \n",
       "...         ...        ...             ...     ...       ...             ...   \n",
       "9995    Romance     Comedy         Fantasy    None      None            None   \n",
       "9996     Horror       None            None    None      None            None   \n",
       "9997                  None            None    None      None            None   \n",
       "9998     Action  Adventure           Drama    None      None            None   \n",
       "9999     Horror   Thriller  ScienceFiction    None      None            None   \n",
       "\n",
       "         6  \n",
       "0     None  \n",
       "1     None  \n",
       "2     None  \n",
       "3     None  \n",
       "4     None  \n",
       "...    ...  \n",
       "9995  None  \n",
       "9996  None  \n",
       "9997  None  \n",
       "9998  None  \n",
       "9999  None  \n",
       "\n",
       "[10000 rows x 7 columns]"
      ]
     },
     "execution_count": 22,
     "metadata": {},
     "output_type": "execute_result"
    }
   ],
   "source": [
    "genre = genre.replace('\\W', '', regex=True)\n",
    "genre"
   ]
  },
  {
   "cell_type": "code",
   "execution_count": 26,
   "metadata": {},
   "outputs": [
    {
     "data": {
      "text/plain": [
       "Drama             4440\n",
       "Comedy            2905\n",
       "Thriller          1707\n",
       "Romance           1536\n",
       "Action            1431\n",
       "Horror            1045\n",
       "Crime              960\n",
       "Documentary        858\n",
       "Adventure          772\n",
       "ScienceFiction     673\n",
       "Family             593\n",
       "Mystery            539\n",
       "                   534\n",
       "Fantasy            521\n",
       "Animation          434\n",
       "Music              355\n",
       "Foreign            339\n",
       "History            299\n",
       "War                275\n",
       "Western            239\n",
       "TVMovie            182\n",
       "dtype: int64"
      ]
     },
     "execution_count": 26,
     "metadata": {},
     "output_type": "execute_result"
    }
   ],
   "source": [
    "genre.stack().value_counts()"
   ]
  },
  {
   "cell_type": "markdown",
   "metadata": {},
   "source": [
    "### Quais os gêneros que tem maior popularidade?"
   ]
  },
  {
   "cell_type": "code",
   "execution_count": 100,
   "metadata": {},
   "outputs": [
    {
     "data": {
      "text/plain": [
       "array(['Science Fiction', 'Thriller', 'Action', 'Drama', 'Adventure'],\n",
       "      dtype=object)"
      ]
     },
     "execution_count": 100,
     "metadata": {},
     "output_type": "execute_result"
    }
   ],
   "source": [
    "# Meu modo\n",
    "movies.sort_values(by=['popularity'], ascending=False).genres_names_first.head(10).unique()"
   ]
  },
  {
   "cell_type": "code",
   "execution_count": 28,
   "metadata": {},
   "outputs": [
    {
     "data": {
      "text/plain": [
       "genres_names_first\n",
       "Adventure          5.032377\n",
       "Science Fiction    4.763428\n",
       "Thriller           4.320196\n",
       "Fantasy            4.255689\n",
       "Action             4.240842\n",
       "Name: popularity, dtype: float64"
      ]
     },
     "execution_count": 28,
     "metadata": {},
     "output_type": "execute_result"
    }
   ],
   "source": [
    "# modo prof\n",
    "movies.groupby(\"genres_names_first\")['popularity'].mean().nlargest(5)"
   ]
  },
  {
   "cell_type": "markdown",
   "metadata": {},
   "source": [
    "### Qual a relação entre o valor gasto no filme e a sua popularidade?"
   ]
  },
  {
   "cell_type": "code",
   "execution_count": 102,
   "metadata": {},
   "outputs": [
    {
     "data": {
      "text/plain": [
       "<matplotlib.axes._subplots.AxesSubplot at 0x7fa06e4ace48>"
      ]
     },
     "execution_count": 102,
     "metadata": {},
     "output_type": "execute_result"
    },
    {
     "data": {
      "image/png": "[encoded data removed]",
      "text/plain": [
       "<Figure size 432x288 with 2 Axes>"
      ]
     },
     "metadata": {
      "needs_background": "light"
     },
     "output_type": "display_data"
    }
   ],
   "source": [
    "movies.plot.scatter(x=\"budget\", y=\"popularity\", colormap='viridis')"
   ]
  },
  {
   "cell_type": "code",
   "execution_count": null,
   "metadata": {},
   "outputs": [],
   "source": [
    "correlation = movies.corr()"
   ]
  },
  {
   "cell_type": "code",
   "execution_count": 47,
   "metadata": {},
   "outputs": [
    {
     "data": {
      "text/html": [
       "<div>\n",
       "<style scoped>\n",
       "    .dataframe tbody tr th:only-of-type {\n",
       "        vertical-align: middle;\n",
       "    }\n",
       "\n",
       "    .dataframe tbody tr th {\n",
       "        vertical-align: top;\n",
       "    }\n",
       "\n",
       "    .dataframe thead th {\n",
       "        text-align: right;\n",
       "    }\n",
       "</style>\n",
       "<table border=\"1\" class=\"dataframe\">\n",
       "  <thead>\n",
       "    <tr style=\"text-align: right;\">\n",
       "      <th></th>\n",
       "      <th>popularity</th>\n",
       "    </tr>\n",
       "  </thead>\n",
       "  <tbody>\n",
       "    <tr>\n",
       "      <th>adult</th>\n",
       "      <td>-0.002521</td>\n",
       "    </tr>\n",
       "    <tr>\n",
       "      <th>budget</th>\n",
       "      <td>0.485486</td>\n",
       "    </tr>\n",
       "    <tr>\n",
       "      <th>id</th>\n",
       "      <td>-0.134505</td>\n",
       "    </tr>\n",
       "    <tr>\n",
       "      <th>popularity</th>\n",
       "      <td>1.000000</td>\n",
       "    </tr>\n",
       "    <tr>\n",
       "      <th>revenue</th>\n",
       "      <td>0.498465</td>\n",
       "    </tr>\n",
       "    <tr>\n",
       "      <th>runtime</th>\n",
       "      <td>0.153994</td>\n",
       "    </tr>\n",
       "    <tr>\n",
       "      <th>vote_average</th>\n",
       "      <td>0.203193</td>\n",
       "    </tr>\n",
       "    <tr>\n",
       "      <th>vote_count</th>\n",
       "      <td>0.636648</td>\n",
       "    </tr>\n",
       "    <tr>\n",
       "      <th>lucro</th>\n",
       "      <td>0.448423</td>\n",
       "    </tr>\n",
       "  </tbody>\n",
       "</table>\n",
       "</div>"
      ],
      "text/plain": [
       "              popularity\n",
       "adult          -0.002521\n",
       "budget          0.485486\n",
       "id             -0.134505\n",
       "popularity      1.000000\n",
       "revenue         0.498465\n",
       "runtime         0.153994\n",
       "vote_average    0.203193\n",
       "vote_count      0.636648\n",
       "lucro           0.448423"
      ]
     },
     "execution_count": 47,
     "metadata": {},
     "output_type": "execute_result"
    }
   ],
   "source": [
    "correlation[['popularity']]"
   ]
  },
  {
   "cell_type": "markdown",
   "metadata": {},
   "source": [
    "### Exiba uma linha do tempo anual com a quantidade de filmes produzidos por gênero"
   ]
  },
  {
   "cell_type": "code",
   "execution_count": 137,
   "metadata": {},
   "outputs": [
    {
     "data": {
      "text/plain": [
       "<BarContainer object of 1326 artists>"
      ]
     },
     "execution_count": 137,
     "metadata": {},
     "output_type": "execute_result"
    },
    {
     "data": {
      "image/png": "[encoded data removed]",
      "text/plain": [
       "<Figure size 432x288 with 1 Axes>"
      ]
     },
     "metadata": {
      "needs_background": "light"
     },
     "output_type": "display_data"
    }
   ],
   "source": [
    "import matplotlib.pyplot as plt\n",
    "import numpy as np\n",
    "\n",
    "# transforma em ano\n",
    "movies['year_release'] = pandas.to_datetime(movies['release_date'], format='%Y/%m/%d').dt.year.values\n",
    "\n",
    "# faz o agrupamento\n",
    "df = pandas.DataFrame(movies.groupby([ \"year_release\", \"genres_names_first\"])['id'].count())\n",
    "df.reset_index(inplace=True)\n",
    "\n",
    "barWidth = 0.25\n",
    "\n",
    "r1 = np.arange(len(df.year_release))\n",
    "r2 = [x + barWidth for x in r1]\n",
    "\n",
    "plt.bar(r1, df.year_release, width=barWidth, label = 'ano')\n",
    "plt.bar(r1, df.genres_names_first, width=barWidth, label = 'gênero')\n",
    "\n",
    "# faz o gráfico\n",
    "#"
   ]
  },
  {
   "cell_type": "code",
   "execution_count": 51,
   "metadata": {},
   "outputs": [],
   "source": [
    "# resolução da prof\n",
    "\n",
    "movies['release_date'] = pandas.to_datetime(movies['release_date'])"
   ]
  },
  {
   "cell_type": "code",
   "execution_count": 54,
   "metadata": {},
   "outputs": [
    {
     "data": {
      "text/plain": [
       "adult                                     bool\n",
       "belongs_to_collection                   object\n",
       "budget                                   int64\n",
       "genres                                  object\n",
       "homepage                                object\n",
       "id                                       int64\n",
       "imdb_id                                 object\n",
       "original_language                       object\n",
       "original_title                          object\n",
       "overview                                object\n",
       "popularity                             float64\n",
       "poster_path                             object\n",
       "production_companies                    object\n",
       "production_countries                    object\n",
       "release_date                    datetime64[ns]\n",
       "revenue                                float64\n",
       "runtime                                float64\n",
       "spoken_languages                        object\n",
       "status                                  object\n",
       "tagline                                 object\n",
       "title                                   object\n",
       "video                                   object\n",
       "vote_average                           float64\n",
       "vote_count                             float64\n",
       "belongs_to_collection_name              object\n",
       "genres_names_first                      object\n",
       "genres_names                            object\n",
       "spoken_languages_names                  object\n",
       "spoken_languages_names_first            object\n",
       "lucro                                  float64\n",
       "year                                   float64\n",
       "dtype: object"
      ]
     },
     "execution_count": 54,
     "metadata": {},
     "output_type": "execute_result"
    }
   ],
   "source": [
    "movies.dtypes"
   ]
  },
  {
   "cell_type": "code",
   "execution_count": 53,
   "metadata": {},
   "outputs": [],
   "source": [
    "movies['year'] = movies['release_date'].dt.year"
   ]
  },
  {
   "cell_type": "code",
   "execution_count": 58,
   "metadata": {},
   "outputs": [
    {
     "data": {
      "text/plain": [
       "<matplotlib.axes._subplots.AxesSubplot at 0x7f34a26597f0>"
      ]
     },
     "execution_count": 58,
     "metadata": {},
     "output_type": "execute_result"
    },
    {
     "data": {
      "image/png": "[encoded data removed]",
      "text/plain": [
       "<Figure size 432x288 with 1 Axes>"
      ]
     },
     "metadata": {
      "needs_background": "light"
     },
     "output_type": "display_data"
    }
   ],
   "source": [
    "genero_por_ano = pandas.crosstab(movies['year'], movies['genres_names_first'])\n",
    "genero_por_ano.plot()"
   ]
  },
  {
   "cell_type": "code",
   "execution_count": 64,
   "metadata": {},
   "outputs": [
    {
     "data": {
      "text/plain": [
       "<matplotlib.axes._subplots.AxesSubplot at 0x7f34a0f34f28>"
      ]
     },
     "execution_count": 64,
     "metadata": {},
     "output_type": "execute_result"
    },
    {
     "data": {
      "image/png": "[encoded data removed]",
      "text/plain": [
       "<Figure size 576x576 with 1 Axes>"
      ]
     },
     "metadata": {
      "needs_background": "light"
     },
     "output_type": "display_data"
    }
   ],
   "source": [
    "import matplotlib.pyplot as plt\n",
    "\n",
    "plt.rcParams['figure.figsize'] = (8,8)\n",
    "genero_por_ano.plot()"
   ]
  },
  {
   "cell_type": "markdown",
   "metadata": {},
   "source": [
    "### Quais features `colunas` são mais importantes para ter uma boa avaliação?"
   ]
  },
  {
   "cell_type": "code",
   "execution_count": 66,
   "metadata": {},
   "outputs": [
    {
     "data": {
      "text/plain": [
       "adult          -0.002521\n",
       "budget          0.485486\n",
       "id             -0.134505\n",
       "popularity      1.000000\n",
       "revenue         0.498465\n",
       "runtime         0.153994\n",
       "vote_average    0.203193\n",
       "vote_count      0.636648\n",
       "lucro           0.448423\n",
       "Name: popularity, dtype: float64"
      ]
     },
     "execution_count": 66,
     "metadata": {},
     "output_type": "execute_result"
    }
   ],
   "source": [
    "correlation['popularity']"
   ]
  }
 ],
 "metadata": {
  "kernelspec": {
   "display_name": "conda_python3",
   "language": "python",
   "name": "conda_python3"
  },
  "language_info": {
   "codemirror_mode": {
    "name": "ipython",
    "version": 3
   },
   "file_extension": ".py",
   "mimetype": "text/x-python",
   "name": "python",
   "nbconvert_exporter": "python",
   "pygments_lexer": "ipython3",
   "version": "3.6.10"
  }
 },
 "nbformat": 4,
 "nbformat_minor": 4
}
