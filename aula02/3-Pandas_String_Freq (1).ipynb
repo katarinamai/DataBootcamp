{
 "cells": [
  {
   "cell_type": "code",
   "execution_count": 1,
   "metadata": {
    "colab": {
     "base_uri": "https://localhost:8080/",
     "height": 425
    },
    "colab_type": "code",
    "id": "-L3DxIUYeDO1",
    "outputId": "2e07e2aa-2967-45fd-c0d5-38e1055b634d"
   },
   "outputs": [],
   "source": [
    "import pandas\n",
    "\n",
    "titanic = pandas.read_csv(\"https://databootcamp.nyc3.digitaloceanspaces.com/titanic_2.csv\")"
   ]
  },
  {
   "cell_type": "markdown",
   "metadata": {
    "colab_type": "text",
    "hideCode": false,
    "hidePrompt": false,
    "id": "WvdlDPKweDPZ"
   },
   "source": [
    "## Tranformação de colunas do tipo **String**\n",
    "\n",
    "Podemos tratar as Strings fazendo um _apply_... **mas existe uma maneira mais simples para aplicar algumas tranformações!**\n",
    "\n",
    "Quando em uma coluna é tipo `object` podemos acessar as funções do tipo `string` usando a propriedade `str`."
   ]
  },
  {
   "cell_type": "code",
   "execution_count": 14,
   "metadata": {
    "colab": {
     "base_uri": "https://localhost:8080/",
     "height": 34
    },
    "colab_type": "code",
    "id": "29iN4HSlWpRW",
    "outputId": "12ec5c2e-fc5b-492c-d58a-fde377f9c2c3"
   },
   "outputs": [
    {
     "data": {
      "text/plain": [
       "<pandas.core.strings.StringMethods at 0x7f5e2bd57d30>"
      ]
     },
     "execution_count": 14,
     "metadata": {},
     "output_type": "execute_result"
    }
   ],
   "source": [
    "titanic[\"Name\"].str"
   ]
  },
  {
   "cell_type": "markdown",
   "metadata": {
    "colab_type": "text",
    "id": "8-V81_sSWt6s"
   },
   "source": [
    "**2.1 - `replace` em todos os dados de uma coluna**\n",
    "\n",
    "Vamos começar com uma tranformação simples: retirar as vírgulas.\n",
    "\n",
    "`Braund, Mr. Owen Harris => Braund Mr. Owen Harris`"
   ]
  },
  {
   "cell_type": "code",
   "execution_count": 15,
   "metadata": {
    "colab": {
     "base_uri": "https://localhost:8080/",
     "height": 221
    },
    "colab_type": "code",
    "hideCode": false,
    "hidePrompt": false,
    "id": "o8Wg_oOQeDPa",
    "outputId": "1a3e5f66-b4ef-4c5c-9b25-cd70b9f81de1",
    "scrolled": true
   },
   "outputs": [
    {
     "data": {
      "text/plain": [
       "0                               Braund Mr. Owen Harris\n",
       "1    Cumings Mrs. John Bradley (Florence Briggs Tha...\n",
       "2                                Heikkinen Miss. Laina\n",
       "3          Futrelle Mrs. Jacques Heath (Lily May Peel)\n",
       "4                              Allen Mr. William Henry\n",
       "5                                      Moran Mr. James\n",
       "6                               McCarthy Mr. Timothy J\n",
       "7                        Palsson Master. Gosta Leonard\n",
       "8     Johnson Mrs. Oscar W (Elisabeth Vilhelmina Berg)\n",
       "9                   Nasser Mrs. Nicholas (Adele Achem)\n",
       "Name: Name, dtype: object"
      ]
     },
     "execution_count": 15,
     "metadata": {},
     "output_type": "execute_result"
    }
   ],
   "source": [
    "titanic[\"Name\"].str.replace(\",\",\"\").head(10)"
   ]
  },
  {
   "cell_type": "markdown",
   "metadata": {
    "colab_type": "text",
    "hideCode": false,
    "hidePrompt": false,
    "id": "AaxMTJY2eDPd"
   },
   "source": [
    "**2.1 - `split` em todos os dados de uma coluna**\n",
    "\n",
    "Usando isso vamos conseguir separar o sobrenome."
   ]
  },
  {
   "cell_type": "markdown",
   "metadata": {
    "colab_type": "text",
    "id": "xtN8B7FaeDPe"
   },
   "source": [
    "Primeiro como funciona o split?"
   ]
  },
  {
   "cell_type": "code",
   "execution_count": 6,
   "metadata": {
    "colab": {
     "base_uri": "https://localhost:8080/",
     "height": 34
    },
    "colab_type": "code",
    "id": "1VIDuND6eDPe",
    "outputId": "b46d31b8-4b54-43d7-8e13-3977934fd7b5"
   },
   "outputs": [
    {
     "data": {
      "text/plain": [
       "['Meu', ' Exemplo']"
      ]
     },
     "execution_count": 6,
     "metadata": {},
     "output_type": "execute_result"
    }
   ],
   "source": [
    "name = \"Meu, Exemplo\"\n",
    "name.split(\",\")"
   ]
  },
  {
   "cell_type": "markdown",
   "metadata": {
    "colab_type": "text",
    "id": "4nDHhmVuXkPy"
   },
   "source": [
    "O `split` divide as strings criando uma lista para cada elemento, a divisão para cada elemento é via um separador nesse caso `,` por padrão o divisor é o espaço em branco."
   ]
  },
  {
   "cell_type": "markdown",
   "metadata": {
    "colab_type": "text",
    "id": "8BIDJGmYeDPh"
   },
   "source": [
    "Ao aplicar o `split` na coluna o retorno é uma coluna com uma `lista` dentro."
   ]
  },
  {
   "cell_type": "code",
   "execution_count": 7,
   "metadata": {
    "colab": {
     "base_uri": "https://localhost:8080/",
     "height": 221
    },
    "colab_type": "code",
    "hideCode": false,
    "hidePrompt": false,
    "id": "Y8iWlVBSeDPh",
    "outputId": "9ee90bb2-afda-4604-fa37-3fa913d12bdd"
   },
   "outputs": [
    {
     "data": {
      "text/plain": [
       "0                             [Braund,  Mr. Owen Harris]\n",
       "1      [Cumings,  Mrs. John Bradley (Florence Briggs ...\n",
       "2                              [Heikkinen,  Miss. Laina]\n",
       "3        [Futrelle,  Mrs. Jacques Heath (Lily May Peel)]\n",
       "4                            [Allen,  Mr. William Henry]\n",
       "                             ...                        \n",
       "886                             [Montvila,  Rev. Juozas]\n",
       "887                      [Graham,  Miss. Margaret Edith]\n",
       "888          [Johnston,  Miss. Catherine Helen \"Carrie\"]\n",
       "889                             [Behr,  Mr. Karl Howell]\n",
       "890                               [Dooley,  Mr. Patrick]\n",
       "Name: Name, Length: 891, dtype: object"
      ]
     },
     "execution_count": 7,
     "metadata": {},
     "output_type": "execute_result"
    }
   ],
   "source": [
    "titanic[\"Name\"].str.split(\",\")"
   ]
  },
  {
   "cell_type": "markdown",
   "metadata": {
    "colab_type": "text",
    "hideCode": false,
    "hidePrompt": false,
    "id": "zEnZL5V4eDPm"
   },
   "source": [
    "Nós podemos criar uma coluna para cada termo da lista usando o `expand`."
   ]
  },
  {
   "cell_type": "code",
   "execution_count": 13,
   "metadata": {
    "colab": {
     "base_uri": "https://localhost:8080/",
     "height": 419
    },
    "colab_type": "code",
    "hideCode": false,
    "hidePrompt": false,
    "id": "-8RHzt3zeDPn",
    "outputId": "980139c7-6a5a-42d0-8f1d-97edf3caa26b",
    "scrolled": true
   },
   "outputs": [
    {
     "data": {
      "text/html": [
       "<div>\n",
       "<style scoped>\n",
       "    .dataframe tbody tr th:only-of-type {\n",
       "        vertical-align: middle;\n",
       "    }\n",
       "\n",
       "    .dataframe tbody tr th {\n",
       "        vertical-align: top;\n",
       "    }\n",
       "\n",
       "    .dataframe thead th {\n",
       "        text-align: right;\n",
       "    }\n",
       "</style>\n",
       "<table border=\"1\" class=\"dataframe\">\n",
       "  <thead>\n",
       "    <tr style=\"text-align: right;\">\n",
       "      <th></th>\n",
       "      <th>0</th>\n",
       "      <th>1</th>\n",
       "    </tr>\n",
       "  </thead>\n",
       "  <tbody>\n",
       "    <tr>\n",
       "      <th>0</th>\n",
       "      <td>Braund</td>\n",
       "      <td>Mr. Owen Harris</td>\n",
       "    </tr>\n",
       "    <tr>\n",
       "      <th>1</th>\n",
       "      <td>Cumings</td>\n",
       "      <td>Mrs. John Bradley (Florence Briggs Thayer)</td>\n",
       "    </tr>\n",
       "    <tr>\n",
       "      <th>2</th>\n",
       "      <td>Heikkinen</td>\n",
       "      <td>Miss. Laina</td>\n",
       "    </tr>\n",
       "    <tr>\n",
       "      <th>3</th>\n",
       "      <td>Futrelle</td>\n",
       "      <td>Mrs. Jacques Heath (Lily May Peel)</td>\n",
       "    </tr>\n",
       "    <tr>\n",
       "      <th>4</th>\n",
       "      <td>Allen</td>\n",
       "      <td>Mr. William Henry</td>\n",
       "    </tr>\n",
       "    <tr>\n",
       "      <th>5</th>\n",
       "      <td>Moran</td>\n",
       "      <td>Mr. James</td>\n",
       "    </tr>\n",
       "    <tr>\n",
       "      <th>6</th>\n",
       "      <td>McCarthy</td>\n",
       "      <td>Mr. Timothy J</td>\n",
       "    </tr>\n",
       "    <tr>\n",
       "      <th>7</th>\n",
       "      <td>Palsson</td>\n",
       "      <td>Master. Gosta Leonard</td>\n",
       "    </tr>\n",
       "    <tr>\n",
       "      <th>8</th>\n",
       "      <td>Johnson</td>\n",
       "      <td>Mrs. Oscar W (Elisabeth Vilhelmina Berg)</td>\n",
       "    </tr>\n",
       "    <tr>\n",
       "      <th>9</th>\n",
       "      <td>Nasser</td>\n",
       "      <td>Mrs. Nicholas (Adele Achem)</td>\n",
       "    </tr>\n",
       "    <tr>\n",
       "      <th>10</th>\n",
       "      <td>Sandstrom</td>\n",
       "      <td>Miss. Marguerite Rut</td>\n",
       "    </tr>\n",
       "    <tr>\n",
       "      <th>11</th>\n",
       "      <td>Bonnell</td>\n",
       "      <td>Miss. Elizabeth</td>\n",
       "    </tr>\n",
       "    <tr>\n",
       "      <th>12</th>\n",
       "      <td>Saundercock</td>\n",
       "      <td>Mr. William Henry</td>\n",
       "    </tr>\n",
       "    <tr>\n",
       "      <th>13</th>\n",
       "      <td>Andersson</td>\n",
       "      <td>Mr. Anders Johan</td>\n",
       "    </tr>\n",
       "    <tr>\n",
       "      <th>14</th>\n",
       "      <td>Vestrom</td>\n",
       "      <td>Miss. Hulda Amanda Adolfina</td>\n",
       "    </tr>\n",
       "    <tr>\n",
       "      <th>15</th>\n",
       "      <td>Hewlett</td>\n",
       "      <td>Mrs. (Mary D Kingcome)</td>\n",
       "    </tr>\n",
       "    <tr>\n",
       "      <th>16</th>\n",
       "      <td>Rice</td>\n",
       "      <td>Master. Eugene</td>\n",
       "    </tr>\n",
       "    <tr>\n",
       "      <th>17</th>\n",
       "      <td>Williams</td>\n",
       "      <td>Mr. Charles Eugene</td>\n",
       "    </tr>\n",
       "    <tr>\n",
       "      <th>18</th>\n",
       "      <td>Vander Planke</td>\n",
       "      <td>Mrs. Julius (Emelia Maria Vandemoortele)</td>\n",
       "    </tr>\n",
       "    <tr>\n",
       "      <th>19</th>\n",
       "      <td>Masselmani</td>\n",
       "      <td>Mrs. Fatima</td>\n",
       "    </tr>\n",
       "  </tbody>\n",
       "</table>\n",
       "</div>"
      ],
      "text/plain": [
       "                0                                            1\n",
       "0          Braund                              Mr. Owen Harris\n",
       "1         Cumings   Mrs. John Bradley (Florence Briggs Thayer)\n",
       "2       Heikkinen                                  Miss. Laina\n",
       "3        Futrelle           Mrs. Jacques Heath (Lily May Peel)\n",
       "4           Allen                            Mr. William Henry\n",
       "5           Moran                                    Mr. James\n",
       "6        McCarthy                                Mr. Timothy J\n",
       "7         Palsson                        Master. Gosta Leonard\n",
       "8         Johnson     Mrs. Oscar W (Elisabeth Vilhelmina Berg)\n",
       "9          Nasser                  Mrs. Nicholas (Adele Achem)\n",
       "10      Sandstrom                         Miss. Marguerite Rut\n",
       "11        Bonnell                              Miss. Elizabeth\n",
       "12    Saundercock                            Mr. William Henry\n",
       "13      Andersson                             Mr. Anders Johan\n",
       "14        Vestrom                  Miss. Hulda Amanda Adolfina\n",
       "15        Hewlett                      Mrs. (Mary D Kingcome) \n",
       "16           Rice                               Master. Eugene\n",
       "17       Williams                           Mr. Charles Eugene\n",
       "18  Vander Planke     Mrs. Julius (Emelia Maria Vandemoortele)\n",
       "19     Masselmani                                  Mrs. Fatima"
      ]
     },
     "execution_count": 13,
     "metadata": {},
     "output_type": "execute_result"
    }
   ],
   "source": [
    "dataframe_nome_dividido = titanic[\"Name\"].str.split(\",\", expand=True).head(20)\n",
    "dataframe_nome_dividido"
   ]
  },
  {
   "cell_type": "markdown",
   "metadata": {
    "colab_type": "text",
    "id": "-WOJ8CMDYczE"
   },
   "source": [
    "Com isso criamos duas colunas, uma com o sobrenome `0` e outra com o nome completo. \n",
    "\n",
    "Vamos associar a coluna **sobrenome** ao nosso dataframe."
   ]
  },
  {
   "cell_type": "code",
   "execution_count": 10,
   "metadata": {
    "colab": {},
    "colab_type": "code",
    "hideCode": false,
    "hidePrompt": false,
    "id": "aGyHKGWxeDPw"
   },
   "outputs": [],
   "source": [
    "titanic[\"Sobrenome\"] = dataframe_nome_dividido[0]"
   ]
  },
  {
   "cell_type": "markdown",
   "metadata": {
    "colab_type": "text",
    "id": "yAcJWPvMZCbG"
   },
   "source": [
    "Vamos ver como ficou."
   ]
  },
  {
   "cell_type": "code",
   "execution_count": 11,
   "metadata": {
    "colab": {
     "base_uri": "https://localhost:8080/",
     "height": 204
    },
    "colab_type": "code",
    "hideCode": false,
    "hidePrompt": false,
    "id": "54PRGbaSeDPy",
    "outputId": "c53e9a0c-ab4a-49df-ec4f-fce0de7ee996"
   },
   "outputs": [
    {
     "data": {
      "text/html": [
       "<div>\n",
       "<style scoped>\n",
       "    .dataframe tbody tr th:only-of-type {\n",
       "        vertical-align: middle;\n",
       "    }\n",
       "\n",
       "    .dataframe tbody tr th {\n",
       "        vertical-align: top;\n",
       "    }\n",
       "\n",
       "    .dataframe thead th {\n",
       "        text-align: right;\n",
       "    }\n",
       "</style>\n",
       "<table border=\"1\" class=\"dataframe\">\n",
       "  <thead>\n",
       "    <tr style=\"text-align: right;\">\n",
       "      <th></th>\n",
       "      <th>Name</th>\n",
       "      <th>Sobrenome</th>\n",
       "    </tr>\n",
       "  </thead>\n",
       "  <tbody>\n",
       "    <tr>\n",
       "      <th>0</th>\n",
       "      <td>Braund, Mr. Owen Harris</td>\n",
       "      <td>Braund</td>\n",
       "    </tr>\n",
       "    <tr>\n",
       "      <th>1</th>\n",
       "      <td>Cumings, Mrs. John Bradley (Florence Briggs Th...</td>\n",
       "      <td>Cumings</td>\n",
       "    </tr>\n",
       "    <tr>\n",
       "      <th>2</th>\n",
       "      <td>Heikkinen, Miss. Laina</td>\n",
       "      <td>Heikkinen</td>\n",
       "    </tr>\n",
       "    <tr>\n",
       "      <th>3</th>\n",
       "      <td>Futrelle, Mrs. Jacques Heath (Lily May Peel)</td>\n",
       "      <td>Futrelle</td>\n",
       "    </tr>\n",
       "    <tr>\n",
       "      <th>4</th>\n",
       "      <td>Allen, Mr. William Henry</td>\n",
       "      <td>Allen</td>\n",
       "    </tr>\n",
       "  </tbody>\n",
       "</table>\n",
       "</div>"
      ],
      "text/plain": [
       "                                                Name  Sobrenome\n",
       "0                            Braund, Mr. Owen Harris     Braund\n",
       "1  Cumings, Mrs. John Bradley (Florence Briggs Th...    Cumings\n",
       "2                             Heikkinen, Miss. Laina  Heikkinen\n",
       "3       Futrelle, Mrs. Jacques Heath (Lily May Peel)   Futrelle\n",
       "4                           Allen, Mr. William Henry      Allen"
      ]
     },
     "execution_count": 11,
     "metadata": {},
     "output_type": "execute_result"
    }
   ],
   "source": [
    "nome_completo_sobrenome = [\"Name\", \"Sobrenome\"]\n",
    "\n",
    "titanic[nome_completo_sobrenome].head()"
   ]
  },
  {
   "cell_type": "markdown",
   "metadata": {
    "colab_type": "text",
    "hideCode": false,
    "hidePrompt": false,
    "id": "cimOIlI_eDP3"
   },
   "source": [
    "### **Desafio:** Vamos criar uma coluna com o nome da mulher `NomeMulher`.\n",
    "\n",
    "**Infelizmente, nos dados do Titanic o nome do marido aparecia na frente do nome da mulher, o nome da mulher aparecia entre parênteses `()`**\n",
    "\n",
    "![alt text](https://static.vix.com/pt/sites/default/files/styles/large/public/a/atrasada-relogio-pulso-1116-1400x800.jpg?itok=qv3gUH6U)"
   ]
  },
  {
   "cell_type": "code",
   "execution_count": 21,
   "metadata": {},
   "outputs": [
    {
     "data": {
      "text/html": [
       "<div>\n",
       "<style scoped>\n",
       "    .dataframe tbody tr th:only-of-type {\n",
       "        vertical-align: middle;\n",
       "    }\n",
       "\n",
       "    .dataframe tbody tr th {\n",
       "        vertical-align: top;\n",
       "    }\n",
       "\n",
       "    .dataframe thead th {\n",
       "        text-align: right;\n",
       "    }\n",
       "</style>\n",
       "<table border=\"1\" class=\"dataframe\">\n",
       "  <thead>\n",
       "    <tr style=\"text-align: right;\">\n",
       "      <th></th>\n",
       "      <th>0</th>\n",
       "      <th>1</th>\n",
       "      <th>2</th>\n",
       "    </tr>\n",
       "  </thead>\n",
       "  <tbody>\n",
       "    <tr>\n",
       "      <th>0</th>\n",
       "      <td>Braund, Mr. Owen Harris</td>\n",
       "      <td>None</td>\n",
       "      <td>None</td>\n",
       "    </tr>\n",
       "    <tr>\n",
       "      <th>1</th>\n",
       "      <td>Cumings, Mrs. John Bradley</td>\n",
       "      <td>Florence Briggs Thayer</td>\n",
       "      <td>None</td>\n",
       "    </tr>\n",
       "    <tr>\n",
       "      <th>2</th>\n",
       "      <td>Heikkinen, Miss. Laina</td>\n",
       "      <td>None</td>\n",
       "      <td>None</td>\n",
       "    </tr>\n",
       "    <tr>\n",
       "      <th>3</th>\n",
       "      <td>Futrelle, Mrs. Jacques Heath</td>\n",
       "      <td>Lily May Peel</td>\n",
       "      <td>None</td>\n",
       "    </tr>\n",
       "    <tr>\n",
       "      <th>4</th>\n",
       "      <td>Allen, Mr. William Henry</td>\n",
       "      <td>None</td>\n",
       "      <td>None</td>\n",
       "    </tr>\n",
       "    <tr>\n",
       "      <th>...</th>\n",
       "      <td>...</td>\n",
       "      <td>...</td>\n",
       "      <td>...</td>\n",
       "    </tr>\n",
       "    <tr>\n",
       "      <th>886</th>\n",
       "      <td>Montvila, Rev. Juozas</td>\n",
       "      <td>None</td>\n",
       "      <td>None</td>\n",
       "    </tr>\n",
       "    <tr>\n",
       "      <th>887</th>\n",
       "      <td>Graham, Miss. Margaret Edith</td>\n",
       "      <td>None</td>\n",
       "      <td>None</td>\n",
       "    </tr>\n",
       "    <tr>\n",
       "      <th>888</th>\n",
       "      <td>Johnston, Miss. Catherine Helen \"Carrie\"</td>\n",
       "      <td>None</td>\n",
       "      <td>None</td>\n",
       "    </tr>\n",
       "    <tr>\n",
       "      <th>889</th>\n",
       "      <td>Behr, Mr. Karl Howell</td>\n",
       "      <td>None</td>\n",
       "      <td>None</td>\n",
       "    </tr>\n",
       "    <tr>\n",
       "      <th>890</th>\n",
       "      <td>Dooley, Mr. Patrick</td>\n",
       "      <td>None</td>\n",
       "      <td>None</td>\n",
       "    </tr>\n",
       "  </tbody>\n",
       "</table>\n",
       "<p>891 rows × 3 columns</p>\n",
       "</div>"
      ],
      "text/plain": [
       "                                            0                       1     2\n",
       "0                     Braund, Mr. Owen Harris                    None  None\n",
       "1                 Cumings, Mrs. John Bradley   Florence Briggs Thayer  None\n",
       "2                      Heikkinen, Miss. Laina                    None  None\n",
       "3               Futrelle, Mrs. Jacques Heath            Lily May Peel  None\n",
       "4                    Allen, Mr. William Henry                    None  None\n",
       "..                                        ...                     ...   ...\n",
       "886                     Montvila, Rev. Juozas                    None  None\n",
       "887              Graham, Miss. Margaret Edith                    None  None\n",
       "888  Johnston, Miss. Catherine Helen \"Carrie\"                    None  None\n",
       "889                     Behr, Mr. Karl Howell                    None  None\n",
       "890                       Dooley, Mr. Patrick                    None  None\n",
       "\n",
       "[891 rows x 3 columns]"
      ]
     },
     "execution_count": 21,
     "metadata": {},
     "output_type": "execute_result"
    }
   ],
   "source": [
    "nomes = titanic[\"Name\"].str.replace(\")\", \"\").str.split(\"(\", expand=True)"
   ]
  },
  {
   "cell_type": "markdown",
   "metadata": {
    "colab_type": "text",
    "id": "ngsLG--PeDQC"
   },
   "source": [
    "## Tabela de frequência\n",
    "\n",
    "![pivot](http://web.cse.ohio-state.edu/~reeves.92/CSE4194/Lab6Pivot_files/image041.png)\n",
    "\n",
    "Para entender a correlação entre duas variáveis precisamos colocá-las lado a lado.\n",
    "\n",
    "O Pandas nos oferece uma funcionalidade de crosstab (tabela de frequência).\n",
    "\n",
    "\n",
    "**Vamos fazer a tabela de frequência entre os sobrenomes e as cabine, para validarmos se cada cabine possuia apenas uma família**"
   ]
  },
  {
   "cell_type": "code",
   "execution_count": 22,
   "metadata": {
    "colab": {
     "base_uri": "https://localhost:8080/",
     "height": 473
    },
    "colab_type": "code",
    "id": "WOtAAf_Oar4W",
    "outputId": "6ba1c93b-2b50-485d-c0a2-7bfa342ae87f"
   },
   "outputs": [
    {
     "data": {
      "text/html": [
       "<div>\n",
       "<style scoped>\n",
       "    .dataframe tbody tr th:only-of-type {\n",
       "        vertical-align: middle;\n",
       "    }\n",
       "\n",
       "    .dataframe tbody tr th {\n",
       "        vertical-align: top;\n",
       "    }\n",
       "\n",
       "    .dataframe thead th {\n",
       "        text-align: right;\n",
       "    }\n",
       "</style>\n",
       "<table border=\"1\" class=\"dataframe\">\n",
       "  <thead>\n",
       "    <tr style=\"text-align: right;\">\n",
       "      <th>Sobrenome</th>\n",
       "      <th>Bonnell</th>\n",
       "      <th>Cumings</th>\n",
       "      <th>Futrelle</th>\n",
       "      <th>McCarthy</th>\n",
       "      <th>Sandstrom</th>\n",
       "    </tr>\n",
       "    <tr>\n",
       "      <th>Cabin</th>\n",
       "      <th></th>\n",
       "      <th></th>\n",
       "      <th></th>\n",
       "      <th></th>\n",
       "      <th></th>\n",
       "    </tr>\n",
       "  </thead>\n",
       "  <tbody>\n",
       "    <tr>\n",
       "      <th>C103</th>\n",
       "      <td>1</td>\n",
       "      <td>0</td>\n",
       "      <td>0</td>\n",
       "      <td>0</td>\n",
       "      <td>0</td>\n",
       "    </tr>\n",
       "    <tr>\n",
       "      <th>C123</th>\n",
       "      <td>0</td>\n",
       "      <td>0</td>\n",
       "      <td>1</td>\n",
       "      <td>0</td>\n",
       "      <td>0</td>\n",
       "    </tr>\n",
       "    <tr>\n",
       "      <th>C85</th>\n",
       "      <td>0</td>\n",
       "      <td>1</td>\n",
       "      <td>0</td>\n",
       "      <td>0</td>\n",
       "      <td>0</td>\n",
       "    </tr>\n",
       "    <tr>\n",
       "      <th>E46</th>\n",
       "      <td>0</td>\n",
       "      <td>0</td>\n",
       "      <td>0</td>\n",
       "      <td>1</td>\n",
       "      <td>0</td>\n",
       "    </tr>\n",
       "    <tr>\n",
       "      <th>G6</th>\n",
       "      <td>0</td>\n",
       "      <td>0</td>\n",
       "      <td>0</td>\n",
       "      <td>0</td>\n",
       "      <td>1</td>\n",
       "    </tr>\n",
       "  </tbody>\n",
       "</table>\n",
       "</div>"
      ],
      "text/plain": [
       "Sobrenome  Bonnell  Cumings  Futrelle  McCarthy  Sandstrom\n",
       "Cabin                                                     \n",
       "C103             1        0         0         0          0\n",
       "C123             0        0         1         0          0\n",
       "C85              0        1         0         0          0\n",
       "E46              0        0         0         1          0\n",
       "G6               0        0         0         0          1"
      ]
     },
     "execution_count": 22,
     "metadata": {},
     "output_type": "execute_result"
    }
   ],
   "source": [
    "pandas.crosstab(titanic[\"Cabin\"], titanic[\"Sobrenome\"]).head(10)"
   ]
  },
  {
   "cell_type": "markdown",
   "metadata": {
    "colab_type": "text",
    "id": "APaHiOIKa_04"
   },
   "source": [
    "Nós conseguimos fazer operações em uma `crosstab`, como por exemplo somar a quantidade de famílias (sobrenomes diferentes) em uma cabine."
   ]
  },
  {
   "cell_type": "code",
   "execution_count": 23,
   "metadata": {
    "colab": {
     "base_uri": "https://localhost:8080/",
     "height": 238
    },
    "colab_type": "code",
    "id": "XTMKexbpbFeX",
    "outputId": "4dc1e096-8572-463f-8144-ee9b03d88fea"
   },
   "outputs": [
    {
     "data": {
      "text/plain": [
       "Cabin\n",
       "C103    1\n",
       "C123    1\n",
       "C85     1\n",
       "E46     1\n",
       "G6      1\n",
       "dtype: int64"
      ]
     },
     "execution_count": 23,
     "metadata": {},
     "output_type": "execute_result"
    }
   ],
   "source": [
    "tabela_frequencia_cabine_sobrenome = pandas.crosstab(titanic[\"Cabin\"], titanic[\"Sobrenome\"])\n",
    "\n",
    "(tabela_frequencia_cabine_sobrenome > 0).sum(axis=1)"
   ]
  },
  {
   "cell_type": "markdown",
   "metadata": {
    "colab_type": "text",
    "id": "kflbRcc1bbws"
   },
   "source": [
    "Usamos o `axis=1` para somar as famílias por cabine.\n",
    "\n",
    "Podemos ordenar para ver as cabines com mais famílias."
   ]
  },
  {
   "cell_type": "code",
   "execution_count": 24,
   "metadata": {
    "colab": {
     "base_uri": "https://localhost:8080/",
     "height": 136
    },
    "colab_type": "code",
    "id": "0B1a2wSreDQG",
    "outputId": "9cc95ea4-ff78-44d7-c09c-405e84140b50"
   },
   "outputs": [
    {
     "data": {
      "text/plain": [
       "Cabin\n",
       "G6      1\n",
       "E46     1\n",
       "C85     1\n",
       "C123    1\n",
       "C103    1\n",
       "dtype: int64"
      ]
     },
     "execution_count": 24,
     "metadata": {},
     "output_type": "execute_result"
    }
   ],
   "source": [
    "familias_diferentes_por_cabine = (tabela_frequencia_cabine_sobrenome > 0).sum(axis=1)\n",
    "familias_diferentes_por_cabine.sort_values(ascending=False).head()"
   ]
  },
  {
   "cell_type": "markdown",
   "metadata": {
    "colab_type": "text",
    "id": "UYpCA2fobqyp"
   },
   "source": [
    "Se quisermos inverter e usar como eixo as famílias basta usar o `axis=0`"
   ]
  },
  {
   "cell_type": "code",
   "execution_count": 25,
   "metadata": {
    "colab": {
     "base_uri": "https://localhost:8080/",
     "height": 136
    },
    "colab_type": "code",
    "id": "NlVsRNjneDQI",
    "outputId": "f35b22b0-b1c6-47e8-bfe7-fea01ace3463"
   },
   "outputs": [
    {
     "data": {
      "text/plain": [
       "Sobrenome\n",
       "Sandstrom    1\n",
       "McCarthy     1\n",
       "Futrelle     1\n",
       "Cumings      1\n",
       "Bonnell      1\n",
       "dtype: int64"
      ]
     },
     "execution_count": 25,
     "metadata": {},
     "output_type": "execute_result"
    }
   ],
   "source": [
    "cabines_diferentes_por_familia = (tabela_frequencia_cabine_sobrenome > 0).sum(axis=0)\n",
    "cabines_diferentes_por_familia.sort_values(ascending=False).head()"
   ]
  },
  {
   "cell_type": "code",
   "execution_count": null,
   "metadata": {
    "colab": {},
    "colab_type": "code",
    "collapsed": true,
    "id": "krkxENtPbiqO"
   },
   "outputs": [],
   "source": []
  }
 ],
 "metadata": {
  "colab": {
   "collapsed_sections": [],
   "name": "3-Pandas_Categorias_String_Freq",
   "provenance": []
  },
  "kernelspec": {
   "display_name": "conda_python3",
   "language": "python",
   "name": "conda_python3"
  },
  "language_info": {
   "codemirror_mode": {
    "name": "ipython",
    "version": 3
   },
   "file_extension": ".py",
   "mimetype": "text/x-python",
   "name": "python",
   "nbconvert_exporter": "python",
   "pygments_lexer": "ipython3",
   "version": "3.6.10"
  }
 },
 "nbformat": 4,
 "nbformat_minor": 1
}
